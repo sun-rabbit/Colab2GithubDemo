{
  "cells": [
    {
      "cell_type": "markdown",
      "metadata": {
        "id": "view-in-github",
        "colab_type": "text"
      },
      "source": [
        "<a href=\"https://colab.research.google.com/github/sun-rabbit/Colab2GithubDemo/blob/main/torchaudio_tutorial.ipynb\" target=\"_parent\"><img src=\"https://colab.research.google.com/assets/colab-badge.svg\" alt=\"Open In Colab\"/></a>"
      ]
    },
    {
      "cell_type": "code",
      "execution_count": null,
      "metadata": {
        "id": "EG3PmCvfSPHg"
      },
      "outputs": [],
      "source": [
        "%matplotlib inline"
      ]
    },
    {
      "cell_type": "markdown",
      "metadata": {
        "id": "l7NUVh7qSPHj"
      },
      "source": [
        "\n",
        "# Speech Command Classification with torchaudio\n",
        "\n",
        "This tutorial will show you how to correctly format an audio dataset and\n",
        "then train/test an audio classifier network on the dataset.\n",
        "\n",
        "Colab has GPU option available. In the menu tabs, select “Runtime” then\n",
        "“Change runtime type”. In the pop-up that follows, you can choose GPU.\n",
        "After the change, your runtime should automatically restart (which means\n",
        "information from executed cells disappear).\n",
        "\n",
        "First, let’s import the common torch packages such as\n",
        "[torchaudio](https://github.com/pytorch/audio)_ that can be installed\n",
        "by following the instructions on the website.\n"
      ]
    },
    {
      "cell_type": "code",
      "execution_count": null,
      "metadata": {
        "id": "eUyEbSctSPHl"
      },
      "outputs": [],
      "source": [
        "# Uncomment the line corresponding to your \"runtime type\" to run in Google Colab\n",
        "\n",
        "# CPU:\n",
        "# !pip install pydub torch==1.7.0+cpu torchvision==0.8.1+cpu torchaudio==0.7.0 -f https://download.pytorch.org/whl/torch_stable.html\n",
        "\n",
        "# GPU:\n",
        "# !pip install pydub torch==1.7.0+cu101 torchvision==0.8.1+cu101 torchaudio==0.7.0 -f https://download.pytorch.org/whl/torch_stable.html\n",
        "\n",
        "import torch\n",
        "import torch.nn as nn\n",
        "import torch.nn.functional as F\n",
        "import torch.optim as optim\n",
        "import torchaudio\n",
        "import sys\n",
        "\n",
        "import matplotlib.pyplot as plt\n",
        "import IPython.display as ipd\n",
        "\n",
        "from tqdm import tqdm"
      ]
    },
    {
      "cell_type": "markdown",
      "metadata": {
        "id": "P0k0GBOaSPHm"
      },
      "source": [
        "Let’s check if a CUDA GPU is available and select our device. Running\n",
        "the network on a GPU will greatly decrease the training/testing runtime.\n",
        "\n",
        "\n"
      ]
    },
    {
      "cell_type": "code",
      "execution_count": null,
      "metadata": {
        "colab": {
          "base_uri": "https://localhost:8080/"
        },
        "id": "OW9l9rsVSPHm",
        "outputId": "67411eeb-e6b8-4431-90b2-1117054d5e0c"
      },
      "outputs": [
        {
          "output_type": "stream",
          "name": "stdout",
          "text": [
            "cpu\n"
          ]
        }
      ],
      "source": [
        "device = torch.device(\"cuda\" if torch.cuda.is_available() else \"cpu\")\n",
        "print(device)"
      ]
    },
    {
      "cell_type": "markdown",
      "metadata": {
        "id": "NzzkWcEoSPHm"
      },
      "source": [
        "## Importing the Dataset\n",
        "\n",
        "We use torchaudio to download and represent the dataset. Here we use\n",
        "[SpeechCommands](https://arxiv.org/abs/1804.03209)_, which is a\n",
        "datasets of 35 commands spoken by different people. The dataset\n",
        "``SPEECHCOMMANDS`` is a ``torch.utils.data.Dataset`` version of the\n",
        "dataset. In this dataset, all audio files are about 1 second long (and\n",
        "so about 16000 time frames long).\n",
        "\n",
        "The actual loading and formatting steps happen when a data point is\n",
        "being accessed, and torchaudio takes care of converting the audio files\n",
        "to tensors. If one wants to load an audio file directly instead,\n",
        "``torchaudio.load()`` can be used. It returns a tuple containing the\n",
        "newly created tensor along with the sampling frequency of the audio file\n",
        "(16kHz for SpeechCommands).\n",
        "\n",
        "Going back to the dataset, here we create a subclass that splits it into\n",
        "standard training, validation, testing subsets.\n",
        "\n",
        "\n"
      ]
    },
    {
      "cell_type": "code",
      "execution_count": null,
      "metadata": {
        "id": "vmm0biF4SPHn"
      },
      "outputs": [],
      "source": [
        "from torchaudio.datasets import SPEECHCOMMANDS\n",
        "import os\n",
        "\n",
        "\n",
        "class SubsetSC(SPEECHCOMMANDS):\n",
        "    def __init__(self, subset: str = None):\n",
        "        super().__init__(\"./\", download=True)\n",
        "\n",
        "        def load_list(filename):\n",
        "            filepath = os.path.join(self._path, filename)\n",
        "            with open(filepath) as fileobj:\n",
        "                return [os.path.normpath(os.path.join(self._path, line.strip())) for line in fileobj]\n",
        "                # Python中的方法用于规范化指定的路径。在路径规范化过程中，所有冗余分隔符和up-level引用均折叠\n",
        "        if subset == \"validation\":  #验证集\n",
        "            self._walker = load_list(\"validation_list.txt\")\n",
        "        elif subset == \"testing\":\n",
        "            self._walker = load_list(\"testing_list.txt\")\n",
        "        elif subset == \"training\":\n",
        "            excludes = load_list(\"validation_list.txt\") + load_list(\"testing_list.txt\")\n",
        "            excludes = set(excludes)\n",
        "            self._walker = [w for w in self._walker if w not in excludes]\n",
        "\n",
        "\n",
        "# Create training and testing split of the data. We do not use validation in this tutorial.\n",
        "train_set = SubsetSC(\"training\")\n",
        "test_set = SubsetSC(\"testing\")\n",
        "\n",
        "waveform, sample_rate, label, speaker_id, utterance_number = train_set[0]   #utterance_number。发声次数"
      ]
    },
    {
      "cell_type": "markdown",
      "metadata": {
        "id": "QZJURKxYSPHo"
      },
      "source": [
        "A data point in the SPEECHCOMMANDS dataset is a tuple made of a waveform\n",
        "(the audio signal), the sample rate, the utterance (label), the ID of\n",
        "the speaker, the number of the utterance.\n",
        "\n",
        "\n"
      ]
    },
    {
      "cell_type": "code",
      "execution_count": null,
      "metadata": {
        "colab": {
          "base_uri": "https://localhost:8080/",
          "height": 300
        },
        "id": "TdnEjA7xSPHp",
        "outputId": "fa0b1278-be95-4de1-b69f-c2ba76b32630"
      },
      "outputs": [
        {
          "output_type": "stream",
          "name": "stdout",
          "text": [
            "Shape of waveform: torch.Size([1, 16000])\n",
            "Sample rate of waveform: 16000\n"
          ]
        },
        {
          "output_type": "display_data",
          "data": {
            "text/plain": [
              "<Figure size 432x288 with 1 Axes>"
            ],
            "image/png": "[encoded data removed]"
          },
          "metadata": {
            "needs_background": "light"
          }
        }
      ],
      "source": [
        "print(\"Shape of waveform: {}\".format(waveform.size()))\n",
        "print(\"Sample rate of waveform: {}\".format(sample_rate))\n",
        "\n",
        "plt.plot(waveform.t().numpy());"
      ]
    },
    {
      "cell_type": "markdown",
      "metadata": {
        "id": "TsJf97iSSPHp"
      },
      "source": [
        "Let’s find the list of labels available in the dataset.\n",
        "\n",
        "\n"
      ]
    },
    {
      "cell_type": "code",
      "execution_count": null,
      "metadata": {
        "colab": {
          "base_uri": "https://localhost:8080/"
        },
        "id": "tmpCa42PSPHq",
        "outputId": "75aedcaf-dd51-4015-a85a-473d68ba13cf"
      },
      "outputs": [
        {
          "output_type": "execute_result",
          "data": {
            "text/plain": [
              "['backward',\n",
              " 'bed',\n",
              " 'bird',\n",
              " 'cat',\n",
              " 'dog',\n",
              " 'down',\n",
              " 'eight',\n",
              " 'five',\n",
              " 'follow',\n",
              " 'forward',\n",
              " 'four',\n",
              " 'go',\n",
              " 'happy',\n",
              " 'house',\n",
              " 'learn',\n",
              " 'left',\n",
              " 'marvin',\n",
              " 'nine',\n",
              " 'no',\n",
              " 'off',\n",
              " 'on',\n",
              " 'one',\n",
              " 'right',\n",
              " 'seven',\n",
              " 'sheila',\n",
              " 'six',\n",
              " 'stop',\n",
              " 'three',\n",
              " 'tree',\n",
              " 'two',\n",
              " 'up',\n",
              " 'visual',\n",
              " 'wow',\n",
              " 'yes',\n",
              " 'zero']"
            ]
          },
          "metadata": {},
          "execution_count": 45
        }
      ],
      "source": [
        "labels = sorted(list(set(datapoint[2] for datapoint in train_set)))\n",
        "labels"
      ]
    },
    {
      "cell_type": "markdown",
      "metadata": {
        "id": "_0KT7PVNSPHq"
      },
      "source": [
        "The 35 audio labels are commands that are said by users. The first few\n",
        "files are people saying “marvin”.\n",
        "\n",
        "\n"
      ]
    },
    {
      "cell_type": "code",
      "execution_count": null,
      "metadata": {
        "colab": {
          "base_uri": "https://localhost:8080/",
          "height": 75
        },
        "id": "piWA4bgLSPHq",
        "outputId": "2bc1e061-a3c1-4e2c-d357-b94d8758c70e"
      },
      "outputs": [
        {
          "output_type": "execute_result",
          "data": {
            "text/plain": [
              "<IPython.lib.display.Audio object>"
            ],
            "text/html": [
              "\n",
              "                <audio  controls=\"controls\" >\n",
              "                    <source src=\"data:audio/wav;base64,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\" type=\"audio/wav\" />\n",
              "                    Your browser does not support the audio element.\n",
              "                </audio>\n",
              "              "
            ]
          },
          "metadata": {},
          "execution_count": 46
        }
      ],
      "source": [
        "waveform_first, *_ = train_set[0]\n",
        "ipd.Audio(waveform_first.numpy(), rate=sample_rate)\n",
        "\n",
        "waveform_second, *_ = train_set[1]\n",
        "ipd.Audio(waveform_second.numpy(), rate=sample_rate)"
      ]
    },
    {
      "cell_type": "markdown",
      "metadata": {
        "id": "uY48wNzLSPHq"
      },
      "source": [
        "The last file is someone saying “visual”.\n",
        "\n",
        "\n"
      ]
    },
    {
      "cell_type": "code",
      "execution_count": null,
      "metadata": {
        "colab": {
          "base_uri": "https://localhost:8080/",
          "height": 92
        },
        "id": "hvBw8vTKSPHr",
        "outputId": "b5fc6e52-9990-4813-c9f9-006601cd5f8a"
      },
      "outputs": [
        {
          "output_type": "stream",
          "name": "stdout",
          "text": [
            "16000 zero fffcabd1 0\n"
          ]
        },
        {
          "output_type": "execute_result",
          "data": {
            "text/plain": [
              "<IPython.lib.display.Audio object>"
            ],
            "text/html": [
              "\n",
              "                <audio  controls=\"controls\" >\n",
              "                    <source src=\"data:audio/wav;base64,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\" type=\"audio/wav\" />\n",
              "                    Your browser does not support the audio element.\n",
              "                </audio>\n",
              "              "
            ]
          },
          "metadata": {},
          "execution_count": 47
        }
      ],
      "source": [
        "waveform_last, *_ = train_set[-1]\n",
        "print(*_)\n",
        "ipd.Audio(waveform_last.numpy(), rate=sample_rate)"
      ]
    },
    {
      "cell_type": "markdown",
      "metadata": {
        "id": "M84vkikZSPHr"
      },
      "source": [
        "## Formatting the Data\n",
        "\n",
        "This is a good place to apply transformations to the data. For the\n",
        "waveform, we downsample the audio for faster processing without losing\n",
        "too much of the classification power.\n",
        "\n",
        "We don’t need to apply other transformations here. It is common for some\n",
        "datasets though to have to reduce the number of channels (say from\n",
        "stereo to mono) by either taking the mean along the channel dimension,\n",
        "or simply keeping only one of the channels. Since SpeechCommands uses a\n",
        "single channel for audio, this is not needed here.\n",
        "\n",
        "\n"
      ]
    },
    {
      "cell_type": "code",
      "execution_count": null,
      "metadata": {
        "colab": {
          "base_uri": "https://localhost:8080/",
          "height": 75
        },
        "id": "du0hgE7rSPHr",
        "outputId": "e3b46178-606d-44d9-87bf-97d8c879678a"
      },
      "outputs": [
        {
          "output_type": "execute_result",
          "data": {
            "text/plain": [
              "<IPython.lib.display.Audio object>"
            ],
            "text/html": [
              "\n",
              "                <audio  controls=\"controls\" >\n",
              "                    <source src=\"data:audio/wav;base64,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\" type=\"audio/wav\" />\n",
              "                    Your browser does not support the audio element.\n",
              "                </audio>\n",
              "              "
            ]
          },
          "metadata": {},
          "execution_count": 48
        }
      ],
      "source": [
        "new_sample_rate = 8000\n",
        "transform = torchaudio.transforms.Resample(orig_freq=sample_rate, new_freq=new_sample_rate)\n",
        "transformed = transform(waveform)\n",
        "\n",
        "ipd.Audio(transformed.numpy(), rate=new_sample_rate)"
      ]
    },
    {
      "cell_type": "markdown",
      "metadata": {
        "id": "STiACDEXSPHr"
      },
      "source": [
        "We are encoding each word using its index in the list of labels.\n",
        "\n",
        "\n"
      ]
    },
    {
      "cell_type": "code",
      "execution_count": null,
      "metadata": {
        "colab": {
          "base_uri": "https://localhost:8080/"
        },
        "id": "y0jVhR_-SPHr",
        "outputId": "640c4b3e-a96e-40d2-c839-d3bf96bca554"
      },
      "outputs": [
        {
          "output_type": "stream",
          "name": "stdout",
          "text": [
            "yes --> tensor(33) --> yes\n"
          ]
        }
      ],
      "source": [
        "def label_to_index(word):\n",
        "    # Return the position of the word in labels\n",
        "    return torch.tensor(labels.index(word))\n",
        "\n",
        "\n",
        "def index_to_label(index):\n",
        "    # Return the word corresponding to the index in labels\n",
        "    # This is the inverse of label_to_index\n",
        "    return labels[index]\n",
        "\n",
        "\n",
        "word_start = \"yes\"\n",
        "index = label_to_index(word_start)\n",
        "word_recovered = index_to_label(index)\n",
        "\n",
        "print(word_start, \"-->\", index, \"-->\", word_recovered)"
      ]
    },
    {
      "cell_type": "markdown",
      "metadata": {
        "id": "qB0e8OUxSPHs"
      },
      "source": [
        "To turn a list of data point made of audio recordings and utterances\n",
        "into two batched tensors for the model, we implement a collate function\n",
        "which is used by the PyTorch DataLoader that allows us to iterate over a\n",
        "dataset by batches. Please see [the\n",
        "documentation](https://pytorch.org/docs/stable/data.html#working-with-collate-fn)_\n",
        "for more information about working with a collate function.\n",
        "\n",
        "In the collate function, we also apply the resampling, and the text\n",
        "encoding.\n",
        "\n",
        "\n"
      ]
    },
    {
      "cell_type": "code",
      "execution_count": null,
      "metadata": {
        "id": "ltAUdj4NSPHs"
      },
      "outputs": [],
      "source": [
        "def pad_sequence(batch):\n",
        "    # Make all tensor in a batch the same length by padding with zeros\n",
        "    batch = [item.t() for item in batch]\n",
        "    batch = torch.nn.utils.rnn.pad_sequence(batch, batch_first=True, padding_value=0.)\n",
        "    return batch.permute(0, 2, 1)\n",
        "\n",
        "\n",
        "def collate_fn(batch):\n",
        "\n",
        "    # A data tuple has the form:\n",
        "    # waveform, sample_rate, label, speaker_id, utterance_number\n",
        "\n",
        "    tensors, targets = [], []\n",
        "\n",
        "    # Gather in lists, and encode labels as indices\n",
        "    for waveform, _, label, *_ in batch:\n",
        "        tensors += [waveform]\n",
        "        targets += [label_to_index(label)]\n",
        "\n",
        "    # Group the list of tensors into a batched tensor\n",
        "    tensors = pad_sequence(tensors)\n",
        "    targets = torch.stack(targets)\n",
        "\n",
        "    return tensors, targets\n",
        "\n",
        "\n",
        "batch_size = 256\n",
        "\n",
        "if device == \"cuda\":\n",
        "    num_workers = 1\n",
        "    pin_memory = True\n",
        "else:\n",
        "    num_workers = 0\n",
        "    pin_memory = False\n",
        "\n",
        "train_loader = torch.utils.data.DataLoader(\n",
        "    train_set,\n",
        "    batch_size=batch_size,\n",
        "    shuffle=True,\n",
        "    collate_fn=collate_fn,\n",
        "    num_workers=num_workers,\n",
        "    pin_memory=pin_memory,\n",
        ")\n",
        "test_loader = torch.utils.data.DataLoader(\n",
        "    test_set,\n",
        "    batch_size=batch_size,\n",
        "    shuffle=False,\n",
        "    drop_last=False,\n",
        "    collate_fn=collate_fn,\n",
        "    num_workers=num_workers,\n",
        "    pin_memory=pin_memory,\n",
        ")"
      ]
    },
    {
      "cell_type": "markdown",
      "metadata": {
        "id": "fh7A5jBgSPHs"
      },
      "source": [
        "## Define the Network\n",
        "\n",
        "For this tutorial we will use a convolutional neural network to process\n",
        "the raw audio data. Usually more advanced transforms are applied to the\n",
        "audio data, however CNNs can be used to accurately process the raw data.\n",
        "The specific architecture is modeled after the M5 network architecture\n",
        "described in [this paper](https://arxiv.org/pdf/1610.00087.pdf)_. An\n",
        "important aspect of models processing raw audio data is the receptive\n",
        "field of their first layer’s filters. Our model’s first filter is length\n",
        "80 so when processing audio sampled at 8kHz the receptive field is\n",
        "around 10ms (and at 4kHz, around 20 ms). This size is similar to speech\n",
        "processing applications that often use receptive fields ranging from\n",
        "20ms to 40ms.\n",
        "\n",
        "\n"
      ]
    },
    {
      "cell_type": "code",
      "execution_count": null,
      "metadata": {
        "colab": {
          "base_uri": "https://localhost:8080/"
        },
        "id": "J_XvXfoTSPHs",
        "outputId": "5d31d001-d051-433b-983d-0753fed874dc"
      },
      "outputs": [
        {
          "output_type": "stream",
          "name": "stdout",
          "text": [
            "M5(\n",
            "  (conv1): Conv1d(1, 32, kernel_size=(80,), stride=(16,))\n",
            "  (bn1): BatchNorm1d(32, eps=1e-05, momentum=0.1, affine=True, track_running_stats=True)\n",
            "  (pool1): MaxPool1d(kernel_size=4, stride=4, padding=0, dilation=1, ceil_mode=False)\n",
            "  (conv2): Conv1d(32, 32, kernel_size=(3,), stride=(1,))\n",
            "  (bn2): BatchNorm1d(32, eps=1e-05, momentum=0.1, affine=True, track_running_stats=True)\n",
            "  (pool2): MaxPool1d(kernel_size=4, stride=4, padding=0, dilation=1, ceil_mode=False)\n",
            "  (conv3): Conv1d(32, 64, kernel_size=(3,), stride=(1,))\n",
            "  (bn3): BatchNorm1d(64, eps=1e-05, momentum=0.1, affine=True, track_running_stats=True)\n",
            "  (pool3): MaxPool1d(kernel_size=4, stride=4, padding=0, dilation=1, ceil_mode=False)\n",
            "  (conv4): Conv1d(64, 64, kernel_size=(3,), stride=(1,))\n",
            "  (bn4): BatchNorm1d(64, eps=1e-05, momentum=0.1, affine=True, track_running_stats=True)\n",
            "  (pool4): MaxPool1d(kernel_size=4, stride=4, padding=0, dilation=1, ceil_mode=False)\n",
            "  (fc1): Linear(in_features=64, out_features=35, bias=True)\n",
            ")\n",
            "Number of parameters: 26915\n"
          ]
        }
      ],
      "source": [
        "class M5(nn.Module):\n",
        "    def __init__(self, n_input=1, n_output=35, stride=16, n_channel=32):\n",
        "        super().__init__()\n",
        "        self.conv1 = nn.Conv1d(n_input, n_channel, kernel_size=80, stride=stride)\n",
        "        self.bn1 = nn.BatchNorm1d(n_channel)\n",
        "        self.pool1 = nn.MaxPool1d(4)\n",
        "        self.conv2 = nn.Conv1d(n_channel, n_channel, kernel_size=3)\n",
        "        self.bn2 = nn.BatchNorm1d(n_channel)\n",
        "        self.pool2 = nn.MaxPool1d(4)\n",
        "        self.conv3 = nn.Conv1d(n_channel, 2 * n_channel, kernel_size=3)\n",
        "        self.bn3 = nn.BatchNorm1d(2 * n_channel)\n",
        "        self.pool3 = nn.MaxPool1d(4)\n",
        "        self.conv4 = nn.Conv1d(2 * n_channel, 2 * n_channel, kernel_size=3)\n",
        "        self.bn4 = nn.BatchNorm1d(2 * n_channel)\n",
        "        self.pool4 = nn.MaxPool1d(4)\n",
        "        self.fc1 = nn.Linear(2 * n_channel, n_output)\n",
        "\n",
        "    def forward(self, x):  #定义前向传播过程\n",
        "        x = self.conv1(x) #将x输入卷积中\n",
        "        x = F.relu(self.bn1(x))\n",
        "        x = self.pool1(x)\n",
        "        x = self.conv2(x)\n",
        "        x = F.relu(self.bn2(x))\n",
        "        x = self.pool2(x)\n",
        "        x = self.conv3(x)\n",
        "        x = F.relu(self.bn3(x))\n",
        "        x = self.pool3(x)\n",
        "        x = self.conv4(x)\n",
        "        x = F.relu(self.bn4(x))\n",
        "        x = self.pool4(x)\n",
        "        # print(x.shape,'-----')\n",
        "        x = F.avg_pool1d(x, int(x.shape[-1]))\n",
        "        # x = F.avg_pool1d(x, 1)\n",
        "        # x = F.avg_pool1d(x,8000)\n",
        "        x = x.permute(0, 2, 1)\n",
        "        x = self.fc1(x)\n",
        "        return F.log_softmax(x, dim=2)\n",
        "\n",
        "\n",
        "model = M5(n_input=transformed.shape[0], n_output=len(labels))\n",
        "model.to(device)\n",
        "print(model)\n",
        "\n",
        "\n",
        "\n",
        "def count_parameters(model):\n",
        "    return sum(p.numel() for p in model.parameters() if p.requires_grad)\n",
        "\n",
        "\n",
        "n = count_parameters(model)\n",
        "print(\"Number of parameters: %s\" % n)"
      ]
    },
    {
      "cell_type": "code",
      "source": [
        "print(transformed)"
      ],
      "metadata": {
        "colab": {
          "base_uri": "https://localhost:8080/"
        },
        "id": "v5TotoQxif_P",
        "outputId": "5b9e149a-816d-465b-88e3-c15bf22d6550"
      },
      "execution_count": null,
      "outputs": [
        {
          "output_type": "stream",
          "name": "stdout",
          "text": [
            "tensor([[-0.0501, -0.0796, -0.0794,  ..., -0.0717, -0.0701, -0.0755]])\n"
          ]
        }
      ]
    },
    {
      "cell_type": "markdown",
      "metadata": {
        "id": "0J1Y1-kVSPHt"
      },
      "source": [
        "We will use the same optimization technique used in the paper, an Adam\n",
        "optimizer with weight decay set to 0.0001. At first, we will train with\n",
        "a learning rate of 0.01, but we will use a ``scheduler`` to decrease it\n",
        "to 0.001 during training after 20 epochs.\n",
        "\n",
        "\n"
      ]
    },
    {
      "cell_type": "code",
      "execution_count": null,
      "metadata": {
        "id": "xt09pVjASPHt"
      },
      "outputs": [],
      "source": [
        "optimizer = optim.Adam(model.parameters(), lr=0.01, weight_decay=0.0001)\n",
        "# scheduler = optim.lr_scheduler.StepLR(optimizer, step_size=20, gamma=0.1)  # reduce the learning after 20 epochs by a factor of 10\n",
        "scheduler = optim.lr_scheduler.CosineAnnealingLR(optimizer, T_max=150, eta_min=0)"
      ]
    },
    {
      "cell_type": "markdown",
      "metadata": {
        "id": "QN8cfMb8SPHt"
      },
      "source": [
        "## Training and Testing the Network\n",
        "\n",
        "Now let’s define a training function that will feed our training data\n",
        "into the model and perform the backward pass and optimization steps. For\n",
        "training, the loss we will use is the negative log-likelihood. The\n",
        "network will then be tested after each epoch to see how the accuracy\n",
        "varies during the training.\n",
        "\n",
        "\n"
      ]
    },
    {
      "cell_type": "code",
      "execution_count": null,
      "metadata": {
        "id": "4FknSFS7SPHt"
      },
      "outputs": [],
      "source": [
        "def train(model, epoch, log_interval):\n",
        "    model.train()\n",
        "    for batch_idx, (data, target) in enumerate(train_loader):\n",
        "\n",
        "        data = data.to(device)\n",
        "        target = target.to(device)\n",
        "\n",
        "        # apply transform and model on whole batch directly on device\n",
        "        data = transform(data)\n",
        "        output = model(data)\n",
        "        #查看数据维度\n",
        "        # print(data.size(),'----')\n",
        "        #在转换onnx里面会用到这个纬度\n",
        "\n",
        "        # negative log-likelihood for a tensor of size (batch x 1 x n_output)\n",
        "        loss = F.nll_loss(output.squeeze(), target)\n",
        "\n",
        "        optimizer.zero_grad()\n",
        "        loss.backward()\n",
        "        optimizer.step()\n",
        "\n",
        "        # print training stats\n",
        "        if batch_idx % log_interval == 0:\n",
        "            print(f\"Train Epoch: {epoch} [{batch_idx * len(data)}/{len(train_loader.dataset)} ({100. * batch_idx / len(train_loader):.0f}%)]\\tLoss: {loss.item():.6f}\")\n",
        "            #训练时保存模型\n",
        "            torch.save(model,\"M5.pth\")\n",
        "        # update progress bar\n",
        "        pbar.update(pbar_update)\n",
        "        # record loss\n",
        "        losses.append(loss.item())"
      ]
    },
    {
      "cell_type": "markdown",
      "metadata": {
        "id": "NJpPoLnsSPHt"
      },
      "source": [
        "Now that we have a training function, we need to make one for testing\n",
        "the networks accuracy. We will set the model to ``eval()`` mode and then\n",
        "run inference on the test dataset. Calling ``eval()`` sets the training\n",
        "variable in all modules in the network to false. Certain layers like\n",
        "batch normalization and dropout layers behave differently during\n",
        "training so this step is crucial for getting correct results.\n",
        "\n",
        "\n"
      ]
    },
    {
      "cell_type": "code",
      "execution_count": null,
      "metadata": {
        "id": "cU27oPsdSPHt"
      },
      "outputs": [],
      "source": [
        "def number_of_correct(pred, target):\n",
        "    # count number of correct predictions\n",
        "    return pred.squeeze().eq(target).sum().item()\n",
        "\n",
        "\n",
        "def get_likely_index(tensor):\n",
        "    # find most likely label index for each element in the batch\n",
        "    return tensor.argmax(dim=-1)\n",
        "\n",
        "\n",
        "def test(model, epoch):\n",
        "    model.eval()\n",
        "    correct = 0\n",
        "    for data, target in test_loader:\n",
        "\n",
        "        data = data.to(device)\n",
        "        target = target.to(device)\n",
        "\n",
        "        # apply transform and model on whole batch directly on device\n",
        "        data = transform(data)\n",
        "        output = model(data)\n",
        "\n",
        "        pred = get_likely_index(output)\n",
        "        correct += number_of_correct(pred, target)\n",
        "\n",
        "        # update progress bar\n",
        "        pbar.update(pbar_update)\n",
        "\n",
        "    print(f\"\\nTest Epoch: {epoch}\\tAccuracy: {correct}/{len(test_loader.dataset)} ({100. * correct / len(test_loader.dataset):.0f}%)\\n\")"
      ]
    },
    {
      "cell_type": "markdown",
      "metadata": {
        "id": "ra_up5YDSPHt"
      },
      "source": [
        "Finally, we can train and test the network. We will train the network\n",
        "for ten epochs then reduce the learn rate and train for ten more epochs.\n",
        "The network will be tested after each epoch to see how the accuracy\n",
        "varies during the training.\n",
        "\n",
        "\n"
      ]
    },
    {
      "cell_type": "code",
      "execution_count": null,
      "metadata": {
        "colab": {
          "base_uri": "https://localhost:8080/"
        },
        "id": "aiMHXmHLSPHu",
        "outputId": "805d08b3-119d-4a7b-a4b1-117a08bf3fda"
      },
      "outputs": [
        {
          "output_type": "stream",
          "name": "stderr",
          "text": [
            "  0%|          | 0.0026666666666666666/30 [00:00<1:31:13, 182.45s/it]"
          ]
        },
        {
          "output_type": "stream",
          "name": "stdout",
          "text": [
            "Train Epoch: 1 [0/84843 (0%)]\tLoss: 0.664053\n"
          ]
        },
        {
          "output_type": "stream",
          "name": "stderr",
          "text": [
            "  0%|          | 0.05599999999999999/30 [00:06<58:51, 117.92s/it]"
          ]
        },
        {
          "output_type": "stream",
          "name": "stdout",
          "text": [
            "Train Epoch: 1 [5120/84843 (6%)]\tLoss: 0.539932\n"
          ]
        },
        {
          "output_type": "stream",
          "name": "stderr",
          "text": [
            "  0%|          | 0.10933333333333328/30 [00:12<57:19, 115.07s/it]"
          ]
        },
        {
          "output_type": "stream",
          "name": "stdout",
          "text": [
            "Train Epoch: 1 [10240/84843 (12%)]\tLoss: 0.732061\n"
          ]
        },
        {
          "output_type": "stream",
          "name": "stderr",
          "text": [
            "  1%|          | 0.16266666666666676/30 [00:18<53:58, 108.53s/it]"
          ]
        },
        {
          "output_type": "stream",
          "name": "stdout",
          "text": [
            "Train Epoch: 1 [15360/84843 (18%)]\tLoss: 0.822746\n"
          ]
        },
        {
          "output_type": "stream",
          "name": "stderr",
          "text": [
            "  1%|          | 0.21600000000000033/30 [00:24<52:50, 106.46s/it]"
          ]
        },
        {
          "output_type": "stream",
          "name": "stdout",
          "text": [
            "Train Epoch: 1 [20480/84843 (24%)]\tLoss: 0.739248\n"
          ]
        },
        {
          "output_type": "stream",
          "name": "stderr",
          "text": [
            "  1%|          | 0.2693333333333337/30 [00:29<49:52, 100.65s/it] "
          ]
        },
        {
          "output_type": "stream",
          "name": "stdout",
          "text": [
            "Train Epoch: 1 [25600/84843 (30%)]\tLoss: 0.633910\n"
          ]
        },
        {
          "output_type": "stream",
          "name": "stderr",
          "text": [
            "  1%|          | 0.3226666666666667/30 [00:35<49:10, 99.43s/it]  "
          ]
        },
        {
          "output_type": "stream",
          "name": "stdout",
          "text": [
            "Train Epoch: 1 [30720/84843 (36%)]\tLoss: 0.678649\n"
          ]
        },
        {
          "output_type": "stream",
          "name": "stderr",
          "text": [
            "  1%|▏         | 0.3759999999999997/30 [00:40<49:16, 99.79s/it]"
          ]
        },
        {
          "output_type": "stream",
          "name": "stdout",
          "text": [
            "Train Epoch: 1 [35840/84843 (42%)]\tLoss: 0.660819\n"
          ]
        },
        {
          "output_type": "stream",
          "name": "stderr",
          "text": [
            "  1%|▏         | 0.42933333333333273/30 [00:45<48:28, 98.36s/it]"
          ]
        },
        {
          "output_type": "stream",
          "name": "stdout",
          "text": [
            "Train Epoch: 1 [40960/84843 (48%)]\tLoss: 0.636701\n"
          ]
        },
        {
          "output_type": "stream",
          "name": "stderr",
          "text": [
            "  2%|▏         | 0.48266666666666574/30 [00:50<46:06, 93.73s/it]"
          ]
        },
        {
          "output_type": "stream",
          "name": "stdout",
          "text": [
            "Train Epoch: 1 [46080/84843 (54%)]\tLoss: 0.792110\n"
          ]
        },
        {
          "output_type": "stream",
          "name": "stderr",
          "text": [
            "  2%|▏         | 0.5359999999999995/30 [00:55<51:50, 105.57s/it]"
          ]
        },
        {
          "output_type": "stream",
          "name": "stdout",
          "text": [
            "Train Epoch: 1 [51200/84843 (60%)]\tLoss: 0.874255\n"
          ]
        },
        {
          "output_type": "stream",
          "name": "stderr",
          "text": [
            "  2%|▏         | 0.5893333333333336/30 [01:00<43:59, 89.74s/it]"
          ]
        },
        {
          "output_type": "stream",
          "name": "stdout",
          "text": [
            "Train Epoch: 1 [56320/84843 (66%)]\tLoss: 0.562933\n"
          ]
        },
        {
          "output_type": "stream",
          "name": "stderr",
          "text": [
            "  2%|▏         | 0.6426666666666677/30 [01:05<42:12, 86.25s/it]"
          ]
        },
        {
          "output_type": "stream",
          "name": "stdout",
          "text": [
            "Train Epoch: 1 [61440/84843 (72%)]\tLoss: 0.759941\n"
          ]
        },
        {
          "output_type": "stream",
          "name": "stderr",
          "text": [
            "  2%|▏         | 0.6960000000000018/30 [01:09<42:18, 86.62s/it]"
          ]
        },
        {
          "output_type": "stream",
          "name": "stdout",
          "text": [
            "Train Epoch: 1 [66560/84843 (78%)]\tLoss: 0.548321\n"
          ]
        },
        {
          "output_type": "stream",
          "name": "stderr",
          "text": [
            "  2%|▏         | 0.749333333333336/30 [01:14<40:47, 83.67s/it] "
          ]
        },
        {
          "output_type": "stream",
          "name": "stdout",
          "text": [
            "Train Epoch: 1 [71680/84843 (84%)]\tLoss: 0.814062\n"
          ]
        },
        {
          "output_type": "stream",
          "name": "stderr",
          "text": [
            "  3%|▎         | 0.8026666666666701/30 [01:19<43:03, 88.48s/it]"
          ]
        },
        {
          "output_type": "stream",
          "name": "stdout",
          "text": [
            "Train Epoch: 1 [76800/84843 (90%)]\tLoss: 0.667586\n"
          ]
        },
        {
          "output_type": "stream",
          "name": "stderr",
          "text": [
            "  3%|▎         | 0.8560000000000042/30 [01:23<41:48, 86.07s/it]"
          ]
        },
        {
          "output_type": "stream",
          "name": "stdout",
          "text": [
            "Train Epoch: 1 [81920/84843 (96%)]\tLoss: 0.727294\n"
          ]
        },
        {
          "output_type": "stream",
          "name": "stderr",
          "text": [
            "  3%|▎         | 1.0000000000000062/30 [01:32<27:08, 56.16s/it]"
          ]
        },
        {
          "output_type": "stream",
          "name": "stdout",
          "text": [
            "\n",
            "Test Epoch: 1\tAccuracy: 8219/11005 (75%)\n",
            "\n"
          ]
        },
        {
          "output_type": "stream",
          "name": "stderr",
          "text": [
            "\r  3%|▎         | 1.0026666666666728/30 [01:32<30:50, 63.83s/it]"
          ]
        },
        {
          "output_type": "stream",
          "name": "stdout",
          "text": [
            "Train Epoch: 2 [0/84843 (0%)]\tLoss: 0.704476\n"
          ]
        },
        {
          "output_type": "stream",
          "name": "stderr",
          "text": [
            "  4%|▎         | 1.0560000000000047/30 [01:36<37:22, 77.46s/it]"
          ]
        },
        {
          "output_type": "stream",
          "name": "stdout",
          "text": [
            "Train Epoch: 2 [5120/84843 (6%)]\tLoss: 0.710989\n"
          ]
        },
        {
          "output_type": "stream",
          "name": "stderr",
          "text": [
            "  4%|▎         | 1.1093333333333366/30 [01:41<38:22, 79.70s/it]"
          ]
        },
        {
          "output_type": "stream",
          "name": "stdout",
          "text": [
            "Train Epoch: 2 [10240/84843 (12%)]\tLoss: 0.726610\n"
          ]
        },
        {
          "output_type": "stream",
          "name": "stderr",
          "text": [
            "  4%|▍         | 1.1626666666666685/30 [01:45<37:42, 78.45s/it]"
          ]
        },
        {
          "output_type": "stream",
          "name": "stdout",
          "text": [
            "Train Epoch: 2 [15360/84843 (18%)]\tLoss: 0.559449\n"
          ]
        },
        {
          "output_type": "stream",
          "name": "stderr",
          "text": [
            "  4%|▍         | 1.2160000000000004/30 [01:49<36:45, 76.63s/it]"
          ]
        },
        {
          "output_type": "stream",
          "name": "stdout",
          "text": [
            "Train Epoch: 2 [20480/84843 (24%)]\tLoss: 0.547723\n"
          ]
        },
        {
          "output_type": "stream",
          "name": "stderr",
          "text": [
            "  4%|▍         | 1.2693333333333323/30 [01:53<38:03, 79.49s/it]"
          ]
        },
        {
          "output_type": "stream",
          "name": "stdout",
          "text": [
            "Train Epoch: 2 [25600/84843 (30%)]\tLoss: 0.664002\n"
          ]
        },
        {
          "output_type": "stream",
          "name": "stderr",
          "text": [
            "  4%|▍         | 1.3226666666666642/30 [01:58<38:16, 80.09s/it]"
          ]
        },
        {
          "output_type": "stream",
          "name": "stdout",
          "text": [
            "Train Epoch: 2 [30720/84843 (36%)]\tLoss: 0.783025\n"
          ]
        },
        {
          "output_type": "stream",
          "name": "stderr",
          "text": [
            "  5%|▍         | 1.3759999999999961/30 [02:02<36:55, 77.39s/it]"
          ]
        },
        {
          "output_type": "stream",
          "name": "stdout",
          "text": [
            "Train Epoch: 2 [35840/84843 (42%)]\tLoss: 0.743678\n"
          ]
        },
        {
          "output_type": "stream",
          "name": "stderr",
          "text": [
            "  5%|▍         | 1.429333333333328/30 [02:06<37:34, 78.90s/it] "
          ]
        },
        {
          "output_type": "stream",
          "name": "stdout",
          "text": [
            "Train Epoch: 2 [40960/84843 (48%)]\tLoss: 0.754795\n"
          ]
        },
        {
          "output_type": "stream",
          "name": "stderr",
          "text": [
            "  5%|▍         | 1.48266666666666/30 [02:10<37:33, 79.01s/it]  "
          ]
        },
        {
          "output_type": "stream",
          "name": "stdout",
          "text": [
            "Train Epoch: 2 [46080/84843 (54%)]\tLoss: 0.556253\n"
          ]
        },
        {
          "output_type": "stream",
          "name": "stderr",
          "text": [
            "  5%|▌         | 1.5359999999999918/30 [02:15<37:44, 79.56s/it]"
          ]
        },
        {
          "output_type": "stream",
          "name": "stdout",
          "text": [
            "Train Epoch: 2 [51200/84843 (60%)]\tLoss: 0.662288\n"
          ]
        },
        {
          "output_type": "stream",
          "name": "stderr",
          "text": [
            "  5%|▌         | 1.5893333333333237/30 [02:19<36:49, 77.76s/it]"
          ]
        },
        {
          "output_type": "stream",
          "name": "stdout",
          "text": [
            "Train Epoch: 2 [56320/84843 (66%)]\tLoss: 0.587285\n"
          ]
        },
        {
          "output_type": "stream",
          "name": "stderr",
          "text": [
            "  5%|▌         | 1.6426666666666556/30 [02:23<38:21, 81.17s/it]"
          ]
        },
        {
          "output_type": "stream",
          "name": "stdout",
          "text": [
            "Train Epoch: 2 [61440/84843 (72%)]\tLoss: 0.645373\n"
          ]
        },
        {
          "output_type": "stream",
          "name": "stderr",
          "text": [
            "  6%|▌         | 1.6959999999999875/30 [02:27<37:11, 78.85s/it]"
          ]
        },
        {
          "output_type": "stream",
          "name": "stdout",
          "text": [
            "Train Epoch: 2 [66560/84843 (78%)]\tLoss: 0.836801\n"
          ]
        },
        {
          "output_type": "stream",
          "name": "stderr",
          "text": [
            "  6%|▌         | 1.7493333333333194/30 [02:31<36:37, 77.80s/it]"
          ]
        },
        {
          "output_type": "stream",
          "name": "stdout",
          "text": [
            "Train Epoch: 2 [71680/84843 (84%)]\tLoss: 0.601441\n"
          ]
        },
        {
          "output_type": "stream",
          "name": "stderr",
          "text": [
            "  6%|▌         | 1.8026666666666513/30 [02:35<36:36, 77.91s/it]"
          ]
        },
        {
          "output_type": "stream",
          "name": "stdout",
          "text": [
            "Train Epoch: 2 [76800/84843 (90%)]\tLoss: 0.665636\n"
          ]
        },
        {
          "output_type": "stream",
          "name": "stderr",
          "text": [
            "  6%|▌         | 1.8559999999999832/30 [02:40<36:27, 77.72s/it]"
          ]
        },
        {
          "output_type": "stream",
          "name": "stdout",
          "text": [
            "Train Epoch: 2 [81920/84843 (96%)]\tLoss: 0.648086\n"
          ]
        },
        {
          "output_type": "stream",
          "name": "stderr",
          "text": [
            "  7%|▋         | 1.9999999999999793/30 [02:47<22:58, 49.22s/it]"
          ]
        },
        {
          "output_type": "stream",
          "name": "stdout",
          "text": [
            "\n",
            "Test Epoch: 2\tAccuracy: 7764/11005 (71%)\n",
            "\n"
          ]
        },
        {
          "output_type": "stream",
          "name": "stderr",
          "text": [
            "  7%|▋         | 2.0053333333333128/30 [02:48<29:29, 63.21s/it]"
          ]
        },
        {
          "output_type": "stream",
          "name": "stdout",
          "text": [
            "Train Epoch: 3 [0/84843 (0%)]\tLoss: 0.505904\n"
          ]
        },
        {
          "output_type": "stream",
          "name": "stderr",
          "text": [
            "  7%|▋         | 2.0559999999999823/30 [02:52<44:29, 95.52s/it]"
          ]
        },
        {
          "output_type": "stream",
          "name": "stdout",
          "text": [
            "Train Epoch: 3 [5120/84843 (6%)]\tLoss: 0.520983\n"
          ]
        },
        {
          "output_type": "stream",
          "name": "stderr",
          "text": [
            "  7%|▋         | 2.1093333333333186/30 [02:57<36:43, 79.00s/it]"
          ]
        },
        {
          "output_type": "stream",
          "name": "stdout",
          "text": [
            "Train Epoch: 3 [10240/84843 (12%)]\tLoss: 0.560459\n"
          ]
        },
        {
          "output_type": "stream",
          "name": "stderr",
          "text": [
            "  7%|▋         | 2.162666666666655/30 [03:01<36:28, 78.61s/it]"
          ]
        },
        {
          "output_type": "stream",
          "name": "stdout",
          "text": [
            "Train Epoch: 3 [15360/84843 (18%)]\tLoss: 0.529763\n"
          ]
        },
        {
          "output_type": "stream",
          "name": "stderr",
          "text": [
            "  7%|▋         | 2.2159999999999913/30 [03:05<36:44, 79.33s/it]"
          ]
        },
        {
          "output_type": "stream",
          "name": "stdout",
          "text": [
            "Train Epoch: 3 [20480/84843 (24%)]\tLoss: 0.495682\n"
          ]
        },
        {
          "output_type": "stream",
          "name": "stderr",
          "text": [
            "  8%|▊         | 2.2693333333333277/30 [03:09<36:47, 79.59s/it]"
          ]
        },
        {
          "output_type": "stream",
          "name": "stdout",
          "text": [
            "Train Epoch: 3 [25600/84843 (30%)]\tLoss: 0.553371\n"
          ]
        },
        {
          "output_type": "stream",
          "name": "stderr",
          "text": [
            "  8%|▊         | 2.322666666666664/30 [03:13<36:24, 78.93s/it]"
          ]
        },
        {
          "output_type": "stream",
          "name": "stdout",
          "text": [
            "Train Epoch: 3 [30720/84843 (36%)]\tLoss: 0.743769\n"
          ]
        },
        {
          "output_type": "stream",
          "name": "stderr",
          "text": [
            "  8%|▊         | 2.3760000000000003/30 [03:17<36:12, 78.65s/it]"
          ]
        },
        {
          "output_type": "stream",
          "name": "stdout",
          "text": [
            "Train Epoch: 3 [35840/84843 (42%)]\tLoss: 0.691856\n"
          ]
        },
        {
          "output_type": "stream",
          "name": "stderr",
          "text": [
            "  8%|▊         | 2.4320000000000035/30 [03:22<36:59, 80.53s/it]"
          ]
        },
        {
          "output_type": "stream",
          "name": "stdout",
          "text": [
            "Train Epoch: 3 [40960/84843 (48%)]\tLoss: 0.689011\n"
          ]
        },
        {
          "output_type": "stream",
          "name": "stderr",
          "text": [
            "  8%|▊         | 2.482666666666673/30 [03:26<36:31, 79.64s/it]"
          ]
        },
        {
          "output_type": "stream",
          "name": "stdout",
          "text": [
            "Train Epoch: 3 [46080/84843 (54%)]\tLoss: 0.591170\n"
          ]
        },
        {
          "output_type": "stream",
          "name": "stderr",
          "text": [
            "  8%|▊         | 2.5360000000000094/30 [03:30<35:35, 77.74s/it]"
          ]
        },
        {
          "output_type": "stream",
          "name": "stdout",
          "text": [
            "Train Epoch: 3 [51200/84843 (60%)]\tLoss: 0.605574\n"
          ]
        },
        {
          "output_type": "stream",
          "name": "stderr",
          "text": [
            "  9%|▊         | 2.5893333333333457/30 [03:34<34:34, 75.70s/it]"
          ]
        },
        {
          "output_type": "stream",
          "name": "stdout",
          "text": [
            "Train Epoch: 3 [56320/84843 (66%)]\tLoss: 0.593699\n"
          ]
        },
        {
          "output_type": "stream",
          "name": "stderr",
          "text": [
            "  9%|▉         | 2.642666666666682/30 [03:38<35:31, 77.92s/it] "
          ]
        },
        {
          "output_type": "stream",
          "name": "stdout",
          "text": [
            "Train Epoch: 3 [61440/84843 (72%)]\tLoss: 0.608583\n"
          ]
        },
        {
          "output_type": "stream",
          "name": "stderr",
          "text": [
            "  9%|▉         | 2.6960000000000184/30 [03:43<36:45, 80.79s/it]"
          ]
        },
        {
          "output_type": "stream",
          "name": "stdout",
          "text": [
            "Train Epoch: 3 [66560/84843 (78%)]\tLoss: 0.596158\n"
          ]
        },
        {
          "output_type": "stream",
          "name": "stderr",
          "text": [
            "  9%|▉         | 2.7520000000000215/30 [03:47<34:02, 74.96s/it]"
          ]
        },
        {
          "output_type": "stream",
          "name": "stdout",
          "text": [
            "Train Epoch: 3 [71680/84843 (84%)]\tLoss: 0.591750\n"
          ]
        },
        {
          "output_type": "stream",
          "name": "stderr",
          "text": [
            "  9%|▉         | 2.802666666666691/30 [03:51<46:52, 103.41s/it] "
          ]
        },
        {
          "output_type": "stream",
          "name": "stdout",
          "text": [
            "Train Epoch: 3 [76800/84843 (90%)]\tLoss: 0.608109\n"
          ]
        },
        {
          "output_type": "stream",
          "name": "stderr",
          "text": [
            " 10%|▉         | 2.8560000000000274/30 [03:55<34:32, 76.34s/it]"
          ]
        },
        {
          "output_type": "stream",
          "name": "stdout",
          "text": [
            "Train Epoch: 3 [81920/84843 (96%)]\tLoss: 0.671722\n"
          ]
        },
        {
          "output_type": "stream",
          "name": "stderr",
          "text": [
            " 10%|█         | 3.0000000000000355/30 [04:03<22:24, 49.78s/it]"
          ]
        },
        {
          "output_type": "stream",
          "name": "stdout",
          "text": [
            "\n",
            "Test Epoch: 3\tAccuracy: 7735/11005 (70%)\n",
            "\n"
          ]
        },
        {
          "output_type": "stream",
          "name": "stderr",
          "text": [
            "\r 10%|█         | 3.0026666666667023/30 [04:04<26:51, 59.69s/it]"
          ]
        },
        {
          "output_type": "stream",
          "name": "stdout",
          "text": [
            "Train Epoch: 4 [0/84843 (0%)]\tLoss: 0.593353\n"
          ]
        },
        {
          "output_type": "stream",
          "name": "stderr",
          "text": [
            " 10%|█         | 3.0560000000000387/30 [04:08<34:36, 77.08s/it]"
          ]
        },
        {
          "output_type": "stream",
          "name": "stdout",
          "text": [
            "Train Epoch: 4 [5120/84843 (6%)]\tLoss: 0.561329\n"
          ]
        },
        {
          "output_type": "stream",
          "name": "stderr",
          "text": [
            " 10%|█         | 3.109333333333375/30 [04:12<35:41, 79.63s/it]"
          ]
        },
        {
          "output_type": "stream",
          "name": "stdout",
          "text": [
            "Train Epoch: 4 [10240/84843 (12%)]\tLoss: 0.619607\n"
          ]
        },
        {
          "output_type": "stream",
          "name": "stderr",
          "text": [
            " 11%|█         | 3.1626666666667114/30 [04:16<36:01, 80.54s/it]"
          ]
        },
        {
          "output_type": "stream",
          "name": "stdout",
          "text": [
            "Train Epoch: 4 [15360/84843 (18%)]\tLoss: 0.496414\n"
          ]
        },
        {
          "output_type": "stream",
          "name": "stderr",
          "text": [
            " 11%|█         | 3.2160000000000477/30 [04:20<35:03, 78.52s/it]"
          ]
        },
        {
          "output_type": "stream",
          "name": "stdout",
          "text": [
            "Train Epoch: 4 [20480/84843 (24%)]\tLoss: 0.609268\n"
          ]
        },
        {
          "output_type": "stream",
          "name": "stderr",
          "text": [
            " 11%|█         | 3.269333333333384/30 [04:25<35:20, 79.33s/it] "
          ]
        },
        {
          "output_type": "stream",
          "name": "stdout",
          "text": [
            "Train Epoch: 4 [25600/84843 (30%)]\tLoss: 0.671403\n"
          ]
        },
        {
          "output_type": "stream",
          "name": "stderr",
          "text": [
            " 11%|█         | 3.3226666666667204/30 [04:29<34:51, 78.40s/it]"
          ]
        },
        {
          "output_type": "stream",
          "name": "stdout",
          "text": [
            "Train Epoch: 4 [30720/84843 (36%)]\tLoss: 0.489685\n"
          ]
        },
        {
          "output_type": "stream",
          "name": "stderr",
          "text": [
            " 11%|█▏        | 3.3760000000000567/30 [04:33<33:32, 75.60s/it]"
          ]
        },
        {
          "output_type": "stream",
          "name": "stdout",
          "text": [
            "Train Epoch: 4 [35840/84843 (42%)]\tLoss: 0.718402\n"
          ]
        },
        {
          "output_type": "stream",
          "name": "stderr",
          "text": [
            " 11%|█▏        | 3.429333333333393/30 [04:37<34:42, 78.37s/it] "
          ]
        },
        {
          "output_type": "stream",
          "name": "stdout",
          "text": [
            "Train Epoch: 4 [40960/84843 (48%)]\tLoss: 0.727091\n"
          ]
        },
        {
          "output_type": "stream",
          "name": "stderr",
          "text": [
            " 12%|█▏        | 3.4826666666667294/30 [04:41<35:19, 79.92s/it]"
          ]
        },
        {
          "output_type": "stream",
          "name": "stdout",
          "text": [
            "Train Epoch: 4 [46080/84843 (54%)]\tLoss: 0.651280\n"
          ]
        },
        {
          "output_type": "stream",
          "name": "stderr",
          "text": [
            " 12%|█▏        | 3.5360000000000658/30 [04:45<33:44, 76.49s/it]"
          ]
        },
        {
          "output_type": "stream",
          "name": "stdout",
          "text": [
            "Train Epoch: 4 [51200/84843 (60%)]\tLoss: 0.634293\n"
          ]
        },
        {
          "output_type": "stream",
          "name": "stderr",
          "text": [
            " 12%|█▏        | 3.589333333333402/30 [04:50<43:57, 99.85s/it] "
          ]
        },
        {
          "output_type": "stream",
          "name": "stdout",
          "text": [
            "Train Epoch: 4 [56320/84843 (66%)]\tLoss: 0.647214\n"
          ]
        },
        {
          "output_type": "stream",
          "name": "stderr",
          "text": [
            " 12%|█▏        | 3.6426666666667384/30 [04:54<34:21, 78.21s/it]"
          ]
        },
        {
          "output_type": "stream",
          "name": "stdout",
          "text": [
            "Train Epoch: 4 [61440/84843 (72%)]\tLoss: 0.563416\n"
          ]
        },
        {
          "output_type": "stream",
          "name": "stderr",
          "text": [
            " 12%|█▏        | 3.696000000000075/30 [04:58<34:12, 78.01s/it]"
          ]
        },
        {
          "output_type": "stream",
          "name": "stdout",
          "text": [
            "Train Epoch: 4 [66560/84843 (78%)]\tLoss: 0.500191\n"
          ]
        },
        {
          "output_type": "stream",
          "name": "stderr",
          "text": [
            " 13%|█▎        | 3.752000000000078/30 [05:03<33:05, 75.63s/it]"
          ]
        },
        {
          "output_type": "stream",
          "name": "stdout",
          "text": [
            "Train Epoch: 4 [71680/84843 (84%)]\tLoss: 0.668813\n"
          ]
        },
        {
          "output_type": "stream",
          "name": "stderr",
          "text": [
            " 13%|█▎        | 3.8026666666667475/30 [05:07<33:43, 77.23s/it]"
          ]
        },
        {
          "output_type": "stream",
          "name": "stdout",
          "text": [
            "Train Epoch: 4 [76800/84843 (90%)]\tLoss: 0.556371\n"
          ]
        },
        {
          "output_type": "stream",
          "name": "stderr",
          "text": [
            " 13%|█▎        | 3.856000000000084/30 [05:11<33:21, 76.56s/it]"
          ]
        },
        {
          "output_type": "stream",
          "name": "stdout",
          "text": [
            "Train Epoch: 4 [81920/84843 (96%)]\tLoss: 0.553735\n"
          ]
        },
        {
          "output_type": "stream",
          "name": "stderr",
          "text": [
            " 13%|█▎        | 4.002666666666758/30 [05:19<24:58, 57.64s/it] "
          ]
        },
        {
          "output_type": "stream",
          "name": "stdout",
          "text": [
            "\n",
            "Test Epoch: 4\tAccuracy: 8399/11005 (76%)\n",
            "\n",
            "Train Epoch: 5 [0/84843 (0%)]\tLoss: 0.611194\n"
          ]
        },
        {
          "output_type": "stream",
          "name": "stderr",
          "text": [
            " 14%|█▎        | 4.056000000000085/30 [05:23<34:35, 80.00s/it]"
          ]
        },
        {
          "output_type": "stream",
          "name": "stdout",
          "text": [
            "Train Epoch: 5 [5120/84843 (6%)]\tLoss: 0.513984\n"
          ]
        },
        {
          "output_type": "stream",
          "name": "stderr",
          "text": [
            " 14%|█▎        | 4.109333333333413/30 [05:27<35:08, 81.46s/it]"
          ]
        },
        {
          "output_type": "stream",
          "name": "stdout",
          "text": [
            "Train Epoch: 5 [10240/84843 (12%)]\tLoss: 0.606173\n"
          ]
        },
        {
          "output_type": "stream",
          "name": "stderr",
          "text": [
            " 14%|█▍        | 4.16266666666674/30 [05:32<34:44, 80.69s/it] "
          ]
        },
        {
          "output_type": "stream",
          "name": "stdout",
          "text": [
            "Train Epoch: 5 [15360/84843 (18%)]\tLoss: 0.704243\n"
          ]
        },
        {
          "output_type": "stream",
          "name": "stderr",
          "text": [
            " 14%|█▍        | 4.216000000000068/30 [05:36<34:06, 79.38s/it]"
          ]
        },
        {
          "output_type": "stream",
          "name": "stdout",
          "text": [
            "Train Epoch: 5 [20480/84843 (24%)]\tLoss: 0.545333\n"
          ]
        },
        {
          "output_type": "stream",
          "name": "stderr",
          "text": [
            " 14%|█▍        | 4.269333333333395/30 [05:40<34:20, 80.09s/it]"
          ]
        },
        {
          "output_type": "stream",
          "name": "stdout",
          "text": [
            "Train Epoch: 5 [25600/84843 (30%)]\tLoss: 0.636967\n"
          ]
        },
        {
          "output_type": "stream",
          "name": "stderr",
          "text": [
            " 14%|█▍        | 4.322666666666723/30 [05:44<34:20, 80.26s/it]"
          ]
        },
        {
          "output_type": "stream",
          "name": "stdout",
          "text": [
            "Train Epoch: 5 [30720/84843 (36%)]\tLoss: 0.569221\n"
          ]
        },
        {
          "output_type": "stream",
          "name": "stderr",
          "text": [
            " 15%|█▍        | 4.37600000000005/30 [05:49<38:41, 90.59s/it] "
          ]
        },
        {
          "output_type": "stream",
          "name": "stdout",
          "text": [
            "Train Epoch: 5 [35840/84843 (42%)]\tLoss: 0.522851\n"
          ]
        },
        {
          "output_type": "stream",
          "name": "stderr",
          "text": [
            " 15%|█▍        | 4.4293333333333775/30 [05:53<32:37, 76.55s/it]"
          ]
        },
        {
          "output_type": "stream",
          "name": "stdout",
          "text": [
            "Train Epoch: 5 [40960/84843 (48%)]\tLoss: 0.678492\n"
          ]
        },
        {
          "output_type": "stream",
          "name": "stderr",
          "text": [
            " 15%|█▍        | 4.482666666666705/30 [05:57<33:20, 78.40s/it]"
          ]
        },
        {
          "output_type": "stream",
          "name": "stdout",
          "text": [
            "Train Epoch: 5 [46080/84843 (54%)]\tLoss: 0.614700\n"
          ]
        },
        {
          "output_type": "stream",
          "name": "stderr",
          "text": [
            " 15%|█▌        | 4.5360000000000325/30 [06:02<33:47, 79.60s/it]"
          ]
        },
        {
          "output_type": "stream",
          "name": "stdout",
          "text": [
            "Train Epoch: 5 [51200/84843 (60%)]\tLoss: 0.711295\n"
          ]
        },
        {
          "output_type": "stream",
          "name": "stderr",
          "text": [
            " 15%|█▌        | 4.58933333333336/30 [06:06<32:57, 77.83s/it]  "
          ]
        },
        {
          "output_type": "stream",
          "name": "stdout",
          "text": [
            "Train Epoch: 5 [56320/84843 (66%)]\tLoss: 0.528601\n"
          ]
        },
        {
          "output_type": "stream",
          "name": "stderr",
          "text": [
            " 15%|█▌        | 4.642666666666687/30 [06:10<32:55, 77.89s/it]"
          ]
        },
        {
          "output_type": "stream",
          "name": "stdout",
          "text": [
            "Train Epoch: 5 [61440/84843 (72%)]\tLoss: 0.592569\n"
          ]
        },
        {
          "output_type": "stream",
          "name": "stderr",
          "text": [
            " 16%|█▌        | 4.696000000000015/30 [06:14<33:06, 78.51s/it] "
          ]
        },
        {
          "output_type": "stream",
          "name": "stdout",
          "text": [
            "Train Epoch: 5 [66560/84843 (78%)]\tLoss: 0.452083\n"
          ]
        },
        {
          "output_type": "stream",
          "name": "stderr",
          "text": [
            " 16%|█▌        | 4.749333333333342/30 [06:18<32:35, 77.43s/it]"
          ]
        },
        {
          "output_type": "stream",
          "name": "stdout",
          "text": [
            "Train Epoch: 5 [71680/84843 (84%)]\tLoss: 0.682454\n"
          ]
        },
        {
          "output_type": "stream",
          "name": "stderr",
          "text": [
            " 16%|█▌        | 4.80266666666667/30 [06:22<33:24, 79.55s/it] "
          ]
        },
        {
          "output_type": "stream",
          "name": "stdout",
          "text": [
            "Train Epoch: 5 [76800/84843 (90%)]\tLoss: 0.551147\n"
          ]
        },
        {
          "output_type": "stream",
          "name": "stderr",
          "text": [
            " 16%|█▌        | 4.855999999999997/30 [06:26<33:04, 78.94s/it]"
          ]
        },
        {
          "output_type": "stream",
          "name": "stdout",
          "text": [
            "Train Epoch: 5 [81920/84843 (96%)]\tLoss: 0.516337\n"
          ]
        },
        {
          "output_type": "stream",
          "name": "stderr",
          "text": [
            " 17%|█▋        | 4.999999999999981/30 [06:34<20:37, 49.49s/it]"
          ]
        },
        {
          "output_type": "stream",
          "name": "stdout",
          "text": [
            "\n",
            "Test Epoch: 5\tAccuracy: 8470/11005 (77%)\n",
            "\n"
          ]
        },
        {
          "output_type": "stream",
          "name": "stderr",
          "text": [
            "\r 17%|█▋        | 5.002666666666648/30 [06:35<24:57, 59.89s/it]"
          ]
        },
        {
          "output_type": "stream",
          "name": "stdout",
          "text": [
            "Train Epoch: 6 [0/84843 (0%)]\tLoss: 0.714140\n"
          ]
        },
        {
          "output_type": "stream",
          "name": "stderr",
          "text": [
            " 17%|█▋        | 5.055999999999975/30 [06:39<33:01, 79.42s/it]"
          ]
        },
        {
          "output_type": "stream",
          "name": "stdout",
          "text": [
            "Train Epoch: 6 [5120/84843 (6%)]\tLoss: 0.466674\n"
          ]
        },
        {
          "output_type": "stream",
          "name": "stderr",
          "text": [
            " 17%|█▋        | 5.109333333333303/30 [06:43<33:24, 80.55s/it]"
          ]
        },
        {
          "output_type": "stream",
          "name": "stdout",
          "text": [
            "Train Epoch: 6 [10240/84843 (12%)]\tLoss: 0.649037\n"
          ]
        },
        {
          "output_type": "stream",
          "name": "stderr",
          "text": [
            " 17%|█▋        | 5.16266666666663/30 [06:48<42:48, 103.43s/it] "
          ]
        },
        {
          "output_type": "stream",
          "name": "stdout",
          "text": [
            "Train Epoch: 6 [15360/84843 (18%)]\tLoss: 0.641589\n"
          ]
        },
        {
          "output_type": "stream",
          "name": "stderr",
          "text": [
            " 17%|█▋        | 5.215999999999958/30 [06:52<31:38, 76.62s/it]"
          ]
        },
        {
          "output_type": "stream",
          "name": "stdout",
          "text": [
            "Train Epoch: 6 [20480/84843 (24%)]\tLoss: 0.464007\n"
          ]
        },
        {
          "output_type": "stream",
          "name": "stderr",
          "text": [
            " 18%|█▊        | 5.269333333333285/30 [06:56<32:46, 79.51s/it]"
          ]
        },
        {
          "output_type": "stream",
          "name": "stdout",
          "text": [
            "Train Epoch: 6 [25600/84843 (30%)]\tLoss: 0.526299\n"
          ]
        },
        {
          "output_type": "stream",
          "name": "stderr",
          "text": [
            " 18%|█▊        | 5.3226666666666125/30 [07:00<32:38, 79.36s/it]"
          ]
        },
        {
          "output_type": "stream",
          "name": "stdout",
          "text": [
            "Train Epoch: 6 [30720/84843 (36%)]\tLoss: 0.597459\n"
          ]
        },
        {
          "output_type": "stream",
          "name": "stderr",
          "text": [
            " 18%|█▊        | 5.37599999999994/30 [07:04<32:07, 78.27s/it] "
          ]
        },
        {
          "output_type": "stream",
          "name": "stdout",
          "text": [
            "Train Epoch: 6 [35840/84843 (42%)]\tLoss: 0.530091\n"
          ]
        },
        {
          "output_type": "stream",
          "name": "stderr",
          "text": [
            " 18%|█▊        | 5.429333333333267/30 [07:09<32:14, 78.74s/it]"
          ]
        },
        {
          "output_type": "stream",
          "name": "stdout",
          "text": [
            "Train Epoch: 6 [40960/84843 (48%)]\tLoss: 0.509602\n"
          ]
        },
        {
          "output_type": "stream",
          "name": "stderr",
          "text": [
            " 18%|█▊        | 5.482666666666595/30 [07:13<32:52, 80.44s/it] "
          ]
        },
        {
          "output_type": "stream",
          "name": "stdout",
          "text": [
            "Train Epoch: 6 [46080/84843 (54%)]\tLoss: 0.533140\n"
          ]
        },
        {
          "output_type": "stream",
          "name": "stderr",
          "text": [
            " 18%|█▊        | 5.535999999999922/30 [07:17<31:59, 78.45s/it]"
          ]
        },
        {
          "output_type": "stream",
          "name": "stdout",
          "text": [
            "Train Epoch: 6 [51200/84843 (60%)]\tLoss: 0.603249\n"
          ]
        },
        {
          "output_type": "stream",
          "name": "stderr",
          "text": [
            " 19%|█▊        | 5.58933333333325/30 [07:21<32:08, 79.02s/it] "
          ]
        },
        {
          "output_type": "stream",
          "name": "stdout",
          "text": [
            "Train Epoch: 6 [56320/84843 (66%)]\tLoss: 0.685205\n"
          ]
        },
        {
          "output_type": "stream",
          "name": "stderr",
          "text": [
            " 19%|█▉        | 5.642666666666577/30 [07:25<30:58, 76.30s/it]"
          ]
        },
        {
          "output_type": "stream",
          "name": "stdout",
          "text": [
            "Train Epoch: 6 [61440/84843 (72%)]\tLoss: 0.579680\n"
          ]
        },
        {
          "output_type": "stream",
          "name": "stderr",
          "text": [
            " 19%|█▉        | 5.695999999999905/30 [07:29<30:53, 76.26s/it]"
          ]
        },
        {
          "output_type": "stream",
          "name": "stdout",
          "text": [
            "Train Epoch: 6 [66560/84843 (78%)]\tLoss: 0.476968\n"
          ]
        },
        {
          "output_type": "stream",
          "name": "stderr",
          "text": [
            " 19%|█▉        | 5.749333333333232/30 [07:34<30:44, 76.05s/it]"
          ]
        },
        {
          "output_type": "stream",
          "name": "stdout",
          "text": [
            "Train Epoch: 6 [71680/84843 (84%)]\tLoss: 0.574352\n"
          ]
        },
        {
          "output_type": "stream",
          "name": "stderr",
          "text": [
            " 19%|█▉        | 5.80266666666656/30 [07:38<31:33, 78.23s/it] "
          ]
        },
        {
          "output_type": "stream",
          "name": "stdout",
          "text": [
            "Train Epoch: 6 [76800/84843 (90%)]\tLoss: 0.724425\n"
          ]
        },
        {
          "output_type": "stream",
          "name": "stderr",
          "text": [
            " 20%|█▉        | 5.855999999999887/30 [07:42<32:27, 80.65s/it]"
          ]
        },
        {
          "output_type": "stream",
          "name": "stdout",
          "text": [
            "Train Epoch: 6 [81920/84843 (96%)]\tLoss: 0.631938\n"
          ]
        },
        {
          "output_type": "stream",
          "name": "stderr",
          "text": [
            " 20%|█▉        | 5.999999999999871/30 [07:50<20:03, 50.15s/it]"
          ]
        },
        {
          "output_type": "stream",
          "name": "stdout",
          "text": [
            "\n",
            "Test Epoch: 6\tAccuracy: 8621/11005 (78%)\n",
            "\n"
          ]
        },
        {
          "output_type": "stream",
          "name": "stderr",
          "text": [
            "\r 20%|██        | 6.002666666666538/30 [07:51<24:14, 60.59s/it]"
          ]
        },
        {
          "output_type": "stream",
          "name": "stdout",
          "text": [
            "Train Epoch: 7 [0/84843 (0%)]\tLoss: 0.510223\n"
          ]
        },
        {
          "output_type": "stream",
          "name": "stderr",
          "text": [
            " 20%|██        | 6.055999999999865/30 [07:55<31:27, 78.85s/it]"
          ]
        },
        {
          "output_type": "stream",
          "name": "stdout",
          "text": [
            "Train Epoch: 7 [5120/84843 (6%)]\tLoss: 0.527561\n"
          ]
        },
        {
          "output_type": "stream",
          "name": "stderr",
          "text": [
            " 20%|██        | 6.1093333333331925/30 [07:59<31:35, 79.34s/it]"
          ]
        },
        {
          "output_type": "stream",
          "name": "stdout",
          "text": [
            "Train Epoch: 7 [10240/84843 (12%)]\tLoss: 0.711600\n"
          ]
        },
        {
          "output_type": "stream",
          "name": "stderr",
          "text": [
            " 21%|██        | 6.16266666666652/30 [08:03<30:40, 77.19s/it] "
          ]
        },
        {
          "output_type": "stream",
          "name": "stdout",
          "text": [
            "Train Epoch: 7 [15360/84843 (18%)]\tLoss: 0.512367\n"
          ]
        },
        {
          "output_type": "stream",
          "name": "stderr",
          "text": [
            " 21%|██        | 6.215999999999847/30 [08:07<31:38, 79.81s/it]"
          ]
        },
        {
          "output_type": "stream",
          "name": "stdout",
          "text": [
            "Train Epoch: 7 [20480/84843 (24%)]\tLoss: 0.495359\n"
          ]
        },
        {
          "output_type": "stream",
          "name": "stderr",
          "text": [
            " 21%|██        | 6.269333333333175/30 [08:12<31:09, 78.79s/it] "
          ]
        },
        {
          "output_type": "stream",
          "name": "stdout",
          "text": [
            "Train Epoch: 7 [25600/84843 (30%)]\tLoss: 0.443924\n"
          ]
        },
        {
          "output_type": "stream",
          "name": "stderr",
          "text": [
            " 21%|██        | 6.322666666666502/30 [08:16<31:06, 78.84s/it]"
          ]
        },
        {
          "output_type": "stream",
          "name": "stdout",
          "text": [
            "Train Epoch: 7 [30720/84843 (36%)]\tLoss: 0.495833\n"
          ]
        },
        {
          "output_type": "stream",
          "name": "stderr",
          "text": [
            " 21%|██▏       | 6.37599999999983/30 [08:20<30:19, 77.04s/it] "
          ]
        },
        {
          "output_type": "stream",
          "name": "stdout",
          "text": [
            "Train Epoch: 7 [35840/84843 (42%)]\tLoss: 0.551572\n"
          ]
        },
        {
          "output_type": "stream",
          "name": "stderr",
          "text": [
            " 21%|██▏       | 6.429333333333157/30 [08:24<30:58, 78.86s/it]"
          ]
        },
        {
          "output_type": "stream",
          "name": "stdout",
          "text": [
            "Train Epoch: 7 [40960/84843 (48%)]\tLoss: 0.464314\n"
          ]
        },
        {
          "output_type": "stream",
          "name": "stderr",
          "text": [
            " 22%|██▏       | 6.482666666666485/30 [08:28<32:20, 82.52s/it]"
          ]
        },
        {
          "output_type": "stream",
          "name": "stdout",
          "text": [
            "Train Epoch: 7 [46080/84843 (54%)]\tLoss: 0.608418\n"
          ]
        },
        {
          "output_type": "stream",
          "name": "stderr",
          "text": [
            " 22%|██▏       | 6.535999999999812/30 [08:32<30:00, 76.75s/it]"
          ]
        },
        {
          "output_type": "stream",
          "name": "stdout",
          "text": [
            "Train Epoch: 7 [51200/84843 (60%)]\tLoss: 0.620065\n"
          ]
        },
        {
          "output_type": "stream",
          "name": "stderr",
          "text": [
            " 22%|██▏       | 6.58933333333314/30 [08:37<31:10, 79.88s/it] "
          ]
        },
        {
          "output_type": "stream",
          "name": "stdout",
          "text": [
            "Train Epoch: 7 [56320/84843 (66%)]\tLoss: 0.531381\n"
          ]
        },
        {
          "output_type": "stream",
          "name": "stderr",
          "text": [
            " 22%|██▏       | 6.642666666666467/30 [08:41<31:56, 82.05s/it]"
          ]
        },
        {
          "output_type": "stream",
          "name": "stdout",
          "text": [
            "Train Epoch: 7 [61440/84843 (72%)]\tLoss: 0.587255\n"
          ]
        },
        {
          "output_type": "stream",
          "name": "stderr",
          "text": [
            " 22%|██▏       | 6.695999999999795/30 [08:46<30:42, 79.06s/it]"
          ]
        },
        {
          "output_type": "stream",
          "name": "stdout",
          "text": [
            "Train Epoch: 7 [66560/84843 (78%)]\tLoss: 0.581157\n"
          ]
        },
        {
          "output_type": "stream",
          "name": "stderr",
          "text": [
            " 22%|██▏       | 6.749333333333122/30 [08:50<30:25, 78.53s/it]"
          ]
        },
        {
          "output_type": "stream",
          "name": "stdout",
          "text": [
            "Train Epoch: 7 [71680/84843 (84%)]\tLoss: 0.514544\n"
          ]
        },
        {
          "output_type": "stream",
          "name": "stderr",
          "text": [
            " 23%|██▎       | 6.8026666666664495/30 [08:54<30:34, 79.10s/it]"
          ]
        },
        {
          "output_type": "stream",
          "name": "stdout",
          "text": [
            "Train Epoch: 7 [76800/84843 (90%)]\tLoss: 0.557331\n"
          ]
        },
        {
          "output_type": "stream",
          "name": "stderr",
          "text": [
            " 23%|██▎       | 6.855999999999777/30 [08:58<30:50, 79.96s/it]"
          ]
        },
        {
          "output_type": "stream",
          "name": "stdout",
          "text": [
            "Train Epoch: 7 [81920/84843 (96%)]\tLoss: 0.667197\n"
          ]
        },
        {
          "output_type": "stream",
          "name": "stderr",
          "text": [
            " 23%|██▎       | 6.999999999999761/30 [09:06<19:32, 51.00s/it]"
          ]
        },
        {
          "output_type": "stream",
          "name": "stdout",
          "text": [
            "\n",
            "Test Epoch: 7\tAccuracy: 8580/11005 (78%)\n",
            "\n"
          ]
        },
        {
          "output_type": "stream",
          "name": "stderr",
          "text": [
            "\r 23%|██▎       | 7.0026666666664275/30 [09:06<23:23, 61.01s/it]"
          ]
        },
        {
          "output_type": "stream",
          "name": "stdout",
          "text": [
            "Train Epoch: 8 [0/84843 (0%)]\tLoss: 0.643392\n"
          ]
        },
        {
          "output_type": "stream",
          "name": "stderr",
          "text": [
            " 24%|██▎       | 7.058666666666421/30 [09:11<29:20, 76.74s/it]"
          ]
        },
        {
          "output_type": "stream",
          "name": "stdout",
          "text": [
            "Train Epoch: 8 [5120/84843 (6%)]\tLoss: 0.665729\n"
          ]
        },
        {
          "output_type": "stream",
          "name": "stderr",
          "text": [
            " 24%|██▎       | 7.109333333333082/30 [09:14<29:57, 78.53s/it]"
          ]
        },
        {
          "output_type": "stream",
          "name": "stdout",
          "text": [
            "Train Epoch: 8 [10240/84843 (12%)]\tLoss: 0.542910\n"
          ]
        },
        {
          "output_type": "stream",
          "name": "stderr",
          "text": [
            " 24%|██▍       | 7.16266666666641/30 [09:19<29:25, 77.30s/it]  "
          ]
        },
        {
          "output_type": "stream",
          "name": "stdout",
          "text": [
            "Train Epoch: 8 [15360/84843 (18%)]\tLoss: 0.565167\n"
          ]
        },
        {
          "output_type": "stream",
          "name": "stderr",
          "text": [
            " 24%|██▍       | 7.215999999999737/30 [09:23<29:43, 78.26s/it]"
          ]
        },
        {
          "output_type": "stream",
          "name": "stdout",
          "text": [
            "Train Epoch: 8 [20480/84843 (24%)]\tLoss: 0.513163\n"
          ]
        },
        {
          "output_type": "stream",
          "name": "stderr",
          "text": [
            " 24%|██▍       | 7.269333333333065/30 [09:27<30:23, 80.24s/it]"
          ]
        },
        {
          "output_type": "stream",
          "name": "stdout",
          "text": [
            "Train Epoch: 8 [25600/84843 (30%)]\tLoss: 0.474715\n"
          ]
        },
        {
          "output_type": "stream",
          "name": "stderr",
          "text": [
            " 24%|██▍       | 7.322666666666392/30 [09:31<31:04, 82.20s/it]"
          ]
        },
        {
          "output_type": "stream",
          "name": "stdout",
          "text": [
            "Train Epoch: 8 [30720/84843 (36%)]\tLoss: 0.515033\n"
          ]
        },
        {
          "output_type": "stream",
          "name": "stderr",
          "text": [
            " 25%|██▍       | 7.37599999999972/30 [09:38<48:06, 127.58s/it] "
          ]
        },
        {
          "output_type": "stream",
          "name": "stdout",
          "text": [
            "Train Epoch: 8 [35840/84843 (42%)]\tLoss: 0.630919\n"
          ]
        },
        {
          "output_type": "stream",
          "name": "stderr",
          "text": [
            " 25%|██▍       | 7.429333333333047/30 [09:44<42:20, 112.56s/it]"
          ]
        },
        {
          "output_type": "stream",
          "name": "stdout",
          "text": [
            "Train Epoch: 8 [40960/84843 (48%)]\tLoss: 0.569798\n"
          ]
        },
        {
          "output_type": "stream",
          "name": "stderr",
          "text": [
            " 25%|██▍       | 7.482666666666375/30 [09:50<39:50, 106.15s/it]"
          ]
        },
        {
          "output_type": "stream",
          "name": "stdout",
          "text": [
            "Train Epoch: 8 [46080/84843 (54%)]\tLoss: 0.494617\n"
          ]
        },
        {
          "output_type": "stream",
          "name": "stderr",
          "text": [
            " 25%|██▌       | 7.535999999999702/30 [09:56<39:35, 105.75s/it]"
          ]
        },
        {
          "output_type": "stream",
          "name": "stdout",
          "text": [
            "Train Epoch: 8 [51200/84843 (60%)]\tLoss: 0.460020\n"
          ]
        },
        {
          "output_type": "stream",
          "name": "stderr",
          "text": [
            " 25%|██▌       | 7.5893333333330295/30 [10:01<36:32, 97.83s/it]"
          ]
        },
        {
          "output_type": "stream",
          "name": "stdout",
          "text": [
            "Train Epoch: 8 [56320/84843 (66%)]\tLoss: 0.527557\n"
          ]
        },
        {
          "output_type": "stream",
          "name": "stderr",
          "text": [
            " 25%|██▌       | 7.642666666666357/30 [10:06<36:12, 97.17s/it]"
          ]
        },
        {
          "output_type": "stream",
          "name": "stdout",
          "text": [
            "Train Epoch: 8 [61440/84843 (72%)]\tLoss: 0.716326\n"
          ]
        },
        {
          "output_type": "stream",
          "name": "stderr",
          "text": [
            " 26%|██▌       | 7.695999999999684/30 [10:11<34:41, 93.34s/it]"
          ]
        },
        {
          "output_type": "stream",
          "name": "stdout",
          "text": [
            "Train Epoch: 8 [66560/84843 (78%)]\tLoss: 0.479602\n"
          ]
        },
        {
          "output_type": "stream",
          "name": "stderr",
          "text": [
            " 26%|██▌       | 7.749333333333012/30 [10:16<34:17, 92.47s/it] "
          ]
        },
        {
          "output_type": "stream",
          "name": "stdout",
          "text": [
            "Train Epoch: 8 [71680/84843 (84%)]\tLoss: 0.598880\n"
          ]
        },
        {
          "output_type": "stream",
          "name": "stderr",
          "text": [
            " 26%|██▌       | 7.802666666666339/30 [10:21<33:49, 91.41s/it]"
          ]
        },
        {
          "output_type": "stream",
          "name": "stdout",
          "text": [
            "Train Epoch: 8 [76800/84843 (90%)]\tLoss: 0.548357\n"
          ]
        },
        {
          "output_type": "stream",
          "name": "stderr",
          "text": [
            " 26%|██▌       | 7.855999999999667/30 [10:26<31:41, 85.86s/it]"
          ]
        },
        {
          "output_type": "stream",
          "name": "stdout",
          "text": [
            "Train Epoch: 8 [81920/84843 (96%)]\tLoss: 0.549701\n"
          ]
        },
        {
          "output_type": "stream",
          "name": "stderr",
          "text": [
            " 27%|██▋       | 7.999999999999651/30 [10:35<18:05, 49.34s/it]"
          ]
        },
        {
          "output_type": "stream",
          "name": "stdout",
          "text": [
            "\n",
            "Test Epoch: 8\tAccuracy: 8460/11005 (77%)\n",
            "\n"
          ]
        },
        {
          "output_type": "stream",
          "name": "stderr",
          "text": [
            "\r 27%|██▋       | 8.002666666666318/30 [10:35<21:55, 59.79s/it]"
          ]
        },
        {
          "output_type": "stream",
          "name": "stdout",
          "text": [
            "Train Epoch: 9 [0/84843 (0%)]\tLoss: 0.519495\n"
          ]
        },
        {
          "output_type": "stream",
          "name": "stderr",
          "text": [
            " 27%|██▋       | 8.055999999999646/30 [10:39<31:38, 86.51s/it]"
          ]
        },
        {
          "output_type": "stream",
          "name": "stdout",
          "text": [
            "Train Epoch: 9 [5120/84843 (6%)]\tLoss: 0.436817\n"
          ]
        },
        {
          "output_type": "stream",
          "name": "stderr",
          "text": [
            " 27%|██▋       | 8.109333333332973/30 [10:44<29:37, 81.21s/it]"
          ]
        },
        {
          "output_type": "stream",
          "name": "stdout",
          "text": [
            "Train Epoch: 9 [10240/84843 (12%)]\tLoss: 0.483716\n"
          ]
        },
        {
          "output_type": "stream",
          "name": "stderr",
          "text": [
            " 27%|██▋       | 8.1626666666663/30 [10:49<29:38, 81.46s/it]  "
          ]
        },
        {
          "output_type": "stream",
          "name": "stdout",
          "text": [
            "Train Epoch: 9 [15360/84843 (18%)]\tLoss: 0.606350\n"
          ]
        },
        {
          "output_type": "stream",
          "name": "stderr",
          "text": [
            " 27%|██▋       | 8.215999999999628/30 [10:53<29:54, 82.36s/it]"
          ]
        },
        {
          "output_type": "stream",
          "name": "stdout",
          "text": [
            "Train Epoch: 9 [20480/84843 (24%)]\tLoss: 0.493571\n"
          ]
        },
        {
          "output_type": "stream",
          "name": "stderr",
          "text": [
            " 28%|██▊       | 8.269333333332956/30 [10:57<29:31, 81.51s/it]"
          ]
        },
        {
          "output_type": "stream",
          "name": "stdout",
          "text": [
            "Train Epoch: 9 [25600/84843 (30%)]\tLoss: 0.392906\n"
          ]
        },
        {
          "output_type": "stream",
          "name": "stderr",
          "text": [
            " 28%|██▊       | 8.322666666666283/30 [11:02<31:16, 86.58s/it]"
          ]
        },
        {
          "output_type": "stream",
          "name": "stdout",
          "text": [
            "Train Epoch: 9 [30720/84843 (36%)]\tLoss: 0.590368\n"
          ]
        },
        {
          "output_type": "stream",
          "name": "stderr",
          "text": [
            " 28%|██▊       | 8.37599999999961/30 [11:06<29:44, 82.54s/it] "
          ]
        },
        {
          "output_type": "stream",
          "name": "stdout",
          "text": [
            "Train Epoch: 9 [35840/84843 (42%)]\tLoss: 0.514559\n"
          ]
        },
        {
          "output_type": "stream",
          "name": "stderr",
          "text": [
            " 28%|██▊       | 8.429333333332938/30 [11:10<29:33, 82.24s/it]"
          ]
        },
        {
          "output_type": "stream",
          "name": "stdout",
          "text": [
            "Train Epoch: 9 [40960/84843 (48%)]\tLoss: 0.413431\n"
          ]
        },
        {
          "output_type": "stream",
          "name": "stderr",
          "text": [
            " 28%|██▊       | 8.482666666666265/30 [11:14<27:54, 77.84s/it]"
          ]
        },
        {
          "output_type": "stream",
          "name": "stdout",
          "text": [
            "Train Epoch: 9 [46080/84843 (54%)]\tLoss: 0.479431\n"
          ]
        },
        {
          "output_type": "stream",
          "name": "stderr",
          "text": [
            " 28%|██▊       | 8.535999999999593/30 [11:19<29:59, 83.84s/it]"
          ]
        },
        {
          "output_type": "stream",
          "name": "stdout",
          "text": [
            "Train Epoch: 9 [51200/84843 (60%)]\tLoss: 0.598968\n"
          ]
        },
        {
          "output_type": "stream",
          "name": "stderr",
          "text": [
            " 29%|██▊       | 8.58933333333292/30 [11:23<29:04, 81.48s/it] "
          ]
        },
        {
          "output_type": "stream",
          "name": "stdout",
          "text": [
            "Train Epoch: 9 [56320/84843 (66%)]\tLoss: 0.497512\n"
          ]
        },
        {
          "output_type": "stream",
          "name": "stderr",
          "text": [
            " 29%|██▉       | 8.642666666666248/30 [11:27<29:06, 81.77s/it]"
          ]
        },
        {
          "output_type": "stream",
          "name": "stdout",
          "text": [
            "Train Epoch: 9 [61440/84843 (72%)]\tLoss: 0.686389\n"
          ]
        },
        {
          "output_type": "stream",
          "name": "stderr",
          "text": [
            " 29%|██▉       | 8.695999999999575/30 [11:32<28:49, 81.18s/it]"
          ]
        },
        {
          "output_type": "stream",
          "name": "stdout",
          "text": [
            "Train Epoch: 9 [66560/84843 (78%)]\tLoss: 0.536736\n"
          ]
        },
        {
          "output_type": "stream",
          "name": "stderr",
          "text": [
            " 29%|██▉       | 8.749333333332903/30 [11:36<28:30, 80.50s/it]"
          ]
        },
        {
          "output_type": "stream",
          "name": "stdout",
          "text": [
            "Train Epoch: 9 [71680/84843 (84%)]\tLoss: 0.470940\n"
          ]
        },
        {
          "output_type": "stream",
          "name": "stderr",
          "text": [
            " 29%|██▉       | 8.80266666666623/30 [11:41<29:36, 83.80s/it] "
          ]
        },
        {
          "output_type": "stream",
          "name": "stdout",
          "text": [
            "Train Epoch: 9 [76800/84843 (90%)]\tLoss: 0.731020\n"
          ]
        },
        {
          "output_type": "stream",
          "name": "stderr",
          "text": [
            " 30%|██▉       | 8.855999999999558/30 [11:45<27:52, 79.08s/it]"
          ]
        },
        {
          "output_type": "stream",
          "name": "stdout",
          "text": [
            "Train Epoch: 9 [81920/84843 (96%)]\tLoss: 0.503481\n"
          ]
        },
        {
          "output_type": "stream",
          "name": "stderr",
          "text": [
            " 30%|██▉       | 8.999999999999542/30 [11:53<16:52, 48.23s/it]"
          ]
        },
        {
          "output_type": "stream",
          "name": "stdout",
          "text": [
            "\n",
            "Test Epoch: 9\tAccuracy: 8837/11005 (80%)\n",
            "\n",
            "Train Epoch: 10 [0/84843 (0%)]\tLoss: 0.522822\n"
          ]
        },
        {
          "output_type": "stream",
          "name": "stderr",
          "text": [
            " 30%|███       | 9.055999999999536/30 [11:57<27:01, 77.41s/it]"
          ]
        },
        {
          "output_type": "stream",
          "name": "stdout",
          "text": [
            "Train Epoch: 10 [5120/84843 (6%)]\tLoss: 0.420087\n"
          ]
        },
        {
          "output_type": "stream",
          "name": "stderr",
          "text": [
            " 30%|███       | 9.109333333332863/30 [12:02<30:38, 88.00s/it]"
          ]
        },
        {
          "output_type": "stream",
          "name": "stdout",
          "text": [
            "Train Epoch: 10 [10240/84843 (12%)]\tLoss: 0.386770\n"
          ]
        },
        {
          "output_type": "stream",
          "name": "stderr",
          "text": [
            " 31%|███       | 9.16266666666619/30 [12:06<26:24, 76.05s/it] "
          ]
        },
        {
          "output_type": "stream",
          "name": "stdout",
          "text": [
            "Train Epoch: 10 [15360/84843 (18%)]\tLoss: 0.470473\n"
          ]
        },
        {
          "output_type": "stream",
          "name": "stderr",
          "text": [
            " 31%|███       | 9.215999999999518/30 [12:10<27:33, 79.55s/it]"
          ]
        },
        {
          "output_type": "stream",
          "name": "stdout",
          "text": [
            "Train Epoch: 10 [20480/84843 (24%)]\tLoss: 0.537689\n"
          ]
        },
        {
          "output_type": "stream",
          "name": "stderr",
          "text": [
            " 31%|███       | 9.269333333332845/30 [12:14<27:25, 79.35s/it]"
          ]
        },
        {
          "output_type": "stream",
          "name": "stdout",
          "text": [
            "Train Epoch: 10 [25600/84843 (30%)]\tLoss: 0.502336\n"
          ]
        },
        {
          "output_type": "stream",
          "name": "stderr",
          "text": [
            " 31%|███       | 9.322666666666173/30 [12:18<26:42, 77.52s/it]"
          ]
        },
        {
          "output_type": "stream",
          "name": "stdout",
          "text": [
            "Train Epoch: 10 [30720/84843 (36%)]\tLoss: 0.567117\n"
          ]
        },
        {
          "output_type": "stream",
          "name": "stderr",
          "text": [
            " 31%|███▏      | 9.3759999999995/30 [12:22<27:29, 79.97s/it]  "
          ]
        },
        {
          "output_type": "stream",
          "name": "stdout",
          "text": [
            "Train Epoch: 10 [35840/84843 (42%)]\tLoss: 0.610371\n"
          ]
        },
        {
          "output_type": "stream",
          "name": "stderr",
          "text": [
            " 31%|███▏      | 9.429333333332828/30 [12:27<27:28, 80.14s/it]"
          ]
        },
        {
          "output_type": "stream",
          "name": "stdout",
          "text": [
            "Train Epoch: 10 [40960/84843 (48%)]\tLoss: 0.526760\n"
          ]
        },
        {
          "output_type": "stream",
          "name": "stderr",
          "text": [
            " 32%|███▏      | 9.482666666666155/30 [12:31<26:41, 78.07s/it]"
          ]
        },
        {
          "output_type": "stream",
          "name": "stdout",
          "text": [
            "Train Epoch: 10 [46080/84843 (54%)]\tLoss: 0.560076\n"
          ]
        },
        {
          "output_type": "stream",
          "name": "stderr",
          "text": [
            " 32%|███▏      | 9.535999999999483/30 [12:35<26:26, 77.53s/it]"
          ]
        },
        {
          "output_type": "stream",
          "name": "stdout",
          "text": [
            "Train Epoch: 10 [51200/84843 (60%)]\tLoss: 0.563693\n"
          ]
        },
        {
          "output_type": "stream",
          "name": "stderr",
          "text": [
            " 32%|███▏      | 9.58933333333281/30 [12:40<26:55, 79.17s/it] "
          ]
        },
        {
          "output_type": "stream",
          "name": "stdout",
          "text": [
            "Train Epoch: 10 [56320/84843 (66%)]\tLoss: 0.602919\n"
          ]
        },
        {
          "output_type": "stream",
          "name": "stderr",
          "text": [
            " 32%|███▏      | 9.642666666666138/30 [12:44<27:04, 79.81s/it]"
          ]
        },
        {
          "output_type": "stream",
          "name": "stdout",
          "text": [
            "Train Epoch: 10 [61440/84843 (72%)]\tLoss: 0.565969\n"
          ]
        },
        {
          "output_type": "stream",
          "name": "stderr",
          "text": [
            " 32%|███▏      | 9.695999999999465/30 [12:48<26:18, 77.76s/it]"
          ]
        },
        {
          "output_type": "stream",
          "name": "stdout",
          "text": [
            "Train Epoch: 10 [66560/84843 (78%)]\tLoss: 0.551108\n"
          ]
        },
        {
          "output_type": "stream",
          "name": "stderr",
          "text": [
            " 33%|███▎      | 9.751999999999459/30 [12:52<25:46, 76.39s/it]"
          ]
        },
        {
          "output_type": "stream",
          "name": "stdout",
          "text": [
            "Train Epoch: 10 [71680/84843 (84%)]\tLoss: 0.472956\n"
          ]
        },
        {
          "output_type": "stream",
          "name": "stderr",
          "text": [
            " 33%|███▎      | 9.80266666666612/30 [12:56<26:45, 79.50s/it] "
          ]
        },
        {
          "output_type": "stream",
          "name": "stdout",
          "text": [
            "Train Epoch: 10 [76800/84843 (90%)]\tLoss: 0.536774\n"
          ]
        },
        {
          "output_type": "stream",
          "name": "stderr",
          "text": [
            " 33%|███▎      | 9.855999999999447/30 [13:00<26:45, 79.71s/it]"
          ]
        },
        {
          "output_type": "stream",
          "name": "stdout",
          "text": [
            "Train Epoch: 10 [81920/84843 (96%)]\tLoss: 0.578636\n"
          ]
        },
        {
          "output_type": "stream",
          "name": "stderr",
          "text": [
            " 33%|███▎      | 9.999999999999432/30 [13:08<16:34, 49.72s/it]"
          ]
        },
        {
          "output_type": "stream",
          "name": "stdout",
          "text": [
            "\n",
            "Test Epoch: 10\tAccuracy: 7875/11005 (72%)\n",
            "\n"
          ]
        },
        {
          "output_type": "stream",
          "name": "stderr",
          "text": [
            "\r 33%|███▎      | 10.002666666666098/30 [13:09<19:54, 59.73s/it]"
          ]
        },
        {
          "output_type": "stream",
          "name": "stdout",
          "text": [
            "Train Epoch: 11 [0/84843 (0%)]\tLoss: 0.504217\n"
          ]
        },
        {
          "output_type": "stream",
          "name": "stderr",
          "text": [
            " 34%|███▎      | 10.055999999999425/30 [13:13<26:17, 79.08s/it]"
          ]
        },
        {
          "output_type": "stream",
          "name": "stdout",
          "text": [
            "Train Epoch: 11 [5120/84843 (6%)]\tLoss: 0.559272\n"
          ]
        },
        {
          "output_type": "stream",
          "name": "stderr",
          "text": [
            " 34%|███▎      | 10.109333333332753/30 [13:17<27:03, 81.62s/it]"
          ]
        },
        {
          "output_type": "stream",
          "name": "stdout",
          "text": [
            "Train Epoch: 11 [10240/84843 (12%)]\tLoss: 0.496370\n"
          ]
        },
        {
          "output_type": "stream",
          "name": "stderr",
          "text": [
            " 34%|███▍      | 10.16266666666608/30 [13:21<26:38, 80.56s/it] "
          ]
        },
        {
          "output_type": "stream",
          "name": "stdout",
          "text": [
            "Train Epoch: 11 [15360/84843 (18%)]\tLoss: 0.374498\n"
          ]
        },
        {
          "output_type": "stream",
          "name": "stderr",
          "text": [
            " 34%|███▍      | 10.215999999999408/30 [13:25<26:10, 79.38s/it]"
          ]
        },
        {
          "output_type": "stream",
          "name": "stdout",
          "text": [
            "Train Epoch: 11 [20480/84843 (24%)]\tLoss: 0.509621\n"
          ]
        },
        {
          "output_type": "stream",
          "name": "stderr",
          "text": [
            " 34%|███▍      | 10.269333333332735/30 [13:30<25:59, 79.02s/it]"
          ]
        },
        {
          "output_type": "stream",
          "name": "stdout",
          "text": [
            "Train Epoch: 11 [25600/84843 (30%)]\tLoss: 0.561844\n"
          ]
        },
        {
          "output_type": "stream",
          "name": "stderr",
          "text": [
            " 34%|███▍      | 10.322666666666063/30 [13:34<25:17, 77.13s/it]"
          ]
        },
        {
          "output_type": "stream",
          "name": "stdout",
          "text": [
            "Train Epoch: 11 [30720/84843 (36%)]\tLoss: 0.547618\n"
          ]
        },
        {
          "output_type": "stream",
          "name": "stderr",
          "text": [
            " 35%|███▍      | 10.37599999999939/30 [13:39<26:11, 80.09s/it] "
          ]
        },
        {
          "output_type": "stream",
          "name": "stdout",
          "text": [
            "Train Epoch: 11 [35840/84843 (42%)]\tLoss: 0.432120\n"
          ]
        },
        {
          "output_type": "stream",
          "name": "stderr",
          "text": [
            " 35%|███▍      | 10.429333333332718/30 [13:43<25:56, 79.54s/it]"
          ]
        },
        {
          "output_type": "stream",
          "name": "stdout",
          "text": [
            "Train Epoch: 11 [40960/84843 (48%)]\tLoss: 0.477226\n"
          ]
        },
        {
          "output_type": "stream",
          "name": "stderr",
          "text": [
            " 35%|███▍      | 10.482666666666045/30 [13:47<26:21, 81.03s/it]"
          ]
        },
        {
          "output_type": "stream",
          "name": "stdout",
          "text": [
            "Train Epoch: 11 [46080/84843 (54%)]\tLoss: 0.561439\n"
          ]
        },
        {
          "output_type": "stream",
          "name": "stderr",
          "text": [
            " 35%|███▌      | 10.535999999999373/30 [13:51<25:38, 79.06s/it]"
          ]
        },
        {
          "output_type": "stream",
          "name": "stdout",
          "text": [
            "Train Epoch: 11 [51200/84843 (60%)]\tLoss: 0.479328\n"
          ]
        },
        {
          "output_type": "stream",
          "name": "stderr",
          "text": [
            " 35%|███▌      | 10.5893333333327/30 [13:56<25:38, 79.28s/it]  "
          ]
        },
        {
          "output_type": "stream",
          "name": "stdout",
          "text": [
            "Train Epoch: 11 [56320/84843 (66%)]\tLoss: 0.511256\n"
          ]
        },
        {
          "output_type": "stream",
          "name": "stderr",
          "text": [
            " 35%|███▌      | 10.642666666666027/30 [14:00<25:54, 80.29s/it]"
          ]
        },
        {
          "output_type": "stream",
          "name": "stdout",
          "text": [
            "Train Epoch: 11 [61440/84843 (72%)]\tLoss: 0.430289\n"
          ]
        },
        {
          "output_type": "stream",
          "name": "stderr",
          "text": [
            " 36%|███▌      | 10.695999999999355/30 [14:04<25:33, 79.42s/it]"
          ]
        },
        {
          "output_type": "stream",
          "name": "stdout",
          "text": [
            "Train Epoch: 11 [66560/84843 (78%)]\tLoss: 0.426369\n"
          ]
        },
        {
          "output_type": "stream",
          "name": "stderr",
          "text": [
            " 36%|███▌      | 10.749333333332682/30 [14:08<25:11, 78.52s/it]"
          ]
        },
        {
          "output_type": "stream",
          "name": "stdout",
          "text": [
            "Train Epoch: 11 [71680/84843 (84%)]\tLoss: 0.312060\n"
          ]
        },
        {
          "output_type": "stream",
          "name": "stderr",
          "text": [
            " 36%|███▌      | 10.80266666666601/30 [14:12<24:40, 77.10s/it] "
          ]
        },
        {
          "output_type": "stream",
          "name": "stdout",
          "text": [
            "Train Epoch: 11 [76800/84843 (90%)]\tLoss: 0.538395\n"
          ]
        },
        {
          "output_type": "stream",
          "name": "stderr",
          "text": [
            " 36%|███▌      | 10.855999999999337/30 [14:17<25:10, 78.88s/it]"
          ]
        },
        {
          "output_type": "stream",
          "name": "stdout",
          "text": [
            "Train Epoch: 11 [81920/84843 (96%)]\tLoss: 0.606117\n"
          ]
        },
        {
          "output_type": "stream",
          "name": "stderr",
          "text": [
            " 37%|███▋      | 10.999999999999321/30 [14:25<15:46, 49.80s/it]"
          ]
        },
        {
          "output_type": "stream",
          "name": "stdout",
          "text": [
            "\n",
            "Test Epoch: 11\tAccuracy: 8542/11005 (78%)\n",
            "\n"
          ]
        },
        {
          "output_type": "stream",
          "name": "stderr",
          "text": [
            "\r 37%|███▋      | 11.002666666665988/30 [14:25<18:50, 59.51s/it]"
          ]
        },
        {
          "output_type": "stream",
          "name": "stdout",
          "text": [
            "Train Epoch: 12 [0/84843 (0%)]\tLoss: 0.445908\n"
          ]
        },
        {
          "output_type": "stream",
          "name": "stderr",
          "text": [
            " 37%|███▋      | 11.055999999999315/30 [14:29<25:07, 79.55s/it]"
          ]
        },
        {
          "output_type": "stream",
          "name": "stdout",
          "text": [
            "Train Epoch: 12 [5120/84843 (6%)]\tLoss: 0.455411\n"
          ]
        },
        {
          "output_type": "stream",
          "name": "stderr",
          "text": [
            " 37%|███▋      | 11.109333333332643/30 [14:33<24:17, 77.17s/it]"
          ]
        },
        {
          "output_type": "stream",
          "name": "stdout",
          "text": [
            "Train Epoch: 12 [10240/84843 (12%)]\tLoss: 0.577761\n"
          ]
        },
        {
          "output_type": "stream",
          "name": "stderr",
          "text": [
            " 37%|███▋      | 11.16266666666597/30 [14:38<24:38, 78.47s/it] "
          ]
        },
        {
          "output_type": "stream",
          "name": "stdout",
          "text": [
            "Train Epoch: 12 [15360/84843 (18%)]\tLoss: 0.548228\n"
          ]
        },
        {
          "output_type": "stream",
          "name": "stderr",
          "text": [
            " 37%|███▋      | 11.215999999999298/30 [14:42<25:08, 80.32s/it]"
          ]
        },
        {
          "output_type": "stream",
          "name": "stdout",
          "text": [
            "Train Epoch: 12 [20480/84843 (24%)]\tLoss: 0.537432\n"
          ]
        },
        {
          "output_type": "stream",
          "name": "stderr",
          "text": [
            " 38%|███▊      | 11.269333333332625/30 [14:46<24:46, 79.35s/it]"
          ]
        },
        {
          "output_type": "stream",
          "name": "stdout",
          "text": [
            "Train Epoch: 12 [25600/84843 (30%)]\tLoss: 0.415381\n"
          ]
        },
        {
          "output_type": "stream",
          "name": "stderr",
          "text": [
            " 38%|███▊      | 11.322666666665953/30 [14:50<24:20, 78.19s/it]"
          ]
        },
        {
          "output_type": "stream",
          "name": "stdout",
          "text": [
            "Train Epoch: 12 [30720/84843 (36%)]\tLoss: 0.485079\n"
          ]
        },
        {
          "output_type": "stream",
          "name": "stderr",
          "text": [
            " 38%|███▊      | 11.37599999999928/30 [14:55<24:29, 78.89s/it] "
          ]
        },
        {
          "output_type": "stream",
          "name": "stdout",
          "text": [
            "Train Epoch: 12 [35840/84843 (42%)]\tLoss: 0.484943\n"
          ]
        },
        {
          "output_type": "stream",
          "name": "stderr",
          "text": [
            " 38%|███▊      | 11.429333333332607/30 [14:59<24:39, 79.67s/it]"
          ]
        },
        {
          "output_type": "stream",
          "name": "stdout",
          "text": [
            "Train Epoch: 12 [40960/84843 (48%)]\tLoss: 0.545884\n"
          ]
        },
        {
          "output_type": "stream",
          "name": "stderr",
          "text": [
            " 38%|███▊      | 11.482666666665935/30 [15:03<24:22, 79.00s/it]"
          ]
        },
        {
          "output_type": "stream",
          "name": "stdout",
          "text": [
            "Train Epoch: 12 [46080/84843 (54%)]\tLoss: 0.398226\n"
          ]
        },
        {
          "output_type": "stream",
          "name": "stderr",
          "text": [
            " 38%|███▊      | 11.535999999999262/30 [15:07<24:28, 79.51s/it]"
          ]
        },
        {
          "output_type": "stream",
          "name": "stdout",
          "text": [
            "Train Epoch: 12 [51200/84843 (60%)]\tLoss: 0.508471\n"
          ]
        },
        {
          "output_type": "stream",
          "name": "stderr",
          "text": [
            " 39%|███▊      | 11.58933333333259/30 [15:11<24:18, 79.24s/it] "
          ]
        },
        {
          "output_type": "stream",
          "name": "stdout",
          "text": [
            "Train Epoch: 12 [56320/84843 (66%)]\tLoss: 0.459853\n"
          ]
        },
        {
          "output_type": "stream",
          "name": "stderr",
          "text": [
            " 39%|███▉      | 11.642666666665917/30 [15:15<24:03, 78.64s/it]"
          ]
        },
        {
          "output_type": "stream",
          "name": "stdout",
          "text": [
            "Train Epoch: 12 [61440/84843 (72%)]\tLoss: 0.554569\n"
          ]
        },
        {
          "output_type": "stream",
          "name": "stderr",
          "text": [
            " 39%|███▉      | 11.695999999999245/30 [15:20<24:03, 78.86s/it]"
          ]
        },
        {
          "output_type": "stream",
          "name": "stdout",
          "text": [
            "Train Epoch: 12 [66560/84843 (78%)]\tLoss: 0.507051\n"
          ]
        },
        {
          "output_type": "stream",
          "name": "stderr",
          "text": [
            " 39%|███▉      | 11.749333333332572/30 [15:24<23:36, 77.62s/it]"
          ]
        },
        {
          "output_type": "stream",
          "name": "stdout",
          "text": [
            "Train Epoch: 12 [71680/84843 (84%)]\tLoss: 0.597550\n"
          ]
        },
        {
          "output_type": "stream",
          "name": "stderr",
          "text": [
            " 39%|███▉      | 11.8026666666659/30 [15:28<23:36, 77.83s/it]  "
          ]
        },
        {
          "output_type": "stream",
          "name": "stdout",
          "text": [
            "Train Epoch: 12 [76800/84843 (90%)]\tLoss: 0.426589\n"
          ]
        },
        {
          "output_type": "stream",
          "name": "stderr",
          "text": [
            " 40%|███▉      | 11.855999999999227/30 [15:32<23:57, 79.25s/it]"
          ]
        },
        {
          "output_type": "stream",
          "name": "stdout",
          "text": [
            "Train Epoch: 12 [81920/84843 (96%)]\tLoss: 0.572950\n"
          ]
        },
        {
          "output_type": "stream",
          "name": "stderr",
          "text": [
            " 40%|███▉      | 11.999999999999211/30 [15:41<15:30, 51.67s/it]"
          ]
        },
        {
          "output_type": "stream",
          "name": "stdout",
          "text": [
            "\n",
            "Test Epoch: 12\tAccuracy: 8833/11005 (80%)\n",
            "\n"
          ]
        },
        {
          "output_type": "stream",
          "name": "stderr",
          "text": [
            "\r 40%|████      | 12.002666666665878/30 [15:41<18:31, 61.74s/it]"
          ]
        },
        {
          "output_type": "stream",
          "name": "stdout",
          "text": [
            "Train Epoch: 13 [0/84843 (0%)]\tLoss: 0.410206\n"
          ]
        },
        {
          "output_type": "stream",
          "name": "stderr",
          "text": [
            " 40%|████      | 12.055999999999205/30 [15:45<23:46, 79.50s/it]"
          ]
        },
        {
          "output_type": "stream",
          "name": "stdout",
          "text": [
            "Train Epoch: 13 [5120/84843 (6%)]\tLoss: 0.570587\n"
          ]
        },
        {
          "output_type": "stream",
          "name": "stderr",
          "text": [
            " 40%|████      | 12.109333333332533/30 [15:49<22:47, 76.45s/it]"
          ]
        },
        {
          "output_type": "stream",
          "name": "stdout",
          "text": [
            "Train Epoch: 13 [10240/84843 (12%)]\tLoss: 0.595122\n"
          ]
        },
        {
          "output_type": "stream",
          "name": "stderr",
          "text": [
            " 41%|████      | 12.16266666666586/30 [15:53<23:08, 77.83s/it] "
          ]
        },
        {
          "output_type": "stream",
          "name": "stdout",
          "text": [
            "Train Epoch: 13 [15360/84843 (18%)]\tLoss: 0.346756\n"
          ]
        },
        {
          "output_type": "stream",
          "name": "stderr",
          "text": [
            " 41%|████      | 12.215999999999188/30 [15:58<23:50, 80.42s/it]"
          ]
        },
        {
          "output_type": "stream",
          "name": "stdout",
          "text": [
            "Train Epoch: 13 [20480/84843 (24%)]\tLoss: 0.545344\n"
          ]
        },
        {
          "output_type": "stream",
          "name": "stderr",
          "text": [
            " 41%|████      | 12.269333333332515/30 [16:02<23:06, 78.18s/it]"
          ]
        },
        {
          "output_type": "stream",
          "name": "stdout",
          "text": [
            "Train Epoch: 13 [25600/84843 (30%)]\tLoss: 0.674168\n"
          ]
        },
        {
          "output_type": "stream",
          "name": "stderr",
          "text": [
            " 41%|████      | 12.322666666665842/30 [16:06<23:15, 78.92s/it]"
          ]
        },
        {
          "output_type": "stream",
          "name": "stdout",
          "text": [
            "Train Epoch: 13 [30720/84843 (36%)]\tLoss: 0.426317\n"
          ]
        },
        {
          "output_type": "stream",
          "name": "stderr",
          "text": [
            " 41%|████▏     | 12.37599999999917/30 [16:10<23:04, 78.57s/it] "
          ]
        },
        {
          "output_type": "stream",
          "name": "stdout",
          "text": [
            "Train Epoch: 13 [35840/84843 (42%)]\tLoss: 0.574096\n"
          ]
        },
        {
          "output_type": "stream",
          "name": "stderr",
          "text": [
            " 41%|████▏     | 12.429333333332497/30 [16:14<23:07, 78.97s/it]"
          ]
        },
        {
          "output_type": "stream",
          "name": "stdout",
          "text": [
            "Train Epoch: 13 [40960/84843 (48%)]\tLoss: 0.485390\n"
          ]
        },
        {
          "output_type": "stream",
          "name": "stderr",
          "text": [
            " 42%|████▏     | 12.482666666665825/30 [16:19<23:35, 80.80s/it]"
          ]
        },
        {
          "output_type": "stream",
          "name": "stdout",
          "text": [
            "Train Epoch: 13 [46080/84843 (54%)]\tLoss: 0.612326\n"
          ]
        },
        {
          "output_type": "stream",
          "name": "stderr",
          "text": [
            " 42%|████▏     | 12.535999999999152/30 [16:23<22:31, 77.38s/it]"
          ]
        },
        {
          "output_type": "stream",
          "name": "stdout",
          "text": [
            "Train Epoch: 13 [51200/84843 (60%)]\tLoss: 0.445622\n"
          ]
        },
        {
          "output_type": "stream",
          "name": "stderr",
          "text": [
            " 42%|████▏     | 12.58933333333248/30 [16:27<22:53, 78.88s/it] "
          ]
        },
        {
          "output_type": "stream",
          "name": "stdout",
          "text": [
            "Train Epoch: 13 [56320/84843 (66%)]\tLoss: 0.492129\n"
          ]
        },
        {
          "output_type": "stream",
          "name": "stderr",
          "text": [
            " 42%|████▏     | 12.642666666665807/30 [16:31<22:46, 78.71s/it]"
          ]
        },
        {
          "output_type": "stream",
          "name": "stdout",
          "text": [
            "Train Epoch: 13 [61440/84843 (72%)]\tLoss: 0.529814\n"
          ]
        },
        {
          "output_type": "stream",
          "name": "stderr",
          "text": [
            " 42%|████▏     | 12.695999999999135/30 [16:36<22:47, 79.05s/it]"
          ]
        },
        {
          "output_type": "stream",
          "name": "stdout",
          "text": [
            "Train Epoch: 13 [66560/84843 (78%)]\tLoss: 0.519737\n"
          ]
        },
        {
          "output_type": "stream",
          "name": "stderr",
          "text": [
            " 42%|████▏     | 12.749333333332462/30 [16:40<22:46, 79.23s/it]"
          ]
        },
        {
          "output_type": "stream",
          "name": "stdout",
          "text": [
            "Train Epoch: 13 [71680/84843 (84%)]\tLoss: 0.570827\n"
          ]
        },
        {
          "output_type": "stream",
          "name": "stderr",
          "text": [
            " 43%|████▎     | 12.80266666666579/30 [16:44<22:46, 79.47s/it] "
          ]
        },
        {
          "output_type": "stream",
          "name": "stdout",
          "text": [
            "Train Epoch: 13 [76800/84843 (90%)]\tLoss: 0.576602\n"
          ]
        },
        {
          "output_type": "stream",
          "name": "stderr",
          "text": [
            " 43%|████▎     | 12.855999999999117/30 [16:48<22:37, 79.21s/it]"
          ]
        },
        {
          "output_type": "stream",
          "name": "stdout",
          "text": [
            "Train Epoch: 13 [81920/84843 (96%)]\tLoss: 0.458373\n"
          ]
        },
        {
          "output_type": "stream",
          "name": "stderr",
          "text": [
            " 43%|████▎     | 12.999999999999101/30 [16:56<14:40, 51.77s/it]"
          ]
        },
        {
          "output_type": "stream",
          "name": "stdout",
          "text": [
            "\n",
            "Test Epoch: 13\tAccuracy: 8805/11005 (80%)\n",
            "\n"
          ]
        },
        {
          "output_type": "stream",
          "name": "stderr",
          "text": [
            "\r 43%|████▎     | 13.002666666665768/30 [16:56<17:33, 62.01s/it]"
          ]
        },
        {
          "output_type": "stream",
          "name": "stdout",
          "text": [
            "Train Epoch: 14 [0/84843 (0%)]\tLoss: 0.533529\n"
          ]
        },
        {
          "output_type": "stream",
          "name": "stderr",
          "text": [
            " 44%|████▎     | 13.055999999999095/30 [17:01<22:38, 80.18s/it]"
          ]
        },
        {
          "output_type": "stream",
          "name": "stdout",
          "text": [
            "Train Epoch: 14 [5120/84843 (6%)]\tLoss: 0.418880\n"
          ]
        },
        {
          "output_type": "stream",
          "name": "stderr",
          "text": [
            " 44%|████▎     | 13.109333333332422/30 [17:05<22:16, 79.10s/it]"
          ]
        },
        {
          "output_type": "stream",
          "name": "stdout",
          "text": [
            "Train Epoch: 14 [10240/84843 (12%)]\tLoss: 0.481529\n"
          ]
        },
        {
          "output_type": "stream",
          "name": "stderr",
          "text": [
            " 44%|████▍     | 13.16266666666575/30 [17:09<21:57, 78.24s/it] "
          ]
        },
        {
          "output_type": "stream",
          "name": "stdout",
          "text": [
            "Train Epoch: 14 [15360/84843 (18%)]\tLoss: 0.623396\n"
          ]
        },
        {
          "output_type": "stream",
          "name": "stderr",
          "text": [
            " 44%|████▍     | 13.215999999999077/30 [17:13<21:57, 78.52s/it]"
          ]
        },
        {
          "output_type": "stream",
          "name": "stdout",
          "text": [
            "Train Epoch: 14 [20480/84843 (24%)]\tLoss: 0.558433\n"
          ]
        },
        {
          "output_type": "stream",
          "name": "stderr",
          "text": [
            " 44%|████▍     | 13.269333333332405/30 [17:17<22:25, 80.43s/it]"
          ]
        },
        {
          "output_type": "stream",
          "name": "stdout",
          "text": [
            "Train Epoch: 14 [25600/84843 (30%)]\tLoss: 0.688839\n"
          ]
        },
        {
          "output_type": "stream",
          "name": "stderr",
          "text": [
            " 44%|████▍     | 13.322666666665732/30 [17:22<22:04, 79.44s/it]"
          ]
        },
        {
          "output_type": "stream",
          "name": "stdout",
          "text": [
            "Train Epoch: 14 [30720/84843 (36%)]\tLoss: 0.467294\n"
          ]
        },
        {
          "output_type": "stream",
          "name": "stderr",
          "text": [
            " 45%|████▍     | 13.37599999999906/30 [17:26<21:08, 76.29s/it] "
          ]
        },
        {
          "output_type": "stream",
          "name": "stdout",
          "text": [
            "Train Epoch: 14 [35840/84843 (42%)]\tLoss: 0.418957\n"
          ]
        },
        {
          "output_type": "stream",
          "name": "stderr",
          "text": [
            " 45%|████▍     | 13.429333333332387/30 [17:30<21:59, 79.66s/it]"
          ]
        },
        {
          "output_type": "stream",
          "name": "stdout",
          "text": [
            "Train Epoch: 14 [40960/84843 (48%)]\tLoss: 0.412518\n"
          ]
        },
        {
          "output_type": "stream",
          "name": "stderr",
          "text": [
            " 45%|████▍     | 13.482666666665715/30 [17:35<24:58, 90.73s/it]"
          ]
        },
        {
          "output_type": "stream",
          "name": "stdout",
          "text": [
            "Train Epoch: 14 [46080/84843 (54%)]\tLoss: 0.388214\n"
          ]
        },
        {
          "output_type": "stream",
          "name": "stderr",
          "text": [
            " 45%|████▌     | 13.535999999999042/30 [17:39<21:42, 79.14s/it]"
          ]
        },
        {
          "output_type": "stream",
          "name": "stdout",
          "text": [
            "Train Epoch: 14 [51200/84843 (60%)]\tLoss: 0.476894\n"
          ]
        },
        {
          "output_type": "stream",
          "name": "stderr",
          "text": [
            " 45%|████▌     | 13.58933333333237/30 [17:43<20:44, 75.85s/it] "
          ]
        },
        {
          "output_type": "stream",
          "name": "stdout",
          "text": [
            "Train Epoch: 14 [56320/84843 (66%)]\tLoss: 0.530261\n"
          ]
        },
        {
          "output_type": "stream",
          "name": "stderr",
          "text": [
            " 45%|████▌     | 13.642666666665697/30 [17:47<21:45, 79.80s/it]"
          ]
        },
        {
          "output_type": "stream",
          "name": "stdout",
          "text": [
            "Train Epoch: 14 [61440/84843 (72%)]\tLoss: 0.629162\n"
          ]
        },
        {
          "output_type": "stream",
          "name": "stderr",
          "text": [
            " 46%|████▌     | 13.695999999999025/30 [17:51<21:33, 79.34s/it]"
          ]
        },
        {
          "output_type": "stream",
          "name": "stdout",
          "text": [
            "Train Epoch: 14 [66560/84843 (78%)]\tLoss: 0.572921\n"
          ]
        },
        {
          "output_type": "stream",
          "name": "stderr",
          "text": [
            " 46%|████▌     | 13.749333333332352/30 [17:56<22:01, 81.34s/it]"
          ]
        },
        {
          "output_type": "stream",
          "name": "stdout",
          "text": [
            "Train Epoch: 14 [71680/84843 (84%)]\tLoss: 0.568565\n"
          ]
        },
        {
          "output_type": "stream",
          "name": "stderr",
          "text": [
            " 46%|████▌     | 13.80266666666568/30 [18:00<21:16, 78.82s/it] "
          ]
        },
        {
          "output_type": "stream",
          "name": "stdout",
          "text": [
            "Train Epoch: 14 [76800/84843 (90%)]\tLoss: 0.555779\n"
          ]
        },
        {
          "output_type": "stream",
          "name": "stderr",
          "text": [
            " 46%|████▌     | 13.855999999999007/30 [18:04<21:04, 78.32s/it]"
          ]
        },
        {
          "output_type": "stream",
          "name": "stdout",
          "text": [
            "Train Epoch: 14 [81920/84843 (96%)]\tLoss: 0.477921\n"
          ]
        },
        {
          "output_type": "stream",
          "name": "stderr",
          "text": [
            " 47%|████▋     | 13.999999999998991/30 [18:12<13:26, 50.40s/it]"
          ]
        },
        {
          "output_type": "stream",
          "name": "stdout",
          "text": [
            "\n",
            "Test Epoch: 14\tAccuracy: 8828/11005 (80%)\n",
            "\n"
          ]
        },
        {
          "output_type": "stream",
          "name": "stderr",
          "text": [
            "\r 47%|████▋     | 14.002666666665657/30 [18:12<16:00, 60.06s/it]"
          ]
        },
        {
          "output_type": "stream",
          "name": "stdout",
          "text": [
            "Train Epoch: 15 [0/84843 (0%)]\tLoss: 0.500763\n"
          ]
        },
        {
          "output_type": "stream",
          "name": "stderr",
          "text": [
            " 47%|████▋     | 14.055999999998985/30 [18:16<20:50, 78.41s/it]"
          ]
        },
        {
          "output_type": "stream",
          "name": "stdout",
          "text": [
            "Train Epoch: 15 [5120/84843 (6%)]\tLoss: 0.352717\n"
          ]
        },
        {
          "output_type": "stream",
          "name": "stderr",
          "text": [
            " 47%|████▋     | 14.111999999998979/30 [18:21<20:30, 77.45s/it]"
          ]
        },
        {
          "output_type": "stream",
          "name": "stdout",
          "text": [
            "Train Epoch: 15 [10240/84843 (12%)]\tLoss: 0.528793\n"
          ]
        },
        {
          "output_type": "stream",
          "name": "stderr",
          "text": [
            " 47%|████▋     | 14.16266666666564/30 [18:25<20:39, 78.24s/it] "
          ]
        },
        {
          "output_type": "stream",
          "name": "stdout",
          "text": [
            "Train Epoch: 15 [15360/84843 (18%)]\tLoss: 0.513064\n"
          ]
        },
        {
          "output_type": "stream",
          "name": "stderr",
          "text": [
            " 47%|████▋     | 14.215999999998967/30 [18:29<20:15, 77.04s/it]"
          ]
        },
        {
          "output_type": "stream",
          "name": "stdout",
          "text": [
            "Train Epoch: 15 [20480/84843 (24%)]\tLoss: 0.447278\n"
          ]
        },
        {
          "output_type": "stream",
          "name": "stderr",
          "text": [
            " 48%|████▊     | 14.269333333332295/30 [18:33<26:04, 99.43s/it]"
          ]
        },
        {
          "output_type": "stream",
          "name": "stdout",
          "text": [
            "Train Epoch: 15 [25600/84843 (30%)]\tLoss: 0.448829\n"
          ]
        },
        {
          "output_type": "stream",
          "name": "stderr",
          "text": [
            " 48%|████▊     | 14.322666666665622/30 [18:38<20:25, 78.16s/it]"
          ]
        },
        {
          "output_type": "stream",
          "name": "stdout",
          "text": [
            "Train Epoch: 15 [30720/84843 (36%)]\tLoss: 0.472514\n"
          ]
        },
        {
          "output_type": "stream",
          "name": "stderr",
          "text": [
            " 48%|████▊     | 14.37599999999895/30 [18:42<21:03, 80.85s/it] "
          ]
        },
        {
          "output_type": "stream",
          "name": "stdout",
          "text": [
            "Train Epoch: 15 [35840/84843 (42%)]\tLoss: 0.497039\n"
          ]
        },
        {
          "output_type": "stream",
          "name": "stderr",
          "text": [
            " 48%|████▊     | 14.429333333332277/30 [18:46<20:23, 78.58s/it]"
          ]
        },
        {
          "output_type": "stream",
          "name": "stdout",
          "text": [
            "Train Epoch: 15 [40960/84843 (48%)]\tLoss: 0.553844\n"
          ]
        },
        {
          "output_type": "stream",
          "name": "stderr",
          "text": [
            " 48%|████▊     | 14.482666666665605/30 [18:50<20:32, 79.40s/it]"
          ]
        },
        {
          "output_type": "stream",
          "name": "stdout",
          "text": [
            "Train Epoch: 15 [46080/84843 (54%)]\tLoss: 0.545832\n"
          ]
        },
        {
          "output_type": "stream",
          "name": "stderr",
          "text": [
            " 48%|████▊     | 14.535999999998932/30 [18:54<20:22, 79.03s/it]"
          ]
        },
        {
          "output_type": "stream",
          "name": "stdout",
          "text": [
            "Train Epoch: 15 [51200/84843 (60%)]\tLoss: 0.586887\n"
          ]
        },
        {
          "output_type": "stream",
          "name": "stderr",
          "text": [
            " 49%|████▊     | 14.58933333333226/30 [18:59<20:22, 79.35s/it] "
          ]
        },
        {
          "output_type": "stream",
          "name": "stdout",
          "text": [
            "Train Epoch: 15 [56320/84843 (66%)]\tLoss: 0.587636\n"
          ]
        },
        {
          "output_type": "stream",
          "name": "stderr",
          "text": [
            " 49%|████▉     | 14.642666666665587/30 [19:03<19:33, 76.44s/it]"
          ]
        },
        {
          "output_type": "stream",
          "name": "stdout",
          "text": [
            "Train Epoch: 15 [61440/84843 (72%)]\tLoss: 0.512645\n"
          ]
        },
        {
          "output_type": "stream",
          "name": "stderr",
          "text": [
            " 49%|████▉     | 14.695999999998914/30 [19:07<19:59, 78.36s/it]"
          ]
        },
        {
          "output_type": "stream",
          "name": "stdout",
          "text": [
            "Train Epoch: 15 [66560/84843 (78%)]\tLoss: 0.393452\n"
          ]
        },
        {
          "output_type": "stream",
          "name": "stderr",
          "text": [
            " 49%|████▉     | 14.749333333332242/30 [19:11<20:19, 79.95s/it]"
          ]
        },
        {
          "output_type": "stream",
          "name": "stdout",
          "text": [
            "Train Epoch: 15 [71680/84843 (84%)]\tLoss: 0.519892\n"
          ]
        },
        {
          "output_type": "stream",
          "name": "stderr",
          "text": [
            " 49%|████▉     | 14.80266666666557/30 [19:15<19:49, 78.28s/it] "
          ]
        },
        {
          "output_type": "stream",
          "name": "stdout",
          "text": [
            "Train Epoch: 15 [76800/84843 (90%)]\tLoss: 0.543667\n"
          ]
        },
        {
          "output_type": "stream",
          "name": "stderr",
          "text": [
            " 50%|████▉     | 14.855999999998897/30 [19:20<19:20, 76.64s/it]"
          ]
        },
        {
          "output_type": "stream",
          "name": "stdout",
          "text": [
            "Train Epoch: 15 [81920/84843 (96%)]\tLoss: 0.448252\n"
          ]
        },
        {
          "output_type": "stream",
          "name": "stderr",
          "text": [
            " 50%|████▉     | 14.999999999998881/30 [19:27<12:04, 48.30s/it]"
          ]
        },
        {
          "output_type": "stream",
          "name": "stdout",
          "text": [
            "\n",
            "Test Epoch: 15\tAccuracy: 8315/11005 (76%)\n",
            "\n"
          ]
        },
        {
          "output_type": "stream",
          "name": "stderr",
          "text": [
            "\r 50%|█████     | 15.002666666665547/30 [19:28<14:49, 59.33s/it]"
          ]
        },
        {
          "output_type": "stream",
          "name": "stdout",
          "text": [
            "Train Epoch: 16 [0/84843 (0%)]\tLoss: 0.513147\n"
          ]
        },
        {
          "output_type": "stream",
          "name": "stderr",
          "text": [
            " 50%|█████     | 15.055999999998875/30 [19:32<19:06, 76.73s/it]"
          ]
        },
        {
          "output_type": "stream",
          "name": "stdout",
          "text": [
            "Train Epoch: 16 [5120/84843 (6%)]\tLoss: 0.560955\n"
          ]
        },
        {
          "output_type": "stream",
          "name": "stderr",
          "text": [
            " 50%|█████     | 15.109333333332202/30 [19:36<19:09, 77.18s/it]"
          ]
        },
        {
          "output_type": "stream",
          "name": "stdout",
          "text": [
            "Train Epoch: 16 [10240/84843 (12%)]\tLoss: 0.435326\n"
          ]
        },
        {
          "output_type": "stream",
          "name": "stderr",
          "text": [
            " 51%|█████     | 15.16266666666553/30 [19:40<19:45, 79.92s/it] "
          ]
        },
        {
          "output_type": "stream",
          "name": "stdout",
          "text": [
            "Train Epoch: 16 [15360/84843 (18%)]\tLoss: 0.336349\n"
          ]
        },
        {
          "output_type": "stream",
          "name": "stderr",
          "text": [
            " 51%|█████     | 15.215999999998857/30 [19:47<43:33, 176.76s/it]"
          ]
        },
        {
          "output_type": "stream",
          "name": "stdout",
          "text": [
            "Train Epoch: 16 [20480/84843 (24%)]\tLoss: 0.538370\n"
          ]
        },
        {
          "output_type": "stream",
          "name": "stderr",
          "text": [
            " 51%|█████     | 15.269333333332185/30 [19:54<32:03, 130.61s/it]"
          ]
        },
        {
          "output_type": "stream",
          "name": "stdout",
          "text": [
            "Train Epoch: 16 [25600/84843 (30%)]\tLoss: 0.465163\n"
          ]
        },
        {
          "output_type": "stream",
          "name": "stderr",
          "text": [
            " 51%|█████     | 15.322666666665512/30 [20:01<32:05, 131.17s/it]"
          ]
        },
        {
          "output_type": "stream",
          "name": "stdout",
          "text": [
            "Train Epoch: 16 [30720/84843 (36%)]\tLoss: 0.589883\n"
          ]
        },
        {
          "output_type": "stream",
          "name": "stderr",
          "text": [
            " 51%|█████▏    | 15.37599999999884/30 [20:08<30:27, 124.98s/it] "
          ]
        },
        {
          "output_type": "stream",
          "name": "stdout",
          "text": [
            "Train Epoch: 16 [35840/84843 (42%)]\tLoss: 0.516098\n"
          ]
        },
        {
          "output_type": "stream",
          "name": "stderr",
          "text": [
            " 51%|█████▏    | 15.429333333332167/30 [20:15<30:27, 125.41s/it]"
          ]
        },
        {
          "output_type": "stream",
          "name": "stdout",
          "text": [
            "Train Epoch: 16 [40960/84843 (48%)]\tLoss: 0.548516\n"
          ]
        },
        {
          "output_type": "stream",
          "name": "stderr",
          "text": [
            " 52%|█████▏    | 15.482666666665494/30 [20:21<29:48, 123.19s/it]"
          ]
        },
        {
          "output_type": "stream",
          "name": "stdout",
          "text": [
            "Train Epoch: 16 [46080/84843 (54%)]\tLoss: 0.480651\n"
          ]
        },
        {
          "output_type": "stream",
          "name": "stderr",
          "text": [
            " 52%|█████▏    | 15.535999999998822/30 [20:28<29:57, 124.26s/it]"
          ]
        },
        {
          "output_type": "stream",
          "name": "stdout",
          "text": [
            "Train Epoch: 16 [51200/84843 (60%)]\tLoss: 0.546003\n"
          ]
        },
        {
          "output_type": "stream",
          "name": "stderr",
          "text": [
            " 52%|█████▏    | 15.58933333333215/30 [20:35<30:45, 128.09s/it] "
          ]
        },
        {
          "output_type": "stream",
          "name": "stdout",
          "text": [
            "Train Epoch: 16 [56320/84843 (66%)]\tLoss: 0.577080\n"
          ]
        },
        {
          "output_type": "stream",
          "name": "stderr",
          "text": [
            " 52%|█████▏    | 15.642666666665477/30 [20:42<30:00, 125.41s/it]"
          ]
        },
        {
          "output_type": "stream",
          "name": "stdout",
          "text": [
            "Train Epoch: 16 [61440/84843 (72%)]\tLoss: 0.629847\n"
          ]
        },
        {
          "output_type": "stream",
          "name": "stderr",
          "text": [
            " 52%|█████▏    | 15.695999999998804/30 [20:48<29:35, 124.10s/it]"
          ]
        },
        {
          "output_type": "stream",
          "name": "stdout",
          "text": [
            "Train Epoch: 16 [66560/84843 (78%)]\tLoss: 0.533073\n"
          ]
        },
        {
          "output_type": "stream",
          "name": "stderr",
          "text": [
            " 52%|█████▏    | 15.749333333332132/30 [20:55<28:50, 121.41s/it]"
          ]
        },
        {
          "output_type": "stream",
          "name": "stdout",
          "text": [
            "Train Epoch: 16 [71680/84843 (84%)]\tLoss: 0.537508\n"
          ]
        },
        {
          "output_type": "stream",
          "name": "stderr",
          "text": [
            " 53%|█████▎    | 15.80266666666546/30 [21:01<30:02, 126.95s/it] "
          ]
        },
        {
          "output_type": "stream",
          "name": "stdout",
          "text": [
            "Train Epoch: 16 [76800/84843 (90%)]\tLoss: 0.471155\n"
          ]
        },
        {
          "output_type": "stream",
          "name": "stderr",
          "text": [
            " 53%|█████▎    | 15.855999999998787/30 [21:08<29:10, 123.75s/it]"
          ]
        },
        {
          "output_type": "stream",
          "name": "stdout",
          "text": [
            "Train Epoch: 16 [81920/84843 (96%)]\tLoss: 0.539360\n"
          ]
        },
        {
          "output_type": "stream",
          "name": "stderr",
          "text": [
            " 53%|█████▎    | 15.99999999999877/30 [21:33<28:04, 120.32s/it] "
          ]
        },
        {
          "output_type": "stream",
          "name": "stdout",
          "text": [
            "\n",
            "Test Epoch: 16\tAccuracy: 8925/11005 (81%)\n",
            "\n"
          ]
        },
        {
          "output_type": "stream",
          "name": "stderr",
          "text": [
            "\r 53%|█████▎    | 16.002666666665437/30 [21:33<25:43, 110.29s/it]"
          ]
        },
        {
          "output_type": "stream",
          "name": "stdout",
          "text": [
            "Train Epoch: 17 [0/84843 (0%)]\tLoss: 0.541061\n"
          ]
        },
        {
          "output_type": "stream",
          "name": "stderr",
          "text": [
            " 54%|█████▎    | 16.055999999998765/30 [21:38<20:28, 88.13s/it]"
          ]
        },
        {
          "output_type": "stream",
          "name": "stdout",
          "text": [
            "Train Epoch: 17 [5120/84843 (6%)]\tLoss: 0.512851\n"
          ]
        },
        {
          "output_type": "stream",
          "name": "stderr",
          "text": [
            " 54%|█████▎    | 16.109333333332092/30 [21:43<20:49, 89.92s/it]"
          ]
        },
        {
          "output_type": "stream",
          "name": "stdout",
          "text": [
            "Train Epoch: 17 [10240/84843 (12%)]\tLoss: 0.427075\n"
          ]
        },
        {
          "output_type": "stream",
          "name": "stderr",
          "text": [
            " 54%|█████▍    | 16.16266666666542/30 [21:47<19:29, 84.52s/it] "
          ]
        },
        {
          "output_type": "stream",
          "name": "stdout",
          "text": [
            "Train Epoch: 17 [15360/84843 (18%)]\tLoss: 0.496474\n"
          ]
        },
        {
          "output_type": "stream",
          "name": "stderr",
          "text": [
            " 54%|█████▍    | 16.215999999998747/30 [21:52<19:49, 86.29s/it]"
          ]
        },
        {
          "output_type": "stream",
          "name": "stdout",
          "text": [
            "Train Epoch: 17 [20480/84843 (24%)]\tLoss: 0.398060\n"
          ]
        },
        {
          "output_type": "stream",
          "name": "stderr",
          "text": [
            " 54%|█████▍    | 16.269333333332074/30 [21:56<19:52, 86.87s/it]"
          ]
        },
        {
          "output_type": "stream",
          "name": "stdout",
          "text": [
            "Train Epoch: 17 [25600/84843 (30%)]\tLoss: 0.414157\n"
          ]
        },
        {
          "output_type": "stream",
          "name": "stderr",
          "text": [
            " 54%|█████▍    | 16.322666666665402/30 [22:01<19:33, 85.78s/it]"
          ]
        },
        {
          "output_type": "stream",
          "name": "stdout",
          "text": [
            "Train Epoch: 17 [30720/84843 (36%)]\tLoss: 0.582918\n"
          ]
        },
        {
          "output_type": "stream",
          "name": "stderr",
          "text": [
            " 55%|█████▍    | 16.37599999999873/30 [22:06<19:26, 85.59s/it] "
          ]
        },
        {
          "output_type": "stream",
          "name": "stdout",
          "text": [
            "Train Epoch: 17 [35840/84843 (42%)]\tLoss: 0.483539\n"
          ]
        },
        {
          "output_type": "stream",
          "name": "stderr",
          "text": [
            " 55%|█████▍    | 16.429333333332057/30 [22:10<19:45, 87.32s/it]"
          ]
        },
        {
          "output_type": "stream",
          "name": "stdout",
          "text": [
            "Train Epoch: 17 [40960/84843 (48%)]\tLoss: 0.637134\n"
          ]
        },
        {
          "output_type": "stream",
          "name": "stderr",
          "text": [
            " 55%|█████▍    | 16.482666666665384/30 [22:15<19:00, 84.36s/it]"
          ]
        },
        {
          "output_type": "stream",
          "name": "stdout",
          "text": [
            "Train Epoch: 17 [46080/84843 (54%)]\tLoss: 0.610736\n"
          ]
        },
        {
          "output_type": "stream",
          "name": "stderr",
          "text": [
            " 55%|█████▌    | 16.53599999999871/30 [22:19<19:29, 86.84s/it] "
          ]
        },
        {
          "output_type": "stream",
          "name": "stdout",
          "text": [
            "Train Epoch: 17 [51200/84843 (60%)]\tLoss: 0.450175\n"
          ]
        },
        {
          "output_type": "stream",
          "name": "stderr",
          "text": [
            " 55%|█████▌    | 16.58933333333204/30 [22:24<19:12, 85.97s/it] "
          ]
        },
        {
          "output_type": "stream",
          "name": "stdout",
          "text": [
            "Train Epoch: 17 [56320/84843 (66%)]\tLoss: 0.542120\n"
          ]
        },
        {
          "output_type": "stream",
          "name": "stderr",
          "text": [
            " 55%|█████▌    | 16.642666666665367/30 [22:29<19:04, 85.70s/it]"
          ]
        },
        {
          "output_type": "stream",
          "name": "stdout",
          "text": [
            "Train Epoch: 17 [61440/84843 (72%)]\tLoss: 0.585886\n"
          ]
        },
        {
          "output_type": "stream",
          "name": "stderr",
          "text": [
            " 56%|█████▌    | 16.695999999998694/30 [22:33<18:43, 84.41s/it]"
          ]
        },
        {
          "output_type": "stream",
          "name": "stdout",
          "text": [
            "Train Epoch: 17 [66560/84843 (78%)]\tLoss: 0.454799\n"
          ]
        },
        {
          "output_type": "stream",
          "name": "stderr",
          "text": [
            " 56%|█████▌    | 16.74933333333202/30 [22:38<19:21, 87.68s/it] "
          ]
        },
        {
          "output_type": "stream",
          "name": "stdout",
          "text": [
            "Train Epoch: 17 [71680/84843 (84%)]\tLoss: 0.520814\n"
          ]
        },
        {
          "output_type": "stream",
          "name": "stderr",
          "text": [
            " 56%|█████▌    | 16.80266666666535/30 [22:43<18:49, 85.56s/it] "
          ]
        },
        {
          "output_type": "stream",
          "name": "stdout",
          "text": [
            "Train Epoch: 17 [76800/84843 (90%)]\tLoss: 0.529743\n"
          ]
        },
        {
          "output_type": "stream",
          "name": "stderr",
          "text": [
            " 56%|█████▌    | 16.855999999998676/30 [22:47<19:13, 87.77s/it]"
          ]
        },
        {
          "output_type": "stream",
          "name": "stdout",
          "text": [
            "Train Epoch: 17 [81920/84843 (96%)]\tLoss: 0.454341\n"
          ]
        },
        {
          "output_type": "stream",
          "name": "stderr",
          "text": [
            " 57%|█████▋    | 16.99999999999866/30 [22:55<10:43, 49.53s/it] "
          ]
        },
        {
          "output_type": "stream",
          "name": "stdout",
          "text": [
            "\n",
            "Test Epoch: 17\tAccuracy: 9069/11005 (82%)\n",
            "\n"
          ]
        },
        {
          "output_type": "stream",
          "name": "stderr",
          "text": [
            "\r 57%|█████▋    | 17.002666666665327/30 [22:56<12:48, 59.13s/it]"
          ]
        },
        {
          "output_type": "stream",
          "name": "stdout",
          "text": [
            "Train Epoch: 18 [0/84843 (0%)]\tLoss: 0.470342\n"
          ]
        },
        {
          "output_type": "stream",
          "name": "stderr",
          "text": [
            " 57%|█████▋    | 17.055999999998654/30 [23:00<16:51, 78.14s/it]"
          ]
        },
        {
          "output_type": "stream",
          "name": "stdout",
          "text": [
            "Train Epoch: 18 [5120/84843 (6%)]\tLoss: 0.395842\n"
          ]
        },
        {
          "output_type": "stream",
          "name": "stderr",
          "text": [
            " 57%|█████▋    | 17.109333333331982/30 [23:04<16:22, 76.19s/it]"
          ]
        },
        {
          "output_type": "stream",
          "name": "stdout",
          "text": [
            "Train Epoch: 18 [10240/84843 (12%)]\tLoss: 0.491196\n"
          ]
        },
        {
          "output_type": "stream",
          "name": "stderr",
          "text": [
            " 57%|█████▋    | 17.16266666666531/30 [23:08<16:51, 78.80s/it] "
          ]
        },
        {
          "output_type": "stream",
          "name": "stdout",
          "text": [
            "Train Epoch: 18 [15360/84843 (18%)]\tLoss: 0.541885\n"
          ]
        },
        {
          "output_type": "stream",
          "name": "stderr",
          "text": [
            " 57%|█████▋    | 17.215999999998637/30 [23:12<16:56, 79.50s/it]"
          ]
        },
        {
          "output_type": "stream",
          "name": "stdout",
          "text": [
            "Train Epoch: 18 [20480/84843 (24%)]\tLoss: 0.596836\n"
          ]
        },
        {
          "output_type": "stream",
          "name": "stderr",
          "text": [
            " 58%|█████▊    | 17.269333333331964/30 [23:17<16:55, 79.74s/it]"
          ]
        },
        {
          "output_type": "stream",
          "name": "stdout",
          "text": [
            "Train Epoch: 18 [25600/84843 (30%)]\tLoss: 0.439468\n"
          ]
        },
        {
          "output_type": "stream",
          "name": "stderr",
          "text": [
            " 58%|█████▊    | 17.32266666666529/30 [23:21<16:50, 79.70s/it] "
          ]
        },
        {
          "output_type": "stream",
          "name": "stdout",
          "text": [
            "Train Epoch: 18 [30720/84843 (36%)]\tLoss: 0.494258\n"
          ]
        },
        {
          "output_type": "stream",
          "name": "stderr",
          "text": [
            " 58%|█████▊    | 17.37599999999862/30 [23:25<16:24, 77.96s/it] "
          ]
        },
        {
          "output_type": "stream",
          "name": "stdout",
          "text": [
            "Train Epoch: 18 [35840/84843 (42%)]\tLoss: 0.450095\n"
          ]
        },
        {
          "output_type": "stream",
          "name": "stderr",
          "text": [
            " 58%|█████▊    | 17.429333333331947/30 [23:29<16:29, 78.70s/it]"
          ]
        },
        {
          "output_type": "stream",
          "name": "stdout",
          "text": [
            "Train Epoch: 18 [40960/84843 (48%)]\tLoss: 0.547330\n"
          ]
        },
        {
          "output_type": "stream",
          "name": "stderr",
          "text": [
            " 58%|█████▊    | 17.482666666665274/30 [23:34<16:42, 80.07s/it]"
          ]
        },
        {
          "output_type": "stream",
          "name": "stdout",
          "text": [
            "Train Epoch: 18 [46080/84843 (54%)]\tLoss: 0.509909\n"
          ]
        },
        {
          "output_type": "stream",
          "name": "stderr",
          "text": [
            " 58%|█████▊    | 17.5359999999986/30 [23:38<16:36, 79.99s/it]  "
          ]
        },
        {
          "output_type": "stream",
          "name": "stdout",
          "text": [
            "Train Epoch: 18 [51200/84843 (60%)]\tLoss: 0.471008\n"
          ]
        },
        {
          "output_type": "stream",
          "name": "stderr",
          "text": [
            " 59%|█████▊    | 17.58933333333193/30 [23:43<17:03, 82.49s/it] "
          ]
        },
        {
          "output_type": "stream",
          "name": "stdout",
          "text": [
            "Train Epoch: 18 [56320/84843 (66%)]\tLoss: 0.536066\n"
          ]
        },
        {
          "output_type": "stream",
          "name": "stderr",
          "text": [
            " 59%|█████▉    | 17.642666666665257/30 [23:47<16:38, 80.77s/it]"
          ]
        },
        {
          "output_type": "stream",
          "name": "stdout",
          "text": [
            "Train Epoch: 18 [61440/84843 (72%)]\tLoss: 0.364597\n"
          ]
        },
        {
          "output_type": "stream",
          "name": "stderr",
          "text": [
            " 59%|█████▉    | 17.695999999998584/30 [23:51<16:04, 78.42s/it]"
          ]
        },
        {
          "output_type": "stream",
          "name": "stdout",
          "text": [
            "Train Epoch: 18 [66560/84843 (78%)]\tLoss: 0.387711\n"
          ]
        },
        {
          "output_type": "stream",
          "name": "stderr",
          "text": [
            " 59%|█████▉    | 17.74933333333191/30 [23:55<16:23, 80.29s/it] "
          ]
        },
        {
          "output_type": "stream",
          "name": "stdout",
          "text": [
            "Train Epoch: 18 [71680/84843 (84%)]\tLoss: 0.470764\n"
          ]
        },
        {
          "output_type": "stream",
          "name": "stderr",
          "text": [
            " 59%|█████▉    | 17.80266666666524/30 [23:59<15:41, 77.19s/it] "
          ]
        },
        {
          "output_type": "stream",
          "name": "stdout",
          "text": [
            "Train Epoch: 18 [76800/84843 (90%)]\tLoss: 0.563494\n"
          ]
        },
        {
          "output_type": "stream",
          "name": "stderr",
          "text": [
            " 60%|█████▉    | 17.855999999998566/30 [24:04<15:42, 77.64s/it]"
          ]
        },
        {
          "output_type": "stream",
          "name": "stdout",
          "text": [
            "Train Epoch: 18 [81920/84843 (96%)]\tLoss: 0.612631\n"
          ]
        },
        {
          "output_type": "stream",
          "name": "stderr",
          "text": [
            " 60%|█████▉    | 17.99999999999855/30 [24:12<10:18, 51.58s/it] "
          ]
        },
        {
          "output_type": "stream",
          "name": "stdout",
          "text": [
            "\n",
            "Test Epoch: 18\tAccuracy: 8687/11005 (79%)\n",
            "\n"
          ]
        },
        {
          "output_type": "stream",
          "name": "stderr",
          "text": [
            "\r 60%|██████    | 18.002666666665217/30 [24:12<12:27, 62.31s/it]"
          ]
        },
        {
          "output_type": "stream",
          "name": "stdout",
          "text": [
            "Train Epoch: 19 [0/84843 (0%)]\tLoss: 0.458463\n"
          ]
        },
        {
          "output_type": "stream",
          "name": "stderr",
          "text": [
            " 60%|██████    | 18.055999999998544/30 [24:16<16:06, 80.91s/it]"
          ]
        },
        {
          "output_type": "stream",
          "name": "stdout",
          "text": [
            "Train Epoch: 19 [5120/84843 (6%)]\tLoss: 0.489431\n"
          ]
        },
        {
          "output_type": "stream",
          "name": "stderr",
          "text": [
            " 60%|██████    | 18.109333333331872/30 [24:20<15:32, 78.42s/it]"
          ]
        },
        {
          "output_type": "stream",
          "name": "stdout",
          "text": [
            "Train Epoch: 19 [10240/84843 (12%)]\tLoss: 0.424479\n"
          ]
        },
        {
          "output_type": "stream",
          "name": "stderr",
          "text": [
            " 61%|██████    | 18.1626666666652/30 [24:24<15:00, 76.08s/it]  "
          ]
        },
        {
          "output_type": "stream",
          "name": "stdout",
          "text": [
            "Train Epoch: 19 [15360/84843 (18%)]\tLoss: 0.410602\n"
          ]
        },
        {
          "output_type": "stream",
          "name": "stderr",
          "text": [
            " 61%|██████    | 18.215999999998527/30 [24:29<15:49, 80.56s/it]"
          ]
        },
        {
          "output_type": "stream",
          "name": "stdout",
          "text": [
            "Train Epoch: 19 [20480/84843 (24%)]\tLoss: 0.525987\n"
          ]
        },
        {
          "output_type": "stream",
          "name": "stderr",
          "text": [
            " 61%|██████    | 18.27199999999852/30 [24:34<15:09, 77.53s/it] "
          ]
        },
        {
          "output_type": "stream",
          "name": "stdout",
          "text": [
            "Train Epoch: 19 [25600/84843 (30%)]\tLoss: 0.635411\n"
          ]
        },
        {
          "output_type": "stream",
          "name": "stderr",
          "text": [
            " 61%|██████    | 18.32266666666518/30 [24:38<15:38, 80.37s/it] "
          ]
        },
        {
          "output_type": "stream",
          "name": "stdout",
          "text": [
            "Train Epoch: 19 [30720/84843 (36%)]\tLoss: 0.520320\n"
          ]
        },
        {
          "output_type": "stream",
          "name": "stderr",
          "text": [
            " 61%|██████▏   | 18.37599999999851/30 [24:42<15:32, 80.26s/it] "
          ]
        },
        {
          "output_type": "stream",
          "name": "stdout",
          "text": [
            "Train Epoch: 19 [35840/84843 (42%)]\tLoss: 0.342946\n"
          ]
        },
        {
          "output_type": "stream",
          "name": "stderr",
          "text": [
            " 61%|██████▏   | 18.429333333331837/30 [24:46<14:59, 77.72s/it]"
          ]
        },
        {
          "output_type": "stream",
          "name": "stdout",
          "text": [
            "Train Epoch: 19 [40960/84843 (48%)]\tLoss: 0.557871\n"
          ]
        },
        {
          "output_type": "stream",
          "name": "stderr",
          "text": [
            " 62%|██████▏   | 18.482666666665164/30 [24:50<15:27, 80.56s/it]"
          ]
        },
        {
          "output_type": "stream",
          "name": "stdout",
          "text": [
            "Train Epoch: 19 [46080/84843 (54%)]\tLoss: 0.607198\n"
          ]
        },
        {
          "output_type": "stream",
          "name": "stderr",
          "text": [
            " 62%|██████▏   | 18.53599999999849/30 [24:55<15:19, 80.21s/it] "
          ]
        },
        {
          "output_type": "stream",
          "name": "stdout",
          "text": [
            "Train Epoch: 19 [51200/84843 (60%)]\tLoss: 0.604887\n"
          ]
        },
        {
          "output_type": "stream",
          "name": "stderr",
          "text": [
            " 62%|██████▏   | 18.58933333333182/30 [24:59<14:57, 78.64s/it] "
          ]
        },
        {
          "output_type": "stream",
          "name": "stdout",
          "text": [
            "Train Epoch: 19 [56320/84843 (66%)]\tLoss: 0.472149\n"
          ]
        },
        {
          "output_type": "stream",
          "name": "stderr",
          "text": [
            " 62%|██████▏   | 18.642666666665146/30 [25:03<14:40, 77.52s/it]"
          ]
        },
        {
          "output_type": "stream",
          "name": "stdout",
          "text": [
            "Train Epoch: 19 [61440/84843 (72%)]\tLoss: 0.396694\n"
          ]
        },
        {
          "output_type": "stream",
          "name": "stderr",
          "text": [
            " 62%|██████▏   | 18.695999999998474/30 [25:07<14:56, 79.31s/it]"
          ]
        },
        {
          "output_type": "stream",
          "name": "stdout",
          "text": [
            "Train Epoch: 19 [66560/84843 (78%)]\tLoss: 0.468897\n"
          ]
        },
        {
          "output_type": "stream",
          "name": "stderr",
          "text": [
            " 62%|██████▏   | 18.7493333333318/30 [25:11<14:52, 79.33s/it]  "
          ]
        },
        {
          "output_type": "stream",
          "name": "stdout",
          "text": [
            "Train Epoch: 19 [71680/84843 (84%)]\tLoss: 0.595142\n"
          ]
        },
        {
          "output_type": "stream",
          "name": "stderr",
          "text": [
            " 63%|██████▎   | 18.80266666666513/30 [25:16<14:26, 77.36s/it] "
          ]
        },
        {
          "output_type": "stream",
          "name": "stdout",
          "text": [
            "Train Epoch: 19 [76800/84843 (90%)]\tLoss: 0.497835\n"
          ]
        },
        {
          "output_type": "stream",
          "name": "stderr",
          "text": [
            " 63%|██████▎   | 18.855999999998456/30 [25:20<14:14, 76.64s/it]"
          ]
        },
        {
          "output_type": "stream",
          "name": "stdout",
          "text": [
            "Train Epoch: 19 [81920/84843 (96%)]\tLoss: 0.434226\n"
          ]
        },
        {
          "output_type": "stream",
          "name": "stderr",
          "text": [
            " 63%|██████▎   | 18.99999999999844/30 [25:28<09:14, 50.44s/it] "
          ]
        },
        {
          "output_type": "stream",
          "name": "stdout",
          "text": [
            "\n",
            "Test Epoch: 19\tAccuracy: 8954/11005 (81%)\n",
            "\n"
          ]
        },
        {
          "output_type": "stream",
          "name": "stderr",
          "text": [
            "\r 63%|██████▎   | 19.002666666665107/30 [25:28<10:54, 59.54s/it]"
          ]
        },
        {
          "output_type": "stream",
          "name": "stdout",
          "text": [
            "Train Epoch: 20 [0/84843 (0%)]\tLoss: 0.540674\n"
          ]
        },
        {
          "output_type": "stream",
          "name": "stderr",
          "text": [
            " 64%|██████▎   | 19.055999999998434/30 [25:33<14:35, 80.04s/it]"
          ]
        },
        {
          "output_type": "stream",
          "name": "stdout",
          "text": [
            "Train Epoch: 20 [5120/84843 (6%)]\tLoss: 0.528055\n"
          ]
        },
        {
          "output_type": "stream",
          "name": "stderr",
          "text": [
            " 64%|██████▎   | 19.10933333333176/30 [25:37<14:25, 79.49s/it] "
          ]
        },
        {
          "output_type": "stream",
          "name": "stdout",
          "text": [
            "Train Epoch: 20 [10240/84843 (12%)]\tLoss: 0.444469\n"
          ]
        },
        {
          "output_type": "stream",
          "name": "stderr",
          "text": [
            " 64%|██████▍   | 19.16266666666509/30 [25:41<14:14, 78.89s/it] "
          ]
        },
        {
          "output_type": "stream",
          "name": "stdout",
          "text": [
            "Train Epoch: 20 [15360/84843 (18%)]\tLoss: 0.583232\n"
          ]
        },
        {
          "output_type": "stream",
          "name": "stderr",
          "text": [
            " 64%|██████▍   | 19.215999999998417/30 [25:45<13:55, 77.48s/it]"
          ]
        },
        {
          "output_type": "stream",
          "name": "stdout",
          "text": [
            "Train Epoch: 20 [20480/84843 (24%)]\tLoss: 0.450407\n"
          ]
        },
        {
          "output_type": "stream",
          "name": "stderr",
          "text": [
            " 64%|██████▍   | 19.269333333331744/30 [25:49<14:21, 80.27s/it]"
          ]
        },
        {
          "output_type": "stream",
          "name": "stdout",
          "text": [
            "Train Epoch: 20 [25600/84843 (30%)]\tLoss: 0.418625\n"
          ]
        },
        {
          "output_type": "stream",
          "name": "stderr",
          "text": [
            " 64%|██████▍   | 19.32266666666507/30 [25:54<14:12, 79.80s/it] "
          ]
        },
        {
          "output_type": "stream",
          "name": "stdout",
          "text": [
            "Train Epoch: 20 [30720/84843 (36%)]\tLoss: 0.473204\n"
          ]
        },
        {
          "output_type": "stream",
          "name": "stderr",
          "text": [
            " 65%|██████▍   | 19.3759999999984/30 [25:58<13:45, 77.74s/it]  "
          ]
        },
        {
          "output_type": "stream",
          "name": "stdout",
          "text": [
            "Train Epoch: 20 [35840/84843 (42%)]\tLoss: 0.481718\n"
          ]
        },
        {
          "output_type": "stream",
          "name": "stderr",
          "text": [
            " 65%|██████▍   | 19.429333333331726/30 [26:02<14:22, 81.55s/it]"
          ]
        },
        {
          "output_type": "stream",
          "name": "stdout",
          "text": [
            "Train Epoch: 20 [40960/84843 (48%)]\tLoss: 0.501888\n"
          ]
        },
        {
          "output_type": "stream",
          "name": "stderr",
          "text": [
            " 65%|██████▍   | 19.482666666665054/30 [26:06<14:12, 81.03s/it]"
          ]
        },
        {
          "output_type": "stream",
          "name": "stdout",
          "text": [
            "Train Epoch: 20 [46080/84843 (54%)]\tLoss: 0.500078\n"
          ]
        },
        {
          "output_type": "stream",
          "name": "stderr",
          "text": [
            " 65%|██████▌   | 19.53599999999838/30 [26:11<13:50, 79.33s/it] "
          ]
        },
        {
          "output_type": "stream",
          "name": "stdout",
          "text": [
            "Train Epoch: 20 [51200/84843 (60%)]\tLoss: 0.429486\n"
          ]
        },
        {
          "output_type": "stream",
          "name": "stderr",
          "text": [
            " 65%|██████▌   | 19.58933333333171/30 [26:15<13:51, 79.90s/it] "
          ]
        },
        {
          "output_type": "stream",
          "name": "stdout",
          "text": [
            "Train Epoch: 20 [56320/84843 (66%)]\tLoss: 0.556926\n"
          ]
        },
        {
          "output_type": "stream",
          "name": "stderr",
          "text": [
            " 65%|██████▌   | 19.642666666665036/30 [26:19<13:51, 80.31s/it]"
          ]
        },
        {
          "output_type": "stream",
          "name": "stdout",
          "text": [
            "Train Epoch: 20 [61440/84843 (72%)]\tLoss: 0.511431\n"
          ]
        },
        {
          "output_type": "stream",
          "name": "stderr",
          "text": [
            " 66%|██████▌   | 19.695999999998364/30 [26:23<13:37, 79.36s/it]"
          ]
        },
        {
          "output_type": "stream",
          "name": "stdout",
          "text": [
            "Train Epoch: 20 [66560/84843 (78%)]\tLoss: 0.422194\n"
          ]
        },
        {
          "output_type": "stream",
          "name": "stderr",
          "text": [
            " 66%|██████▌   | 19.74933333333169/30 [26:27<13:28, 78.87s/it] "
          ]
        },
        {
          "output_type": "stream",
          "name": "stdout",
          "text": [
            "Train Epoch: 20 [71680/84843 (84%)]\tLoss: 0.531350\n"
          ]
        },
        {
          "output_type": "stream",
          "name": "stderr",
          "text": [
            " 66%|██████▌   | 19.80266666666502/30 [26:32<15:29, 91.13s/it] "
          ]
        },
        {
          "output_type": "stream",
          "name": "stdout",
          "text": [
            "Train Epoch: 20 [76800/84843 (90%)]\tLoss: 0.455116\n"
          ]
        },
        {
          "output_type": "stream",
          "name": "stderr",
          "text": [
            " 66%|██████▌   | 19.855999999998346/30 [26:36<13:39, 80.79s/it]"
          ]
        },
        {
          "output_type": "stream",
          "name": "stdout",
          "text": [
            "Train Epoch: 20 [81920/84843 (96%)]\tLoss: 0.527419\n"
          ]
        },
        {
          "output_type": "stream",
          "name": "stderr",
          "text": [
            " 67%|██████▋   | 19.99999999999833/30 [26:44<08:27, 50.72s/it] "
          ]
        },
        {
          "output_type": "stream",
          "name": "stdout",
          "text": [
            "\n",
            "Test Epoch: 20\tAccuracy: 8914/11005 (81%)\n",
            "\n"
          ]
        },
        {
          "output_type": "stream",
          "name": "stderr",
          "text": [
            "\r 67%|██████▋   | 20.002666666664997/30 [26:45<10:02, 60.27s/it]"
          ]
        },
        {
          "output_type": "stream",
          "name": "stdout",
          "text": [
            "Train Epoch: 21 [0/84843 (0%)]\tLoss: 0.488384\n"
          ]
        },
        {
          "output_type": "stream",
          "name": "stderr",
          "text": [
            " 67%|██████▋   | 20.055999999998324/30 [26:49<12:52, 77.70s/it]"
          ]
        },
        {
          "output_type": "stream",
          "name": "stdout",
          "text": [
            "Train Epoch: 21 [5120/84843 (6%)]\tLoss: 0.431806\n"
          ]
        },
        {
          "output_type": "stream",
          "name": "stderr",
          "text": [
            " 67%|██████▋   | 20.10933333333165/30 [26:53<13:18, 80.75s/it] "
          ]
        },
        {
          "output_type": "stream",
          "name": "stdout",
          "text": [
            "Train Epoch: 21 [10240/84843 (12%)]\tLoss: 0.428474\n"
          ]
        },
        {
          "output_type": "stream",
          "name": "stderr",
          "text": [
            " 67%|██████▋   | 20.16266666666498/30 [26:57<13:12, 80.53s/it] "
          ]
        },
        {
          "output_type": "stream",
          "name": "stdout",
          "text": [
            "Train Epoch: 21 [15360/84843 (18%)]\tLoss: 0.467812\n"
          ]
        },
        {
          "output_type": "stream",
          "name": "stderr",
          "text": [
            " 67%|██████▋   | 20.215999999998306/30 [27:01<13:01, 79.92s/it]"
          ]
        },
        {
          "output_type": "stream",
          "name": "stdout",
          "text": [
            "Train Epoch: 21 [20480/84843 (24%)]\tLoss: 0.442738\n"
          ]
        },
        {
          "output_type": "stream",
          "name": "stderr",
          "text": [
            " 68%|██████▊   | 20.269333333331634/30 [27:06<12:55, 79.67s/it]"
          ]
        },
        {
          "output_type": "stream",
          "name": "stdout",
          "text": [
            "Train Epoch: 21 [25600/84843 (30%)]\tLoss: 0.343322\n"
          ]
        },
        {
          "output_type": "stream",
          "name": "stderr",
          "text": [
            " 68%|██████▊   | 20.32266666666496/30 [27:10<12:48, 79.43s/it] "
          ]
        },
        {
          "output_type": "stream",
          "name": "stdout",
          "text": [
            "Train Epoch: 21 [30720/84843 (36%)]\tLoss: 0.573343\n"
          ]
        },
        {
          "output_type": "stream",
          "name": "stderr",
          "text": [
            " 68%|██████▊   | 20.37599999999829/30 [27:14<12:40, 79.00s/it] "
          ]
        },
        {
          "output_type": "stream",
          "name": "stdout",
          "text": [
            "Train Epoch: 21 [35840/84843 (42%)]\tLoss: 0.456169\n"
          ]
        },
        {
          "output_type": "stream",
          "name": "stderr",
          "text": [
            " 68%|██████▊   | 20.429333333331616/30 [27:18<12:31, 78.51s/it]"
          ]
        },
        {
          "output_type": "stream",
          "name": "stdout",
          "text": [
            "Train Epoch: 21 [40960/84843 (48%)]\tLoss: 0.543456\n"
          ]
        },
        {
          "output_type": "stream",
          "name": "stderr",
          "text": [
            " 68%|██████▊   | 20.482666666664944/30 [27:23<12:15, 77.31s/it]"
          ]
        },
        {
          "output_type": "stream",
          "name": "stdout",
          "text": [
            "Train Epoch: 21 [46080/84843 (54%)]\tLoss: 0.375688\n"
          ]
        },
        {
          "output_type": "stream",
          "name": "stderr",
          "text": [
            " 68%|██████▊   | 20.53599999999827/30 [27:27<12:28, 79.04s/it] "
          ]
        },
        {
          "output_type": "stream",
          "name": "stdout",
          "text": [
            "Train Epoch: 21 [51200/84843 (60%)]\tLoss: 0.453542\n"
          ]
        },
        {
          "output_type": "stream",
          "name": "stderr",
          "text": [
            " 69%|██████▊   | 20.5893333333316/30 [27:32<20:23, 130.00s/it]  "
          ]
        },
        {
          "output_type": "stream",
          "name": "stdout",
          "text": [
            "Train Epoch: 21 [56320/84843 (66%)]\tLoss: 0.506567\n"
          ]
        },
        {
          "output_type": "stream",
          "name": "stderr",
          "text": [
            " 69%|██████▉   | 20.642666666664926/30 [27:37<12:28, 80.03s/it]"
          ]
        },
        {
          "output_type": "stream",
          "name": "stdout",
          "text": [
            "Train Epoch: 21 [61440/84843 (72%)]\tLoss: 0.535760\n"
          ]
        },
        {
          "output_type": "stream",
          "name": "stderr",
          "text": [
            " 69%|██████▉   | 20.695999999998254/30 [27:41<12:09, 78.46s/it]"
          ]
        },
        {
          "output_type": "stream",
          "name": "stdout",
          "text": [
            "Train Epoch: 21 [66560/84843 (78%)]\tLoss: 0.548628\n"
          ]
        },
        {
          "output_type": "stream",
          "name": "stderr",
          "text": [
            " 69%|██████▉   | 20.74933333333158/30 [27:45<12:14, 79.35s/it] "
          ]
        },
        {
          "output_type": "stream",
          "name": "stdout",
          "text": [
            "Train Epoch: 21 [71680/84843 (84%)]\tLoss: 0.534523\n"
          ]
        },
        {
          "output_type": "stream",
          "name": "stderr",
          "text": [
            " 69%|██████▉   | 20.80266666666491/30 [27:49<12:07, 79.13s/it] "
          ]
        },
        {
          "output_type": "stream",
          "name": "stdout",
          "text": [
            "Train Epoch: 21 [76800/84843 (90%)]\tLoss: 0.565625\n"
          ]
        },
        {
          "output_type": "stream",
          "name": "stderr",
          "text": [
            " 70%|██████▉   | 20.855999999998236/30 [27:54<11:54, 78.14s/it]"
          ]
        },
        {
          "output_type": "stream",
          "name": "stdout",
          "text": [
            "Train Epoch: 21 [81920/84843 (96%)]\tLoss: 0.464394\n"
          ]
        },
        {
          "output_type": "stream",
          "name": "stderr",
          "text": [
            " 70%|██████▉   | 20.99999999999822/30 [28:02<07:24, 49.42s/it] "
          ]
        },
        {
          "output_type": "stream",
          "name": "stdout",
          "text": [
            "\n",
            "Test Epoch: 21\tAccuracy: 8826/11005 (80%)\n",
            "\n"
          ]
        },
        {
          "output_type": "stream",
          "name": "stderr",
          "text": [
            "\r 70%|███████   | 21.002666666664886/30 [28:02<08:51, 59.04s/it]"
          ]
        },
        {
          "output_type": "stream",
          "name": "stdout",
          "text": [
            "Train Epoch: 22 [0/84843 (0%)]\tLoss: 0.460828\n"
          ]
        },
        {
          "output_type": "stream",
          "name": "stderr",
          "text": [
            " 70%|███████   | 21.055999999998214/30 [28:06<12:04, 80.97s/it]"
          ]
        },
        {
          "output_type": "stream",
          "name": "stdout",
          "text": [
            "Train Epoch: 22 [5120/84843 (6%)]\tLoss: 0.492877\n"
          ]
        },
        {
          "output_type": "stream",
          "name": "stderr",
          "text": [
            " 70%|███████   | 21.10933333333154/30 [28:10<11:56, 80.59s/it] "
          ]
        },
        {
          "output_type": "stream",
          "name": "stdout",
          "text": [
            "Train Epoch: 22 [10240/84843 (12%)]\tLoss: 0.414240\n"
          ]
        },
        {
          "output_type": "stream",
          "name": "stderr",
          "text": [
            " 71%|███████   | 21.16266666666487/30 [28:15<11:37, 78.96s/it] "
          ]
        },
        {
          "output_type": "stream",
          "name": "stdout",
          "text": [
            "Train Epoch: 22 [15360/84843 (18%)]\tLoss: 0.423321\n"
          ]
        },
        {
          "output_type": "stream",
          "name": "stderr",
          "text": [
            " 71%|███████   | 21.215999999998196/30 [28:19<11:31, 78.74s/it]"
          ]
        },
        {
          "output_type": "stream",
          "name": "stdout",
          "text": [
            "Train Epoch: 22 [20480/84843 (24%)]\tLoss: 0.530562\n"
          ]
        },
        {
          "output_type": "stream",
          "name": "stderr",
          "text": [
            " 71%|███████   | 21.269333333331524/30 [28:23<11:36, 79.72s/it]"
          ]
        },
        {
          "output_type": "stream",
          "name": "stdout",
          "text": [
            "Train Epoch: 22 [25600/84843 (30%)]\tLoss: 0.441414\n"
          ]
        },
        {
          "output_type": "stream",
          "name": "stderr",
          "text": [
            " 71%|███████   | 21.32266666666485/30 [28:27<11:38, 80.52s/it] "
          ]
        },
        {
          "output_type": "stream",
          "name": "stdout",
          "text": [
            "Train Epoch: 22 [30720/84843 (36%)]\tLoss: 0.465646\n"
          ]
        },
        {
          "output_type": "stream",
          "name": "stderr",
          "text": [
            " 71%|███████▏  | 21.37599999999818/30 [28:32<14:17, 99.42s/it] "
          ]
        },
        {
          "output_type": "stream",
          "name": "stdout",
          "text": [
            "Train Epoch: 22 [35840/84843 (42%)]\tLoss: 0.473805\n"
          ]
        },
        {
          "output_type": "stream",
          "name": "stderr",
          "text": [
            " 71%|███████▏  | 21.429333333331506/30 [28:36<11:06, 77.76s/it]"
          ]
        },
        {
          "output_type": "stream",
          "name": "stdout",
          "text": [
            "Train Epoch: 22 [40960/84843 (48%)]\tLoss: 0.505686\n"
          ]
        },
        {
          "output_type": "stream",
          "name": "stderr",
          "text": [
            " 72%|███████▏  | 21.482666666664834/30 [28:40<11:12, 78.93s/it]"
          ]
        },
        {
          "output_type": "stream",
          "name": "stdout",
          "text": [
            "Train Epoch: 22 [46080/84843 (54%)]\tLoss: 0.469072\n"
          ]
        },
        {
          "output_type": "stream",
          "name": "stderr",
          "text": [
            " 72%|███████▏  | 21.53599999999816/30 [28:45<11:12, 79.46s/it] "
          ]
        },
        {
          "output_type": "stream",
          "name": "stdout",
          "text": [
            "Train Epoch: 22 [51200/84843 (60%)]\tLoss: 0.396527\n"
          ]
        },
        {
          "output_type": "stream",
          "name": "stderr",
          "text": [
            " 72%|███████▏  | 21.58933333333149/30 [28:49<11:12, 79.93s/it] "
          ]
        },
        {
          "output_type": "stream",
          "name": "stdout",
          "text": [
            "Train Epoch: 22 [56320/84843 (66%)]\tLoss: 0.501731\n"
          ]
        },
        {
          "output_type": "stream",
          "name": "stderr",
          "text": [
            " 72%|███████▏  | 21.642666666664816/30 [28:53<10:59, 78.89s/it]"
          ]
        },
        {
          "output_type": "stream",
          "name": "stdout",
          "text": [
            "Train Epoch: 22 [61440/84843 (72%)]\tLoss: 0.378382\n"
          ]
        },
        {
          "output_type": "stream",
          "name": "stderr",
          "text": [
            " 72%|███████▏  | 21.695999999998143/30 [28:57<11:20, 81.95s/it]"
          ]
        },
        {
          "output_type": "stream",
          "name": "stdout",
          "text": [
            "Train Epoch: 22 [66560/84843 (78%)]\tLoss: 0.451935\n"
          ]
        },
        {
          "output_type": "stream",
          "name": "stderr",
          "text": [
            " 72%|███████▏  | 21.74933333333147/30 [29:02<11:12, 81.52s/it] "
          ]
        },
        {
          "output_type": "stream",
          "name": "stdout",
          "text": [
            "Train Epoch: 22 [71680/84843 (84%)]\tLoss: 0.518888\n"
          ]
        },
        {
          "output_type": "stream",
          "name": "stderr",
          "text": [
            " 73%|███████▎  | 21.8026666666648/30 [29:06<10:55, 79.94s/it]  "
          ]
        },
        {
          "output_type": "stream",
          "name": "stdout",
          "text": [
            "Train Epoch: 22 [76800/84843 (90%)]\tLoss: 0.609889\n"
          ]
        },
        {
          "output_type": "stream",
          "name": "stderr",
          "text": [
            " 73%|███████▎  | 21.855999999998126/30 [29:10<10:46, 79.37s/it]"
          ]
        },
        {
          "output_type": "stream",
          "name": "stdout",
          "text": [
            "Train Epoch: 22 [81920/84843 (96%)]\tLoss: 0.541932\n"
          ]
        },
        {
          "output_type": "stream",
          "name": "stderr",
          "text": [
            " 73%|███████▎  | 21.99999999999811/30 [29:18<06:47, 50.91s/it] "
          ]
        },
        {
          "output_type": "stream",
          "name": "stdout",
          "text": [
            "\n",
            "Test Epoch: 22\tAccuracy: 8694/11005 (79%)\n",
            "\n"
          ]
        },
        {
          "output_type": "stream",
          "name": "stderr",
          "text": [
            "\r 73%|███████▎  | 22.002666666664776/30 [29:18<07:58, 59.85s/it]"
          ]
        },
        {
          "output_type": "stream",
          "name": "stdout",
          "text": [
            "Train Epoch: 23 [0/84843 (0%)]\tLoss: 0.417905\n"
          ]
        },
        {
          "output_type": "stream",
          "name": "stderr",
          "text": [
            " 74%|███████▎  | 22.055999999998104/30 [29:23<10:29, 79.19s/it]"
          ]
        },
        {
          "output_type": "stream",
          "name": "stdout",
          "text": [
            "Train Epoch: 23 [5120/84843 (6%)]\tLoss: 0.416266\n"
          ]
        },
        {
          "output_type": "stream",
          "name": "stderr",
          "text": [
            " 74%|███████▎  | 22.10933333333143/30 [29:27<10:18, 78.45s/it] "
          ]
        },
        {
          "output_type": "stream",
          "name": "stdout",
          "text": [
            "Train Epoch: 23 [10240/84843 (12%)]\tLoss: 0.320510\n"
          ]
        },
        {
          "output_type": "stream",
          "name": "stderr",
          "text": [
            " 74%|███████▍  | 22.16266666666476/30 [29:31<11:44, 89.85s/it] "
          ]
        },
        {
          "output_type": "stream",
          "name": "stdout",
          "text": [
            "Train Epoch: 23 [15360/84843 (18%)]\tLoss: 0.442433\n"
          ]
        },
        {
          "output_type": "stream",
          "name": "stderr",
          "text": [
            " 74%|███████▍  | 22.215999999998086/30 [29:36<10:19, 79.63s/it]"
          ]
        },
        {
          "output_type": "stream",
          "name": "stdout",
          "text": [
            "Train Epoch: 23 [20480/84843 (24%)]\tLoss: 0.396686\n"
          ]
        },
        {
          "output_type": "stream",
          "name": "stderr",
          "text": [
            " 74%|███████▍  | 22.269333333331414/30 [29:40<10:09, 78.89s/it]"
          ]
        },
        {
          "output_type": "stream",
          "name": "stdout",
          "text": [
            "Train Epoch: 23 [25600/84843 (30%)]\tLoss: 0.437115\n"
          ]
        },
        {
          "output_type": "stream",
          "name": "stderr",
          "text": [
            " 74%|███████▍  | 22.32266666666474/30 [29:44<10:15, 80.13s/it] "
          ]
        },
        {
          "output_type": "stream",
          "name": "stdout",
          "text": [
            "Train Epoch: 23 [30720/84843 (36%)]\tLoss: 0.396398\n"
          ]
        },
        {
          "output_type": "stream",
          "name": "stderr",
          "text": [
            " 75%|███████▍  | 22.37599999999807/30 [29:48<09:55, 78.06s/it] "
          ]
        },
        {
          "output_type": "stream",
          "name": "stdout",
          "text": [
            "Train Epoch: 23 [35840/84843 (42%)]\tLoss: 0.567916\n"
          ]
        },
        {
          "output_type": "stream",
          "name": "stderr",
          "text": [
            " 75%|███████▍  | 22.429333333331396/30 [29:53<11:24, 90.45s/it]"
          ]
        },
        {
          "output_type": "stream",
          "name": "stdout",
          "text": [
            "Train Epoch: 23 [40960/84843 (48%)]\tLoss: 0.500970\n"
          ]
        },
        {
          "output_type": "stream",
          "name": "stderr",
          "text": [
            " 75%|███████▍  | 22.482666666664723/30 [30:00<15:30, 123.72s/it]"
          ]
        },
        {
          "output_type": "stream",
          "name": "stdout",
          "text": [
            "Train Epoch: 23 [46080/84843 (54%)]\tLoss: 0.525201\n"
          ]
        },
        {
          "output_type": "stream",
          "name": "stderr",
          "text": [
            " 75%|███████▌  | 22.53599999999805/30 [30:07<14:04, 113.18s/it] "
          ]
        },
        {
          "output_type": "stream",
          "name": "stdout",
          "text": [
            "Train Epoch: 23 [51200/84843 (60%)]\tLoss: 0.576553\n"
          ]
        },
        {
          "output_type": "stream",
          "name": "stderr",
          "text": [
            " 75%|███████▌  | 22.58933333333138/30 [30:13<14:24, 116.61s/it] "
          ]
        },
        {
          "output_type": "stream",
          "name": "stdout",
          "text": [
            "Train Epoch: 23 [56320/84843 (66%)]\tLoss: 0.457537\n"
          ]
        },
        {
          "output_type": "stream",
          "name": "stderr",
          "text": [
            " 75%|███████▌  | 22.642666666664706/30 [30:19<13:37, 111.15s/it]"
          ]
        },
        {
          "output_type": "stream",
          "name": "stdout",
          "text": [
            "Train Epoch: 23 [61440/84843 (72%)]\tLoss: 0.489188\n"
          ]
        },
        {
          "output_type": "stream",
          "name": "stderr",
          "text": [
            " 76%|███████▌  | 22.695999999998033/30 [30:25<13:30, 110.93s/it]"
          ]
        },
        {
          "output_type": "stream",
          "name": "stdout",
          "text": [
            "Train Epoch: 23 [66560/84843 (78%)]\tLoss: 0.536202\n"
          ]
        },
        {
          "output_type": "stream",
          "name": "stderr",
          "text": [
            " 76%|███████▌  | 22.74933333333136/30 [30:31<15:23, 127.42s/it] "
          ]
        },
        {
          "output_type": "stream",
          "name": "stdout",
          "text": [
            "Train Epoch: 23 [71680/84843 (84%)]\tLoss: 0.538660\n"
          ]
        },
        {
          "output_type": "stream",
          "name": "stderr",
          "text": [
            " 76%|███████▌  | 22.802666666664688/30 [30:37<13:18, 110.93s/it]"
          ]
        },
        {
          "output_type": "stream",
          "name": "stdout",
          "text": [
            "Train Epoch: 23 [76800/84843 (90%)]\tLoss: 0.472627\n"
          ]
        },
        {
          "output_type": "stream",
          "name": "stderr",
          "text": [
            " 76%|███████▌  | 22.855999999998016/30 [30:43<12:59, 109.06s/it]"
          ]
        },
        {
          "output_type": "stream",
          "name": "stdout",
          "text": [
            "Train Epoch: 23 [81920/84843 (96%)]\tLoss: 0.435251\n"
          ]
        },
        {
          "output_type": "stream",
          "name": "stderr",
          "text": [
            " 77%|███████▋  | 22.999999999998/30 [30:52<05:57, 51.08s/it]   "
          ]
        },
        {
          "output_type": "stream",
          "name": "stdout",
          "text": [
            "\n",
            "Test Epoch: 23\tAccuracy: 8956/11005 (81%)\n",
            "\n"
          ]
        },
        {
          "output_type": "stream",
          "name": "stderr",
          "text": [
            "\r 77%|███████▋  | 23.002666666664666/30 [30:52<07:46, 66.61s/it]"
          ]
        },
        {
          "output_type": "stream",
          "name": "stdout",
          "text": [
            "Train Epoch: 24 [0/84843 (0%)]\tLoss: 0.487510\n"
          ]
        },
        {
          "output_type": "stream",
          "name": "stderr",
          "text": [
            " 77%|███████▋  | 23.055999999997994/30 [30:58<10:47, 93.25s/it]"
          ]
        },
        {
          "output_type": "stream",
          "name": "stdout",
          "text": [
            "Train Epoch: 24 [5120/84843 (6%)]\tLoss: 0.430918\n"
          ]
        },
        {
          "output_type": "stream",
          "name": "stderr",
          "text": [
            " 77%|███████▋  | 23.10933333333132/30 [31:03<11:16, 98.19s/it] "
          ]
        },
        {
          "output_type": "stream",
          "name": "stdout",
          "text": [
            "Train Epoch: 24 [10240/84843 (12%)]\tLoss: 0.408887\n"
          ]
        },
        {
          "output_type": "stream",
          "name": "stderr",
          "text": [
            " 77%|███████▋  | 23.16266666666465/30 [31:08<11:00, 96.65s/it] "
          ]
        },
        {
          "output_type": "stream",
          "name": "stdout",
          "text": [
            "Train Epoch: 24 [15360/84843 (18%)]\tLoss: 0.525278\n"
          ]
        },
        {
          "output_type": "stream",
          "name": "stderr",
          "text": [
            " 77%|███████▋  | 23.215999999997976/30 [31:13<10:24, 92.09s/it]"
          ]
        },
        {
          "output_type": "stream",
          "name": "stdout",
          "text": [
            "Train Epoch: 24 [20480/84843 (24%)]\tLoss: 0.523139\n"
          ]
        },
        {
          "output_type": "stream",
          "name": "stderr",
          "text": [
            " 78%|███████▊  | 23.269333333331303/30 [31:18<10:57, 97.64s/it]"
          ]
        },
        {
          "output_type": "stream",
          "name": "stdout",
          "text": [
            "Train Epoch: 24 [25600/84843 (30%)]\tLoss: 0.598751\n"
          ]
        },
        {
          "output_type": "stream",
          "name": "stderr",
          "text": [
            " 78%|███████▊  | 23.32266666666463/30 [31:23<10:32, 94.73s/it] "
          ]
        },
        {
          "output_type": "stream",
          "name": "stdout",
          "text": [
            "Train Epoch: 24 [30720/84843 (36%)]\tLoss: 0.454025\n"
          ]
        },
        {
          "output_type": "stream",
          "name": "stderr",
          "text": [
            " 78%|███████▊  | 23.37599999999796/30 [31:28<10:23, 94.05s/it] "
          ]
        },
        {
          "output_type": "stream",
          "name": "stdout",
          "text": [
            "Train Epoch: 24 [35840/84843 (42%)]\tLoss: 0.521627\n"
          ]
        },
        {
          "output_type": "stream",
          "name": "stderr",
          "text": [
            " 78%|███████▊  | 23.429333333331286/30 [31:33<11:02, 100.81s/it]"
          ]
        },
        {
          "output_type": "stream",
          "name": "stdout",
          "text": [
            "Train Epoch: 24 [40960/84843 (48%)]\tLoss: 0.386223\n"
          ]
        },
        {
          "output_type": "stream",
          "name": "stderr",
          "text": [
            " 78%|███████▊  | 23.482666666664613/30 [31:38<10:15, 94.48s/it]"
          ]
        },
        {
          "output_type": "stream",
          "name": "stdout",
          "text": [
            "Train Epoch: 24 [46080/84843 (54%)]\tLoss: 0.412110\n"
          ]
        },
        {
          "output_type": "stream",
          "name": "stderr",
          "text": [
            " 78%|███████▊  | 23.53599999999794/30 [31:43<10:17, 95.59s/it] "
          ]
        },
        {
          "output_type": "stream",
          "name": "stdout",
          "text": [
            "Train Epoch: 24 [51200/84843 (60%)]\tLoss: 0.621640\n"
          ]
        },
        {
          "output_type": "stream",
          "name": "stderr",
          "text": [
            " 79%|███████▊  | 23.58933333333127/30 [31:48<09:46, 91.56s/it] "
          ]
        },
        {
          "output_type": "stream",
          "name": "stdout",
          "text": [
            "Train Epoch: 24 [56320/84843 (66%)]\tLoss: 0.568946\n"
          ]
        },
        {
          "output_type": "stream",
          "name": "stderr",
          "text": [
            " 79%|███████▉  | 23.642666666664596/30 [31:53<09:52, 93.13s/it]"
          ]
        },
        {
          "output_type": "stream",
          "name": "stdout",
          "text": [
            "Train Epoch: 24 [61440/84843 (72%)]\tLoss: 0.497068\n"
          ]
        },
        {
          "output_type": "stream",
          "name": "stderr",
          "text": [
            " 79%|███████▉  | 23.695999999997923/30 [31:58<09:39, 91.88s/it]"
          ]
        },
        {
          "output_type": "stream",
          "name": "stdout",
          "text": [
            "Train Epoch: 24 [66560/84843 (78%)]\tLoss: 0.490106\n"
          ]
        },
        {
          "output_type": "stream",
          "name": "stderr",
          "text": [
            " 79%|███████▉  | 23.74933333333125/30 [32:03<09:18, 89.29s/it] "
          ]
        },
        {
          "output_type": "stream",
          "name": "stdout",
          "text": [
            "Train Epoch: 24 [71680/84843 (84%)]\tLoss: 0.411190\n"
          ]
        },
        {
          "output_type": "stream",
          "name": "stderr",
          "text": [
            " 79%|███████▉  | 23.802666666664578/30 [32:08<09:49, 95.10s/it]"
          ]
        },
        {
          "output_type": "stream",
          "name": "stdout",
          "text": [
            "Train Epoch: 24 [76800/84843 (90%)]\tLoss: 0.490569\n"
          ]
        },
        {
          "output_type": "stream",
          "name": "stderr",
          "text": [
            " 80%|███████▉  | 23.855999999997906/30 [32:13<09:36, 93.82s/it]"
          ]
        },
        {
          "output_type": "stream",
          "name": "stdout",
          "text": [
            "Train Epoch: 24 [81920/84843 (96%)]\tLoss: 0.485523\n"
          ]
        },
        {
          "output_type": "stream",
          "name": "stderr",
          "text": [
            " 80%|███████▉  | 23.99999999999789/30 [32:21<05:05, 50.87s/it] "
          ]
        },
        {
          "output_type": "stream",
          "name": "stdout",
          "text": [
            "\n",
            "Test Epoch: 24\tAccuracy: 8323/11005 (76%)\n",
            "\n"
          ]
        },
        {
          "output_type": "stream",
          "name": "stderr",
          "text": [
            "\r 80%|████████  | 24.002666666664556/30 [32:22<06:07, 61.26s/it]"
          ]
        },
        {
          "output_type": "stream",
          "name": "stdout",
          "text": [
            "Train Epoch: 25 [0/84843 (0%)]\tLoss: 0.495750\n"
          ]
        },
        {
          "output_type": "stream",
          "name": "stderr",
          "text": [
            " 80%|████████  | 24.055999999997884/30 [32:26<07:53, 79.72s/it]"
          ]
        },
        {
          "output_type": "stream",
          "name": "stdout",
          "text": [
            "Train Epoch: 25 [5120/84843 (6%)]\tLoss: 0.429658\n"
          ]
        },
        {
          "output_type": "stream",
          "name": "stderr",
          "text": [
            " 80%|████████  | 24.10933333333121/30 [32:30<08:42, 88.67s/it] "
          ]
        },
        {
          "output_type": "stream",
          "name": "stdout",
          "text": [
            "Train Epoch: 25 [10240/84843 (12%)]\tLoss: 0.517349\n"
          ]
        },
        {
          "output_type": "stream",
          "name": "stderr",
          "text": [
            " 81%|████████  | 24.16266666666454/30 [32:35<07:53, 81.18s/it] "
          ]
        },
        {
          "output_type": "stream",
          "name": "stdout",
          "text": [
            "Train Epoch: 25 [15360/84843 (18%)]\tLoss: 0.508489\n"
          ]
        },
        {
          "output_type": "stream",
          "name": "stderr",
          "text": [
            " 81%|████████  | 24.215999999997866/30 [32:39<07:45, 80.47s/it]"
          ]
        },
        {
          "output_type": "stream",
          "name": "stdout",
          "text": [
            "Train Epoch: 25 [20480/84843 (24%)]\tLoss: 0.540340\n"
          ]
        },
        {
          "output_type": "stream",
          "name": "stderr",
          "text": [
            " 81%|████████  | 24.269333333331193/30 [32:43<07:46, 81.45s/it]"
          ]
        },
        {
          "output_type": "stream",
          "name": "stdout",
          "text": [
            "Train Epoch: 25 [25600/84843 (30%)]\tLoss: 0.378278\n"
          ]
        },
        {
          "output_type": "stream",
          "name": "stderr",
          "text": [
            " 81%|████████  | 24.32266666666452/30 [32:48<07:47, 82.42s/it] "
          ]
        },
        {
          "output_type": "stream",
          "name": "stdout",
          "text": [
            "Train Epoch: 25 [30720/84843 (36%)]\tLoss: 0.421387\n"
          ]
        },
        {
          "output_type": "stream",
          "name": "stderr",
          "text": [
            " 81%|████████▏ | 24.37599999999785/30 [32:52<07:32, 80.54s/it] "
          ]
        },
        {
          "output_type": "stream",
          "name": "stdout",
          "text": [
            "Train Epoch: 25 [35840/84843 (42%)]\tLoss: 0.484790\n"
          ]
        },
        {
          "output_type": "stream",
          "name": "stderr",
          "text": [
            " 81%|████████▏ | 24.429333333331176/30 [32:56<07:46, 83.72s/it]"
          ]
        },
        {
          "output_type": "stream",
          "name": "stdout",
          "text": [
            "Train Epoch: 25 [40960/84843 (48%)]\tLoss: 0.555718\n"
          ]
        },
        {
          "output_type": "stream",
          "name": "stderr",
          "text": [
            " 82%|████████▏ | 24.482666666664503/30 [33:01<07:16, 79.14s/it]"
          ]
        },
        {
          "output_type": "stream",
          "name": "stdout",
          "text": [
            "Train Epoch: 25 [46080/84843 (54%)]\tLoss: 0.458713\n"
          ]
        },
        {
          "output_type": "stream",
          "name": "stderr",
          "text": [
            " 82%|████████▏ | 24.53599999999783/30 [33:05<07:14, 79.49s/it] "
          ]
        },
        {
          "output_type": "stream",
          "name": "stdout",
          "text": [
            "Train Epoch: 25 [51200/84843 (60%)]\tLoss: 0.457199\n"
          ]
        },
        {
          "output_type": "stream",
          "name": "stderr",
          "text": [
            " 82%|████████▏ | 24.589333333331158/30 [33:09<07:18, 81.09s/it]"
          ]
        },
        {
          "output_type": "stream",
          "name": "stdout",
          "text": [
            "Train Epoch: 25 [56320/84843 (66%)]\tLoss: 0.511965\n"
          ]
        },
        {
          "output_type": "stream",
          "name": "stderr",
          "text": [
            " 82%|████████▏ | 24.642666666664486/30 [33:13<07:09, 80.09s/it]"
          ]
        },
        {
          "output_type": "stream",
          "name": "stdout",
          "text": [
            "Train Epoch: 25 [61440/84843 (72%)]\tLoss: 0.558025\n"
          ]
        },
        {
          "output_type": "stream",
          "name": "stderr",
          "text": [
            " 82%|████████▏ | 24.695999999997813/30 [33:18<06:52, 77.70s/it]"
          ]
        },
        {
          "output_type": "stream",
          "name": "stdout",
          "text": [
            "Train Epoch: 25 [66560/84843 (78%)]\tLoss: 0.566095\n"
          ]
        },
        {
          "output_type": "stream",
          "name": "stderr",
          "text": [
            " 82%|████████▏ | 24.74933333333114/30 [33:22<07:05, 81.10s/it] "
          ]
        },
        {
          "output_type": "stream",
          "name": "stdout",
          "text": [
            "Train Epoch: 25 [71680/84843 (84%)]\tLoss: 0.601282\n"
          ]
        },
        {
          "output_type": "stream",
          "name": "stderr",
          "text": [
            " 83%|████████▎ | 24.802666666664468/30 [33:26<06:56, 80.05s/it]"
          ]
        },
        {
          "output_type": "stream",
          "name": "stdout",
          "text": [
            "Train Epoch: 25 [76800/84843 (90%)]\tLoss: 0.577134\n"
          ]
        },
        {
          "output_type": "stream",
          "name": "stderr",
          "text": [
            " 83%|████████▎ | 24.855999999997795/30 [33:31<08:43, 101.85s/it]"
          ]
        },
        {
          "output_type": "stream",
          "name": "stdout",
          "text": [
            "Train Epoch: 25 [81920/84843 (96%)]\tLoss: 0.437539\n"
          ]
        },
        {
          "output_type": "stream",
          "name": "stderr",
          "text": [
            " 83%|████████▎ | 24.99999999999778/30 [33:39<04:14, 50.87s/it] "
          ]
        },
        {
          "output_type": "stream",
          "name": "stdout",
          "text": [
            "\n",
            "Test Epoch: 25\tAccuracy: 8128/11005 (74%)\n",
            "\n"
          ]
        },
        {
          "output_type": "stream",
          "name": "stderr",
          "text": [
            "\r 83%|████████▎ | 25.002666666664446/30 [33:39<05:11, 62.32s/it]"
          ]
        },
        {
          "output_type": "stream",
          "name": "stdout",
          "text": [
            "Train Epoch: 26 [0/84843 (0%)]\tLoss: 0.344183\n"
          ]
        },
        {
          "output_type": "stream",
          "name": "stderr",
          "text": [
            " 84%|████████▎ | 25.055999999997773/30 [33:44<06:50, 83.07s/it]"
          ]
        },
        {
          "output_type": "stream",
          "name": "stdout",
          "text": [
            "Train Epoch: 26 [5120/84843 (6%)]\tLoss: 0.388939\n"
          ]
        },
        {
          "output_type": "stream",
          "name": "stderr",
          "text": [
            " 84%|████████▎ | 25.1093333333311/30 [33:48<06:33, 80.39s/it]  "
          ]
        },
        {
          "output_type": "stream",
          "name": "stdout",
          "text": [
            "Train Epoch: 26 [10240/84843 (12%)]\tLoss: 0.572082\n"
          ]
        },
        {
          "output_type": "stream",
          "name": "stderr",
          "text": [
            " 84%|████████▍ | 25.16266666666443/30 [33:52<06:25, 79.70s/it] "
          ]
        },
        {
          "output_type": "stream",
          "name": "stdout",
          "text": [
            "Train Epoch: 26 [15360/84843 (18%)]\tLoss: 0.481412\n"
          ]
        },
        {
          "output_type": "stream",
          "name": "stderr",
          "text": [
            " 84%|████████▍ | 25.215999999997756/30 [33:56<06:14, 78.25s/it]"
          ]
        },
        {
          "output_type": "stream",
          "name": "stdout",
          "text": [
            "Train Epoch: 26 [20480/84843 (24%)]\tLoss: 0.390729\n"
          ]
        },
        {
          "output_type": "stream",
          "name": "stderr",
          "text": [
            " 84%|████████▍ | 25.269333333331083/30 [34:01<06:24, 81.27s/it]"
          ]
        },
        {
          "output_type": "stream",
          "name": "stdout",
          "text": [
            "Train Epoch: 26 [25600/84843 (30%)]\tLoss: 0.562550\n"
          ]
        },
        {
          "output_type": "stream",
          "name": "stderr",
          "text": [
            " 84%|████████▍ | 25.32266666666441/30 [34:05<06:24, 82.14s/it] "
          ]
        },
        {
          "output_type": "stream",
          "name": "stdout",
          "text": [
            "Train Epoch: 26 [30720/84843 (36%)]\tLoss: 0.475586\n"
          ]
        },
        {
          "output_type": "stream",
          "name": "stderr",
          "text": [
            " 85%|████████▍ | 25.375999999997738/30 [34:09<06:11, 80.38s/it]"
          ]
        },
        {
          "output_type": "stream",
          "name": "stdout",
          "text": [
            "Train Epoch: 26 [35840/84843 (42%)]\tLoss: 0.480820\n"
          ]
        },
        {
          "output_type": "stream",
          "name": "stderr",
          "text": [
            " 85%|████████▍ | 25.429333333331066/30 [34:14<06:03, 79.58s/it]"
          ]
        },
        {
          "output_type": "stream",
          "name": "stdout",
          "text": [
            "Train Epoch: 26 [40960/84843 (48%)]\tLoss: 0.466545\n"
          ]
        },
        {
          "output_type": "stream",
          "name": "stderr",
          "text": [
            " 85%|████████▍ | 25.482666666664393/30 [34:18<05:57, 79.19s/it]"
          ]
        },
        {
          "output_type": "stream",
          "name": "stdout",
          "text": [
            "Train Epoch: 26 [46080/84843 (54%)]\tLoss: 0.493815\n"
          ]
        },
        {
          "output_type": "stream",
          "name": "stderr",
          "text": [
            " 85%|████████▌ | 25.53599999999772/30 [34:22<05:58, 80.36s/it] "
          ]
        },
        {
          "output_type": "stream",
          "name": "stdout",
          "text": [
            "Train Epoch: 26 [51200/84843 (60%)]\tLoss: 0.353452\n"
          ]
        },
        {
          "output_type": "stream",
          "name": "stderr",
          "text": [
            " 85%|████████▌ | 25.589333333331048/30 [34:27<06:05, 82.82s/it]"
          ]
        },
        {
          "output_type": "stream",
          "name": "stdout",
          "text": [
            "Train Epoch: 26 [56320/84843 (66%)]\tLoss: 0.501282\n"
          ]
        },
        {
          "output_type": "stream",
          "name": "stderr",
          "text": [
            " 85%|████████▌ | 25.642666666664375/30 [34:31<07:16, 100.06s/it]"
          ]
        },
        {
          "output_type": "stream",
          "name": "stdout",
          "text": [
            "Train Epoch: 26 [61440/84843 (72%)]\tLoss: 0.402591\n"
          ]
        },
        {
          "output_type": "stream",
          "name": "stderr",
          "text": [
            " 86%|████████▌ | 25.695999999997703/30 [34:36<05:48, 81.04s/it]"
          ]
        },
        {
          "output_type": "stream",
          "name": "stdout",
          "text": [
            "Train Epoch: 26 [66560/84843 (78%)]\tLoss: 0.374383\n"
          ]
        },
        {
          "output_type": "stream",
          "name": "stderr",
          "text": [
            " 86%|████████▌ | 25.74933333333103/30 [34:40<05:45, 81.35s/it] "
          ]
        },
        {
          "output_type": "stream",
          "name": "stdout",
          "text": [
            "Train Epoch: 26 [71680/84843 (84%)]\tLoss: 0.555469\n"
          ]
        },
        {
          "output_type": "stream",
          "name": "stderr",
          "text": [
            " 86%|████████▌ | 25.802666666664358/30 [34:44<05:45, 82.37s/it]"
          ]
        },
        {
          "output_type": "stream",
          "name": "stdout",
          "text": [
            "Train Epoch: 26 [76800/84843 (90%)]\tLoss: 0.413977\n"
          ]
        },
        {
          "output_type": "stream",
          "name": "stderr",
          "text": [
            " 86%|████████▌ | 25.855999999997685/30 [34:49<05:31, 79.91s/it]"
          ]
        },
        {
          "output_type": "stream",
          "name": "stdout",
          "text": [
            "Train Epoch: 26 [81920/84843 (96%)]\tLoss: 0.584412\n"
          ]
        },
        {
          "output_type": "stream",
          "name": "stderr",
          "text": [
            " 87%|████████▋ | 25.99999999999767/30 [34:57<03:25, 51.47s/it] "
          ]
        },
        {
          "output_type": "stream",
          "name": "stdout",
          "text": [
            "\n",
            "Test Epoch: 26\tAccuracy: 7901/11005 (72%)\n",
            "\n"
          ]
        },
        {
          "output_type": "stream",
          "name": "stderr",
          "text": [
            "\r 87%|████████▋ | 26.002666666664336/30 [34:57<04:08, 62.18s/it]"
          ]
        },
        {
          "output_type": "stream",
          "name": "stdout",
          "text": [
            "Train Epoch: 27 [0/84843 (0%)]\tLoss: 0.434477\n"
          ]
        },
        {
          "output_type": "stream",
          "name": "stderr",
          "text": [
            " 87%|████████▋ | 26.055999999997663/30 [35:01<05:20, 81.18s/it]"
          ]
        },
        {
          "output_type": "stream",
          "name": "stdout",
          "text": [
            "Train Epoch: 27 [5120/84843 (6%)]\tLoss: 0.453999\n"
          ]
        },
        {
          "output_type": "stream",
          "name": "stderr",
          "text": [
            " 87%|████████▋ | 26.10933333333099/30 [35:06<05:23, 83.08s/it] "
          ]
        },
        {
          "output_type": "stream",
          "name": "stdout",
          "text": [
            "Train Epoch: 27 [10240/84843 (12%)]\tLoss: 0.342186\n"
          ]
        },
        {
          "output_type": "stream",
          "name": "stderr",
          "text": [
            " 87%|████████▋ | 26.162666666664318/30 [35:10<05:09, 80.56s/it]"
          ]
        },
        {
          "output_type": "stream",
          "name": "stdout",
          "text": [
            "Train Epoch: 27 [15360/84843 (18%)]\tLoss: 0.449784\n"
          ]
        },
        {
          "output_type": "stream",
          "name": "stderr",
          "text": [
            " 87%|████████▋ | 26.215999999997646/30 [35:14<05:07, 81.35s/it]"
          ]
        },
        {
          "output_type": "stream",
          "name": "stdout",
          "text": [
            "Train Epoch: 27 [20480/84843 (24%)]\tLoss: 0.485255\n"
          ]
        },
        {
          "output_type": "stream",
          "name": "stderr",
          "text": [
            " 88%|████████▊ | 26.269333333330973/30 [35:19<05:07, 82.46s/it]"
          ]
        },
        {
          "output_type": "stream",
          "name": "stdout",
          "text": [
            "Train Epoch: 27 [25600/84843 (30%)]\tLoss: 0.543842\n"
          ]
        },
        {
          "output_type": "stream",
          "name": "stderr",
          "text": [
            " 88%|████████▊ | 26.3226666666643/30 [35:23<04:48, 78.49s/it]  "
          ]
        },
        {
          "output_type": "stream",
          "name": "stdout",
          "text": [
            "Train Epoch: 27 [30720/84843 (36%)]\tLoss: 0.509140\n"
          ]
        },
        {
          "output_type": "stream",
          "name": "stderr",
          "text": [
            " 88%|████████▊ | 26.375999999997628/30 [35:27<04:56, 81.70s/it]"
          ]
        },
        {
          "output_type": "stream",
          "name": "stdout",
          "text": [
            "Train Epoch: 27 [35840/84843 (42%)]\tLoss: 0.603845\n"
          ]
        },
        {
          "output_type": "stream",
          "name": "stderr",
          "text": [
            " 88%|████████▊ | 26.429333333330955/30 [35:32<04:57, 83.32s/it]"
          ]
        },
        {
          "output_type": "stream",
          "name": "stdout",
          "text": [
            "Train Epoch: 27 [40960/84843 (48%)]\tLoss: 0.533235\n"
          ]
        },
        {
          "output_type": "stream",
          "name": "stderr",
          "text": [
            " 88%|████████▊ | 26.482666666664283/30 [35:37<05:04, 86.53s/it]"
          ]
        },
        {
          "output_type": "stream",
          "name": "stdout",
          "text": [
            "Train Epoch: 27 [46080/84843 (54%)]\tLoss: 0.458808\n"
          ]
        },
        {
          "output_type": "stream",
          "name": "stderr",
          "text": [
            " 88%|████████▊ | 26.53599999999761/30 [35:41<04:44, 82.17s/it] "
          ]
        },
        {
          "output_type": "stream",
          "name": "stdout",
          "text": [
            "Train Epoch: 27 [51200/84843 (60%)]\tLoss: 0.776962\n"
          ]
        },
        {
          "output_type": "stream",
          "name": "stderr",
          "text": [
            " 89%|████████▊ | 26.589333333330938/30 [35:46<04:40, 82.21s/it]"
          ]
        },
        {
          "output_type": "stream",
          "name": "stdout",
          "text": [
            "Train Epoch: 27 [56320/84843 (66%)]\tLoss: 0.530754\n"
          ]
        },
        {
          "output_type": "stream",
          "name": "stderr",
          "text": [
            " 89%|████████▉ | 26.642666666664265/30 [35:50<04:32, 81.28s/it]"
          ]
        },
        {
          "output_type": "stream",
          "name": "stdout",
          "text": [
            "Train Epoch: 27 [61440/84843 (72%)]\tLoss: 0.448033\n"
          ]
        },
        {
          "output_type": "stream",
          "name": "stderr",
          "text": [
            " 89%|████████▉ | 26.695999999997593/30 [35:54<04:29, 81.71s/it]"
          ]
        },
        {
          "output_type": "stream",
          "name": "stdout",
          "text": [
            "Train Epoch: 27 [66560/84843 (78%)]\tLoss: 0.448594\n"
          ]
        },
        {
          "output_type": "stream",
          "name": "stderr",
          "text": [
            " 89%|████████▉ | 26.74933333333092/30 [35:59<04:32, 83.91s/it] "
          ]
        },
        {
          "output_type": "stream",
          "name": "stdout",
          "text": [
            "Train Epoch: 27 [71680/84843 (84%)]\tLoss: 0.568892\n"
          ]
        },
        {
          "output_type": "stream",
          "name": "stderr",
          "text": [
            " 89%|████████▉ | 26.802666666664248/30 [36:03<04:20, 81.48s/it]"
          ]
        },
        {
          "output_type": "stream",
          "name": "stdout",
          "text": [
            "Train Epoch: 27 [76800/84843 (90%)]\tLoss: 0.663193\n"
          ]
        },
        {
          "output_type": "stream",
          "name": "stderr",
          "text": [
            " 90%|████████▉ | 26.855999999997575/30 [36:07<04:17, 82.01s/it]"
          ]
        },
        {
          "output_type": "stream",
          "name": "stdout",
          "text": [
            "Train Epoch: 27 [81920/84843 (96%)]\tLoss: 0.489168\n"
          ]
        },
        {
          "output_type": "stream",
          "name": "stderr",
          "text": [
            " 90%|████████▉ | 26.99999999999756/30 [36:15<02:29, 49.89s/it] "
          ]
        },
        {
          "output_type": "stream",
          "name": "stdout",
          "text": [
            "\n",
            "Test Epoch: 27\tAccuracy: 9066/11005 (82%)\n",
            "\n"
          ]
        },
        {
          "output_type": "stream",
          "name": "stderr",
          "text": [
            "\r 90%|█████████ | 27.002666666664226/30 [36:16<03:03, 61.17s/it]"
          ]
        },
        {
          "output_type": "stream",
          "name": "stdout",
          "text": [
            "Train Epoch: 28 [0/84843 (0%)]\tLoss: 0.493093\n"
          ]
        },
        {
          "output_type": "stream",
          "name": "stderr",
          "text": [
            " 90%|█████████ | 27.055999999997553/30 [36:20<03:51, 78.70s/it]"
          ]
        },
        {
          "output_type": "stream",
          "name": "stdout",
          "text": [
            "Train Epoch: 28 [5120/84843 (6%)]\tLoss: 0.475571\n"
          ]
        },
        {
          "output_type": "stream",
          "name": "stderr",
          "text": [
            " 90%|█████████ | 27.10933333333088/30 [36:24<03:49, 79.35s/it] "
          ]
        },
        {
          "output_type": "stream",
          "name": "stdout",
          "text": [
            "Train Epoch: 28 [10240/84843 (12%)]\tLoss: 0.536166\n"
          ]
        },
        {
          "output_type": "stream",
          "name": "stderr",
          "text": [
            " 91%|█████████ | 27.162666666664208/30 [36:29<03:41, 77.98s/it]"
          ]
        },
        {
          "output_type": "stream",
          "name": "stdout",
          "text": [
            "Train Epoch: 28 [15360/84843 (18%)]\tLoss: 0.490858\n"
          ]
        },
        {
          "output_type": "stream",
          "name": "stderr",
          "text": [
            " 91%|█████████ | 27.215999999997535/30 [36:33<03:57, 85.31s/it]"
          ]
        },
        {
          "output_type": "stream",
          "name": "stdout",
          "text": [
            "Train Epoch: 28 [20480/84843 (24%)]\tLoss: 0.456185\n"
          ]
        },
        {
          "output_type": "stream",
          "name": "stderr",
          "text": [
            " 91%|█████████ | 27.269333333330863/30 [36:38<03:43, 81.70s/it]"
          ]
        },
        {
          "output_type": "stream",
          "name": "stdout",
          "text": [
            "Train Epoch: 28 [25600/84843 (30%)]\tLoss: 0.634152\n"
          ]
        },
        {
          "output_type": "stream",
          "name": "stderr",
          "text": [
            " 91%|█████████ | 27.32266666666419/30 [36:42<03:35, 80.54s/it] "
          ]
        },
        {
          "output_type": "stream",
          "name": "stdout",
          "text": [
            "Train Epoch: 28 [30720/84843 (36%)]\tLoss: 0.509469\n"
          ]
        },
        {
          "output_type": "stream",
          "name": "stderr",
          "text": [
            " 91%|█████████▏| 27.375999999997518/30 [36:46<03:34, 81.61s/it]"
          ]
        },
        {
          "output_type": "stream",
          "name": "stdout",
          "text": [
            "Train Epoch: 28 [35840/84843 (42%)]\tLoss: 0.369987\n"
          ]
        },
        {
          "output_type": "stream",
          "name": "stderr",
          "text": [
            " 91%|█████████▏| 27.429333333330845/30 [36:51<03:23, 79.07s/it]"
          ]
        },
        {
          "output_type": "stream",
          "name": "stdout",
          "text": [
            "Train Epoch: 28 [40960/84843 (48%)]\tLoss: 0.500455\n"
          ]
        },
        {
          "output_type": "stream",
          "name": "stderr",
          "text": [
            " 92%|█████████▏| 27.482666666664173/30 [36:55<03:30, 83.46s/it]"
          ]
        },
        {
          "output_type": "stream",
          "name": "stdout",
          "text": [
            "Train Epoch: 28 [46080/84843 (54%)]\tLoss: 0.460208\n"
          ]
        },
        {
          "output_type": "stream",
          "name": "stderr",
          "text": [
            " 92%|█████████▏| 27.5359999999975/30 [36:59<03:13, 78.66s/it]  "
          ]
        },
        {
          "output_type": "stream",
          "name": "stdout",
          "text": [
            "Train Epoch: 28 [51200/84843 (60%)]\tLoss: 0.540965\n"
          ]
        },
        {
          "output_type": "stream",
          "name": "stderr",
          "text": [
            " 92%|█████████▏| 27.589333333330828/30 [37:03<03:12, 79.88s/it]"
          ]
        },
        {
          "output_type": "stream",
          "name": "stdout",
          "text": [
            "Train Epoch: 28 [56320/84843 (66%)]\tLoss: 0.445076\n"
          ]
        },
        {
          "output_type": "stream",
          "name": "stderr",
          "text": [
            " 92%|█████████▏| 27.642666666664155/30 [37:08<03:10, 80.68s/it]"
          ]
        },
        {
          "output_type": "stream",
          "name": "stdout",
          "text": [
            "Train Epoch: 28 [61440/84843 (72%)]\tLoss: 0.538810\n"
          ]
        },
        {
          "output_type": "stream",
          "name": "stderr",
          "text": [
            " 92%|█████████▏| 27.695999999997483/30 [37:12<03:06, 81.14s/it]"
          ]
        },
        {
          "output_type": "stream",
          "name": "stdout",
          "text": [
            "Train Epoch: 28 [66560/84843 (78%)]\tLoss: 0.540047\n"
          ]
        },
        {
          "output_type": "stream",
          "name": "stderr",
          "text": [
            " 92%|█████████▏| 27.74933333333081/30 [37:16<03:00, 80.10s/it] "
          ]
        },
        {
          "output_type": "stream",
          "name": "stdout",
          "text": [
            "Train Epoch: 28 [71680/84843 (84%)]\tLoss: 0.477584\n"
          ]
        },
        {
          "output_type": "stream",
          "name": "stderr",
          "text": [
            " 93%|█████████▎| 27.802666666664138/30 [37:21<02:55, 79.92s/it]"
          ]
        },
        {
          "output_type": "stream",
          "name": "stdout",
          "text": [
            "Train Epoch: 28 [76800/84843 (90%)]\tLoss: 0.547176\n"
          ]
        },
        {
          "output_type": "stream",
          "name": "stderr",
          "text": [
            " 93%|█████████▎| 27.855999999997465/30 [37:25<02:48, 78.80s/it]"
          ]
        },
        {
          "output_type": "stream",
          "name": "stdout",
          "text": [
            "Train Epoch: 28 [81920/84843 (96%)]\tLoss: 0.558153\n"
          ]
        },
        {
          "output_type": "stream",
          "name": "stderr",
          "text": [
            " 93%|█████████▎| 27.99999999999745/30 [37:33<01:45, 52.63s/it] "
          ]
        },
        {
          "output_type": "stream",
          "name": "stdout",
          "text": [
            "\n",
            "Test Epoch: 28\tAccuracy: 9063/11005 (82%)\n",
            "\n"
          ]
        },
        {
          "output_type": "stream",
          "name": "stderr",
          "text": [
            "\r 93%|█████████▎| 28.002666666664116/30 [37:34<02:02, 61.47s/it]"
          ]
        },
        {
          "output_type": "stream",
          "name": "stdout",
          "text": [
            "Train Epoch: 29 [0/84843 (0%)]\tLoss: 0.485193\n"
          ]
        },
        {
          "output_type": "stream",
          "name": "stderr",
          "text": [
            " 94%|█████████▎| 28.055999999997443/30 [37:38<02:34, 79.36s/it]"
          ]
        },
        {
          "output_type": "stream",
          "name": "stdout",
          "text": [
            "Train Epoch: 29 [5120/84843 (6%)]\tLoss: 0.528152\n"
          ]
        },
        {
          "output_type": "stream",
          "name": "stderr",
          "text": [
            " 94%|█████████▎| 28.10933333333077/30 [37:42<02:30, 79.60s/it] "
          ]
        },
        {
          "output_type": "stream",
          "name": "stdout",
          "text": [
            "Train Epoch: 29 [10240/84843 (12%)]\tLoss: 0.324103\n"
          ]
        },
        {
          "output_type": "stream",
          "name": "stderr",
          "text": [
            " 94%|█████████▍| 28.162666666664098/30 [37:46<02:27, 80.26s/it]"
          ]
        },
        {
          "output_type": "stream",
          "name": "stdout",
          "text": [
            "Train Epoch: 29 [15360/84843 (18%)]\tLoss: 0.441176\n"
          ]
        },
        {
          "output_type": "stream",
          "name": "stderr",
          "text": [
            " 94%|█████████▍| 28.215999999997425/30 [37:51<02:22, 80.08s/it]"
          ]
        },
        {
          "output_type": "stream",
          "name": "stdout",
          "text": [
            "Train Epoch: 29 [20480/84843 (24%)]\tLoss: 0.364195\n"
          ]
        },
        {
          "output_type": "stream",
          "name": "stderr",
          "text": [
            " 94%|█████████▍| 28.269333333330753/30 [37:55<02:19, 80.77s/it]"
          ]
        },
        {
          "output_type": "stream",
          "name": "stdout",
          "text": [
            "Train Epoch: 29 [25600/84843 (30%)]\tLoss: 0.512050\n"
          ]
        },
        {
          "output_type": "stream",
          "name": "stderr",
          "text": [
            " 94%|█████████▍| 28.32266666666408/30 [37:59<02:15, 80.74s/it] "
          ]
        },
        {
          "output_type": "stream",
          "name": "stdout",
          "text": [
            "Train Epoch: 29 [30720/84843 (36%)]\tLoss: 0.441733\n"
          ]
        },
        {
          "output_type": "stream",
          "name": "stderr",
          "text": [
            " 95%|█████████▍| 28.375999999997408/30 [38:03<02:08, 79.03s/it]"
          ]
        },
        {
          "output_type": "stream",
          "name": "stdout",
          "text": [
            "Train Epoch: 29 [35840/84843 (42%)]\tLoss: 0.405354\n"
          ]
        },
        {
          "output_type": "stream",
          "name": "stderr",
          "text": [
            " 95%|█████████▍| 28.429333333330735/30 [38:08<02:05, 79.70s/it]"
          ]
        },
        {
          "output_type": "stream",
          "name": "stdout",
          "text": [
            "Train Epoch: 29 [40960/84843 (48%)]\tLoss: 0.361617\n"
          ]
        },
        {
          "output_type": "stream",
          "name": "stderr",
          "text": [
            " 95%|█████████▍| 28.482666666664063/30 [38:12<02:02, 80.72s/it]"
          ]
        },
        {
          "output_type": "stream",
          "name": "stdout",
          "text": [
            "Train Epoch: 29 [46080/84843 (54%)]\tLoss: 0.374343\n"
          ]
        },
        {
          "output_type": "stream",
          "name": "stderr",
          "text": [
            " 95%|█████████▌| 28.53599999999739/30 [38:16<02:01, 83.04s/it] "
          ]
        },
        {
          "output_type": "stream",
          "name": "stdout",
          "text": [
            "Train Epoch: 29 [51200/84843 (60%)]\tLoss: 0.441804\n"
          ]
        },
        {
          "output_type": "stream",
          "name": "stderr",
          "text": [
            " 95%|█████████▌| 28.589333333330718/30 [38:21<01:52, 79.91s/it]"
          ]
        },
        {
          "output_type": "stream",
          "name": "stdout",
          "text": [
            "Train Epoch: 29 [56320/84843 (66%)]\tLoss: 0.401043\n"
          ]
        },
        {
          "output_type": "stream",
          "name": "stderr",
          "text": [
            " 95%|█████████▌| 28.642666666664045/30 [38:25<01:46, 78.74s/it]"
          ]
        },
        {
          "output_type": "stream",
          "name": "stdout",
          "text": [
            "Train Epoch: 29 [61440/84843 (72%)]\tLoss: 0.476357\n"
          ]
        },
        {
          "output_type": "stream",
          "name": "stderr",
          "text": [
            " 96%|█████████▌| 28.695999999997372/30 [38:29<01:47, 82.09s/it]"
          ]
        },
        {
          "output_type": "stream",
          "name": "stdout",
          "text": [
            "Train Epoch: 29 [66560/84843 (78%)]\tLoss: 0.532268\n"
          ]
        },
        {
          "output_type": "stream",
          "name": "stderr",
          "text": [
            " 96%|█████████▌| 28.7493333333307/30 [38:34<01:48, 86.85s/it]  "
          ]
        },
        {
          "output_type": "stream",
          "name": "stdout",
          "text": [
            "Train Epoch: 29 [71680/84843 (84%)]\tLoss: 0.429452\n"
          ]
        },
        {
          "output_type": "stream",
          "name": "stderr",
          "text": [
            " 96%|█████████▌| 28.802666666664027/30 [38:38<01:36, 80.64s/it]"
          ]
        },
        {
          "output_type": "stream",
          "name": "stdout",
          "text": [
            "Train Epoch: 29 [76800/84843 (90%)]\tLoss: 0.518712\n"
          ]
        },
        {
          "output_type": "stream",
          "name": "stderr",
          "text": [
            " 96%|█████████▌| 28.855999999997355/30 [38:42<01:33, 81.35s/it]"
          ]
        },
        {
          "output_type": "stream",
          "name": "stdout",
          "text": [
            "Train Epoch: 29 [81920/84843 (96%)]\tLoss: 0.607139\n"
          ]
        },
        {
          "output_type": "stream",
          "name": "stderr",
          "text": [
            " 97%|█████████▋| 28.99999999999734/30 [38:50<00:50, 50.73s/it] "
          ]
        },
        {
          "output_type": "stream",
          "name": "stdout",
          "text": [
            "\n",
            "Test Epoch: 29\tAccuracy: 8841/11005 (80%)\n",
            "\n"
          ]
        },
        {
          "output_type": "stream",
          "name": "stderr",
          "text": [
            "\r 97%|█████████▋| 29.002666666664005/30 [38:51<01:00, 60.43s/it]"
          ]
        },
        {
          "output_type": "stream",
          "name": "stdout",
          "text": [
            "Train Epoch: 30 [0/84843 (0%)]\tLoss: 0.468850\n"
          ]
        },
        {
          "output_type": "stream",
          "name": "stderr",
          "text": [
            " 97%|█████████▋| 29.055999999997333/30 [38:55<01:16, 80.80s/it]"
          ]
        },
        {
          "output_type": "stream",
          "name": "stdout",
          "text": [
            "Train Epoch: 30 [5120/84843 (6%)]\tLoss: 0.508473\n"
          ]
        },
        {
          "output_type": "stream",
          "name": "stderr",
          "text": [
            " 97%|█████████▋| 29.10933333333066/30 [38:59<01:11, 80.28s/it] "
          ]
        },
        {
          "output_type": "stream",
          "name": "stdout",
          "text": [
            "Train Epoch: 30 [10240/84843 (12%)]\tLoss: 0.416299\n"
          ]
        },
        {
          "output_type": "stream",
          "name": "stderr",
          "text": [
            " 97%|█████████▋| 29.162666666663988/30 [39:04<01:16, 91.02s/it]"
          ]
        },
        {
          "output_type": "stream",
          "name": "stdout",
          "text": [
            "Train Epoch: 30 [15360/84843 (18%)]\tLoss: 0.378648\n"
          ]
        },
        {
          "output_type": "stream",
          "name": "stderr",
          "text": [
            " 97%|█████████▋| 29.215999999997315/30 [39:08<01:01, 78.49s/it]"
          ]
        },
        {
          "output_type": "stream",
          "name": "stdout",
          "text": [
            "Train Epoch: 30 [20480/84843 (24%)]\tLoss: 0.458482\n"
          ]
        },
        {
          "output_type": "stream",
          "name": "stderr",
          "text": [
            " 98%|█████████▊| 29.269333333330643/30 [39:12<00:57, 78.91s/it]"
          ]
        },
        {
          "output_type": "stream",
          "name": "stdout",
          "text": [
            "Train Epoch: 30 [25600/84843 (30%)]\tLoss: 0.539768\n"
          ]
        },
        {
          "output_type": "stream",
          "name": "stderr",
          "text": [
            " 98%|█████████▊| 29.32266666666397/30 [39:17<00:55, 81.30s/it] "
          ]
        },
        {
          "output_type": "stream",
          "name": "stdout",
          "text": [
            "Train Epoch: 30 [30720/84843 (36%)]\tLoss: 0.389089\n"
          ]
        },
        {
          "output_type": "stream",
          "name": "stderr",
          "text": [
            " 98%|█████████▊| 29.375999999997298/30 [39:21<00:50, 80.19s/it]"
          ]
        },
        {
          "output_type": "stream",
          "name": "stdout",
          "text": [
            "Train Epoch: 30 [35840/84843 (42%)]\tLoss: 0.419014\n"
          ]
        },
        {
          "output_type": "stream",
          "name": "stderr",
          "text": [
            " 98%|█████████▊| 29.429333333330625/30 [39:25<00:45, 80.57s/it]"
          ]
        },
        {
          "output_type": "stream",
          "name": "stdout",
          "text": [
            "Train Epoch: 30 [40960/84843 (48%)]\tLoss: 0.506146\n"
          ]
        },
        {
          "output_type": "stream",
          "name": "stderr",
          "text": [
            " 98%|█████████▊| 29.482666666663953/30 [39:29<00:41, 79.29s/it]"
          ]
        },
        {
          "output_type": "stream",
          "name": "stdout",
          "text": [
            "Train Epoch: 30 [46080/84843 (54%)]\tLoss: 0.496409\n"
          ]
        },
        {
          "output_type": "stream",
          "name": "stderr",
          "text": [
            " 98%|█████████▊| 29.53599999999728/30 [39:34<00:45, 98.55s/it]  "
          ]
        },
        {
          "output_type": "stream",
          "name": "stdout",
          "text": [
            "Train Epoch: 30 [51200/84843 (60%)]\tLoss: 0.419990\n"
          ]
        },
        {
          "output_type": "stream",
          "name": "stderr",
          "text": [
            " 99%|█████████▊| 29.589333333330607/30 [39:38<00:33, 81.68s/it]"
          ]
        },
        {
          "output_type": "stream",
          "name": "stdout",
          "text": [
            "Train Epoch: 30 [56320/84843 (66%)]\tLoss: 0.398255\n"
          ]
        },
        {
          "output_type": "stream",
          "name": "stderr",
          "text": [
            " 99%|█████████▉| 29.642666666663935/30 [39:43<00:28, 80.59s/it]"
          ]
        },
        {
          "output_type": "stream",
          "name": "stdout",
          "text": [
            "Train Epoch: 30 [61440/84843 (72%)]\tLoss: 0.516488\n"
          ]
        },
        {
          "output_type": "stream",
          "name": "stderr",
          "text": [
            " 99%|█████████▉| 29.695999999997262/30 [39:47<00:24, 81.87s/it]"
          ]
        },
        {
          "output_type": "stream",
          "name": "stdout",
          "text": [
            "Train Epoch: 30 [66560/84843 (78%)]\tLoss: 0.492856\n"
          ]
        },
        {
          "output_type": "stream",
          "name": "stderr",
          "text": [
            " 99%|█████████▉| 29.74933333333059/30 [39:51<00:20, 80.59s/it] "
          ]
        },
        {
          "output_type": "stream",
          "name": "stdout",
          "text": [
            "Train Epoch: 30 [71680/84843 (84%)]\tLoss: 0.440626\n"
          ]
        },
        {
          "output_type": "stream",
          "name": "stderr",
          "text": [
            " 99%|█████████▉| 29.802666666663917/30 [39:56<00:15, 80.15s/it]"
          ]
        },
        {
          "output_type": "stream",
          "name": "stdout",
          "text": [
            "Train Epoch: 30 [76800/84843 (90%)]\tLoss: 0.490667\n"
          ]
        },
        {
          "output_type": "stream",
          "name": "stderr",
          "text": [
            "100%|█████████▉| 29.855999999997245/30 [40:00<00:11, 79.94s/it]"
          ]
        },
        {
          "output_type": "stream",
          "name": "stdout",
          "text": [
            "Train Epoch: 30 [81920/84843 (96%)]\tLoss: 0.527436\n"
          ]
        },
        {
          "output_type": "stream",
          "name": "stderr",
          "text": [
            "100%|█████████▉| 29.99999999999723/30 [40:11<00:00, 80.39s/it]"
          ]
        },
        {
          "output_type": "stream",
          "name": "stdout",
          "text": [
            "\n",
            "Test Epoch: 30\tAccuracy: 8659/11005 (79%)\n",
            "\n"
          ]
        },
        {
          "output_type": "stream",
          "name": "stderr",
          "text": [
            "\n"
          ]
        }
      ],
      "source": [
        "log_interval = 20\n",
        "n_epoch = 30\n",
        "\n",
        "pbar_update = 1 / (len(train_loader) + len(test_loader))\n",
        "losses = []\n",
        "\n",
        "# The transform needs to live on the same device as the model and the data.#转换需要与模型和数据位于同一设备上。\n",
        "transform = transform.to(device)\n",
        "with tqdm(total=n_epoch) as pbar:\n",
        "    for epoch in range(1, n_epoch + 1):\n",
        "        train(model, epoch, log_interval)\n",
        "        test(model, epoch)\n",
        "        scheduler.step()\n",
        "\n",
        "# Let's plot the training loss versus the number of iteration.\n",
        "# plt.plot(losses);\n",
        "# plt.title(\"training loss\");"
      ]
    },
    {
      "cell_type": "markdown",
      "metadata": {
        "id": "wSymjWnbSPHu"
      },
      "source": [
        "The network should be more than 65% accurate on the test set after 2\n",
        "epochs, and 85% after 21 epochs. Let’s look at the last words in the\n",
        "train set, and see how the model did on it.\n",
        "\n",
        "\n"
      ]
    },
    {
      "cell_type": "code",
      "execution_count": null,
      "metadata": {
        "colab": {
          "base_uri": "https://localhost:8080/"
        },
        "id": "rGgRaXrySPHu",
        "outputId": "f8920263-d9f1-461f-e9dc-719280ad630e"
      },
      "outputs": [
        {
          "output_type": "stream",
          "name": "stdout",
          "text": [
            "tensor([[-0.0010, -0.0009, -0.0012,  ..., -0.0006, -0.0013, -0.0009]]) 16000 zero fffcabd1 0\n",
            "Expected: zero. Predicted: zero.\n"
          ]
        }
      ],
      "source": [
        "def predict(tensor):\n",
        "    # Use the model to predict the label of the waveform. #使用模型预测波形的标签\n",
        "    tensor = tensor.to(device)\n",
        "    tensor = transform(tensor)\n",
        "    tensor = tensor.unsqueeze(0) \n",
        "    if tensor.shape[1] < 8000:\n",
        "      #需要填充到8000\n",
        "      padding_dim = (0,8000 - tensor.shape[1])\n",
        "      padding = torch.nn.ZeroPad2d(padding_dim) #用0 填充\n",
        "      tensor = padding(tensor)\n",
        "\n",
        "    tensor = model(tensor)  #升维\n",
        "    tensor = get_likely_index(tensor)\n",
        "    tensor = index_to_label(tensor.squeeze())\n",
        "    return tensor\n",
        "\n",
        "\n",
        "waveform, sample_rate, utterance, *_ = train_set[-1]\n",
        "print(waveform, sample_rate, utterance, *_ )\n",
        "ipd.Audio(waveform.numpy(), rate=sample_rate)\n",
        "print(f\"Expected: {utterance}. Predicted: {predict(waveform)}.\")"
      ]
    },
    {
      "cell_type": "markdown",
      "metadata": {
        "id": "Cs5nadL6SPHu"
      },
      "source": [
        "Let’s find an example that isn’t classified correctly, if there is one.\n",
        "\n",
        "\n"
      ]
    },
    {
      "cell_type": "code",
      "execution_count": null,
      "metadata": {
        "colab": {
          "base_uri": "https://localhost:8080/"
        },
        "id": "ZMUKsPSRSPHu",
        "outputId": "dbe702e3-1399-4d5a-cc4b-9c6521a19c3e"
      },
      "outputs": [
        {
          "output_type": "stream",
          "name": "stdout",
          "text": [
            "Data point #11. Expected: right. Predicted: up.\n"
          ]
        }
      ],
      "source": [
        "for i, (waveform, sample_rate, utterance, *_) in enumerate(test_set):\n",
        "    output = predict(waveform)\n",
        "    if output != utterance:\n",
        "        ipd.Audio(waveform.numpy(), rate=sample_rate)\n",
        "        print(f\"Data point #{i}. Expected: {utterance}. Predicted: {output}.\")\n",
        "        break\n",
        "else:\n",
        "    print(\"All examples in this dataset were correctly classified!\")\n",
        "    print(\"In this case, let's just look at the last data point\")\n",
        "    ipd.Audio(waveform.numpy(), rate=sample_rate)\n",
        "    print(f\"Data point #{i}. Expected: {utterance}. Predicted: {output}.\")"
      ]
    },
    {
      "cell_type": "markdown",
      "metadata": {
        "id": "_aLpVOnRSPHu"
      },
      "source": [
        "Feel free to try with one of your own recordings of one of the labels!\n",
        "For example, using Colab, say “Go” while executing the cell below. This\n",
        "will record one second of audio and try to classify it.\n",
        "\n",
        "\n"
      ]
    },
    {
      "cell_type": "code",
      "source": [
        "!pip install pydub"
      ],
      "metadata": {
        "colab": {
          "base_uri": "https://localhost:8080/"
        },
        "id": "RUnhK4mKWa7g",
        "outputId": "61355299-45dc-4bfa-a56b-4bb4c0ecdc63"
      },
      "execution_count": null,
      "outputs": [
        {
          "output_type": "stream",
          "name": "stdout",
          "text": [
            "Looking in indexes: https://pypi.org/simple, https://us-python.pkg.dev/colab-wheels/public/simple/\n",
            "Requirement already satisfied: pydub in /usr/local/lib/python3.7/dist-packages (0.25.1)\n"
          ]
        }
      ]
    },
    {
      "cell_type": "code",
      "execution_count": null,
      "metadata": {
        "colab": {
          "base_uri": "https://localhost:8080/",
          "height": 524
        },
        "id": "g5XHA1p9SPHu",
        "outputId": "78020465-ef9e-4aac-c0bd-07ede88bbe5c"
      },
      "outputs": [
        {
          "output_type": "stream",
          "name": "stdout",
          "text": [
            "Recording started for 1 seconds.\n"
          ]
        },
        {
          "output_type": "display_data",
          "data": {
            "text/plain": [
              "<IPython.core.display.Javascript object>"
            ],
            "application/javascript": [
              "const sleep  = time => new Promise(resolve => setTimeout(resolve, time))\n",
              "const b2text = blob => new Promise(resolve => {\n",
              "  const reader = new FileReader()\n",
              "  reader.onloadend = e => resolve(e.srcElement.result)\n",
              "  reader.readAsDataURL(blob)\n",
              "})\n",
              "var record = time => new Promise(async resolve => {\n",
              "  stream = await navigator.mediaDevices.getUserMedia({ audio: true })\n",
              "  recorder = new MediaRecorder(stream)\n",
              "  chunks = []\n",
              "  recorder.ondataavailable = e => chunks.push(e.data)\n",
              "  recorder.start()\n",
              "  await sleep(time)\n",
              "  recorder.onstop = async ()=>{\n",
              "    blob = new Blob(chunks)\n",
              "    text = await b2text(blob)\n",
              "    resolve(text)\n",
              "  }\n",
              "  recorder.stop()\n",
              "})"
            ]
          },
          "metadata": {}
        },
        {
          "output_type": "stream",
          "name": "stdout",
          "text": [
            "Recording ended.\n",
            "torch.Size([1, 43200])\n",
            "48000\n",
            "43200\n",
            "[0.00000000e+00 0.00000000e+00 0.00000000e+00 ... 5.22732735e-05\n",
            " 5.10811806e-05 4.30941582e-05]\n",
            "7200\n",
            "torch.Size([7200])\n"
          ]
        },
        {
          "output_type": "error",
          "ename": "RuntimeError",
          "evalue": "ignored",
          "traceback": [
            "\u001b[0;31m---------------------------------------------------------------------------\u001b[0m",
            "\u001b[0;31mRuntimeError\u001b[0m                              Traceback (most recent call last)",
            "\u001b[0;32m<ipython-input-125-89226d787d31>\u001b[0m in \u001b[0;36m<module>\u001b[0;34m\u001b[0m\n\u001b[1;32m     80\u001b[0m \u001b[0;31m# ipd.Audio(waveform01.numpy(), rate=new_sample_rate)\u001b[0m\u001b[0;34m\u001b[0m\u001b[0;34m\u001b[0m\u001b[0;34m\u001b[0m\u001b[0m\n\u001b[1;32m     81\u001b[0m \u001b[0mipd\u001b[0m\u001b[0;34m.\u001b[0m\u001b[0mAudio\u001b[0m\u001b[0;34m(\u001b[0m\u001b[0mwaveform01\u001b[0m\u001b[0;34m.\u001b[0m\u001b[0mnumpy\u001b[0m\u001b[0;34m(\u001b[0m\u001b[0;34m)\u001b[0m\u001b[0;34m,\u001b[0m \u001b[0mrate\u001b[0m\u001b[0;34m=\u001b[0m\u001b[0mnew_sample_rate\u001b[0m\u001b[0;34m)\u001b[0m\u001b[0;34m\u001b[0m\u001b[0;34m\u001b[0m\u001b[0m\n\u001b[0;32m---> 82\u001b[0;31m \u001b[0mprint\u001b[0m\u001b[0;34m(\u001b[0m\u001b[0;34mf\"Predicted: {predict(waveform01)}.\"\u001b[0m\u001b[0;34m)\u001b[0m\u001b[0;34m\u001b[0m\u001b[0;34m\u001b[0m\u001b[0m\n\u001b[0m",
            "\u001b[0;32m<ipython-input-101-9171d1f38b32>\u001b[0m in \u001b[0;36mpredict\u001b[0;34m(tensor)\u001b[0m\n\u001b[1;32m      2\u001b[0m     \u001b[0;31m# Use the model to predict the label of the waveform. #使用模型预测波形的标签\u001b[0m\u001b[0;34m\u001b[0m\u001b[0;34m\u001b[0m\u001b[0;34m\u001b[0m\u001b[0m\n\u001b[1;32m      3\u001b[0m     \u001b[0mtensor\u001b[0m \u001b[0;34m=\u001b[0m \u001b[0mtensor\u001b[0m\u001b[0;34m.\u001b[0m\u001b[0mto\u001b[0m\u001b[0;34m(\u001b[0m\u001b[0mdevice\u001b[0m\u001b[0;34m)\u001b[0m\u001b[0;34m\u001b[0m\u001b[0;34m\u001b[0m\u001b[0m\n\u001b[0;32m----> 4\u001b[0;31m     \u001b[0mtensor\u001b[0m \u001b[0;34m=\u001b[0m \u001b[0mtransform\u001b[0m\u001b[0;34m(\u001b[0m\u001b[0mtensor\u001b[0m\u001b[0;34m)\u001b[0m\u001b[0;34m\u001b[0m\u001b[0;34m\u001b[0m\u001b[0m\n\u001b[0m\u001b[1;32m      5\u001b[0m     \u001b[0mtensor\u001b[0m \u001b[0;34m=\u001b[0m \u001b[0mtensor\u001b[0m\u001b[0;34m.\u001b[0m\u001b[0munsqueeze\u001b[0m\u001b[0;34m(\u001b[0m\u001b[0;36m0\u001b[0m\u001b[0;34m)\u001b[0m\u001b[0;34m\u001b[0m\u001b[0;34m\u001b[0m\u001b[0m\n\u001b[1;32m      6\u001b[0m     \u001b[0;32mif\u001b[0m \u001b[0mtensor\u001b[0m\u001b[0;34m.\u001b[0m\u001b[0mshape\u001b[0m\u001b[0;34m[\u001b[0m\u001b[0;36m1\u001b[0m\u001b[0;34m]\u001b[0m \u001b[0;34m<\u001b[0m \u001b[0;36m8000\u001b[0m\u001b[0;34m:\u001b[0m\u001b[0;34m\u001b[0m\u001b[0;34m\u001b[0m\u001b[0m\n",
            "\u001b[0;32m/usr/local/lib/python3.7/dist-packages/torch/nn/modules/module.py\u001b[0m in \u001b[0;36m_call_impl\u001b[0;34m(self, *input, **kwargs)\u001b[0m\n\u001b[1;32m   1128\u001b[0m         if not (self._backward_hooks or self._forward_hooks or self._forward_pre_hooks or _global_backward_hooks\n\u001b[1;32m   1129\u001b[0m                 or _global_forward_hooks or _global_forward_pre_hooks):\n\u001b[0;32m-> 1130\u001b[0;31m             \u001b[0;32mreturn\u001b[0m \u001b[0mforward_call\u001b[0m\u001b[0;34m(\u001b[0m\u001b[0;34m*\u001b[0m\u001b[0minput\u001b[0m\u001b[0;34m,\u001b[0m \u001b[0;34m**\u001b[0m\u001b[0mkwargs\u001b[0m\u001b[0;34m)\u001b[0m\u001b[0;34m\u001b[0m\u001b[0;34m\u001b[0m\u001b[0m\n\u001b[0m\u001b[1;32m   1131\u001b[0m         \u001b[0;31m# Do not call functions when jit is used\u001b[0m\u001b[0;34m\u001b[0m\u001b[0;34m\u001b[0m\u001b[0;34m\u001b[0m\u001b[0m\n\u001b[1;32m   1132\u001b[0m         \u001b[0mfull_backward_hooks\u001b[0m\u001b[0;34m,\u001b[0m \u001b[0mnon_full_backward_hooks\u001b[0m \u001b[0;34m=\u001b[0m \u001b[0;34m[\u001b[0m\u001b[0;34m]\u001b[0m\u001b[0;34m,\u001b[0m \u001b[0;34m[\u001b[0m\u001b[0;34m]\u001b[0m\u001b[0;34m\u001b[0m\u001b[0;34m\u001b[0m\u001b[0m\n",
            "\u001b[0;32m/usr/local/lib/python3.7/dist-packages/torchaudio/transforms/_transforms.py\u001b[0m in \u001b[0;36mforward\u001b[0;34m(self, waveform)\u001b[0m\n\u001b[1;32m    957\u001b[0m         \u001b[0;32mif\u001b[0m \u001b[0mself\u001b[0m\u001b[0;34m.\u001b[0m\u001b[0morig_freq\u001b[0m \u001b[0;34m==\u001b[0m \u001b[0mself\u001b[0m\u001b[0;34m.\u001b[0m\u001b[0mnew_freq\u001b[0m\u001b[0;34m:\u001b[0m\u001b[0;34m\u001b[0m\u001b[0;34m\u001b[0m\u001b[0m\n\u001b[1;32m    958\u001b[0m             \u001b[0;32mreturn\u001b[0m \u001b[0mwaveform\u001b[0m\u001b[0;34m\u001b[0m\u001b[0;34m\u001b[0m\u001b[0m\n\u001b[0;32m--> 959\u001b[0;31m         \u001b[0;32mreturn\u001b[0m \u001b[0m_apply_sinc_resample_kernel\u001b[0m\u001b[0;34m(\u001b[0m\u001b[0mwaveform\u001b[0m\u001b[0;34m,\u001b[0m \u001b[0mself\u001b[0m\u001b[0;34m.\u001b[0m\u001b[0morig_freq\u001b[0m\u001b[0;34m,\u001b[0m \u001b[0mself\u001b[0m\u001b[0;34m.\u001b[0m\u001b[0mnew_freq\u001b[0m\u001b[0;34m,\u001b[0m \u001b[0mself\u001b[0m\u001b[0;34m.\u001b[0m\u001b[0mgcd\u001b[0m\u001b[0;34m,\u001b[0m \u001b[0mself\u001b[0m\u001b[0;34m.\u001b[0m\u001b[0mkernel\u001b[0m\u001b[0;34m,\u001b[0m \u001b[0mself\u001b[0m\u001b[0;34m.\u001b[0m\u001b[0mwidth\u001b[0m\u001b[0;34m)\u001b[0m\u001b[0;34m\u001b[0m\u001b[0;34m\u001b[0m\u001b[0m\n\u001b[0m\u001b[1;32m    960\u001b[0m \u001b[0;34m\u001b[0m\u001b[0m\n\u001b[1;32m    961\u001b[0m \u001b[0;34m\u001b[0m\u001b[0m\n",
            "\u001b[0;32m/usr/local/lib/python3.7/dist-packages/torchaudio/functional/functional.py\u001b[0m in \u001b[0;36m_apply_sinc_resample_kernel\u001b[0;34m(waveform, orig_freq, new_freq, gcd, kernel, width)\u001b[0m\n\u001b[1;32m   1494\u001b[0m     \u001b[0mnum_wavs\u001b[0m\u001b[0;34m,\u001b[0m \u001b[0mlength\u001b[0m \u001b[0;34m=\u001b[0m \u001b[0mwaveform\u001b[0m\u001b[0;34m.\u001b[0m\u001b[0mshape\u001b[0m\u001b[0;34m\u001b[0m\u001b[0;34m\u001b[0m\u001b[0m\n\u001b[1;32m   1495\u001b[0m     \u001b[0mwaveform\u001b[0m \u001b[0;34m=\u001b[0m \u001b[0mtorch\u001b[0m\u001b[0;34m.\u001b[0m\u001b[0mnn\u001b[0m\u001b[0;34m.\u001b[0m\u001b[0mfunctional\u001b[0m\u001b[0;34m.\u001b[0m\u001b[0mpad\u001b[0m\u001b[0;34m(\u001b[0m\u001b[0mwaveform\u001b[0m\u001b[0;34m,\u001b[0m \u001b[0;34m(\u001b[0m\u001b[0mwidth\u001b[0m\u001b[0;34m,\u001b[0m \u001b[0mwidth\u001b[0m \u001b[0;34m+\u001b[0m \u001b[0morig_freq\u001b[0m\u001b[0;34m)\u001b[0m\u001b[0;34m)\u001b[0m\u001b[0;34m\u001b[0m\u001b[0;34m\u001b[0m\u001b[0m\n\u001b[0;32m-> 1496\u001b[0;31m     \u001b[0mresampled\u001b[0m \u001b[0;34m=\u001b[0m \u001b[0mtorch\u001b[0m\u001b[0;34m.\u001b[0m\u001b[0mnn\u001b[0m\u001b[0;34m.\u001b[0m\u001b[0mfunctional\u001b[0m\u001b[0;34m.\u001b[0m\u001b[0mconv1d\u001b[0m\u001b[0;34m(\u001b[0m\u001b[0mwaveform\u001b[0m\u001b[0;34m[\u001b[0m\u001b[0;34m:\u001b[0m\u001b[0;34m,\u001b[0m \u001b[0;32mNone\u001b[0m\u001b[0;34m]\u001b[0m\u001b[0;34m,\u001b[0m \u001b[0mkernel\u001b[0m\u001b[0;34m,\u001b[0m \u001b[0mstride\u001b[0m\u001b[0;34m=\u001b[0m\u001b[0morig_freq\u001b[0m\u001b[0;34m)\u001b[0m\u001b[0;34m\u001b[0m\u001b[0;34m\u001b[0m\u001b[0m\n\u001b[0m\u001b[1;32m   1497\u001b[0m     \u001b[0mresampled\u001b[0m \u001b[0;34m=\u001b[0m \u001b[0mresampled\u001b[0m\u001b[0;34m.\u001b[0m\u001b[0mtranspose\u001b[0m\u001b[0;34m(\u001b[0m\u001b[0;36m1\u001b[0m\u001b[0;34m,\u001b[0m \u001b[0;36m2\u001b[0m\u001b[0;34m)\u001b[0m\u001b[0;34m.\u001b[0m\u001b[0mreshape\u001b[0m\u001b[0;34m(\u001b[0m\u001b[0mnum_wavs\u001b[0m\u001b[0;34m,\u001b[0m \u001b[0;34m-\u001b[0m\u001b[0;36m1\u001b[0m\u001b[0;34m)\u001b[0m\u001b[0;34m\u001b[0m\u001b[0;34m\u001b[0m\u001b[0m\n\u001b[1;32m   1498\u001b[0m     \u001b[0mtarget_length\u001b[0m \u001b[0;34m=\u001b[0m \u001b[0mint\u001b[0m\u001b[0;34m(\u001b[0m\u001b[0mmath\u001b[0m\u001b[0;34m.\u001b[0m\u001b[0mceil\u001b[0m\u001b[0;34m(\u001b[0m\u001b[0mnew_freq\u001b[0m \u001b[0;34m*\u001b[0m \u001b[0mlength\u001b[0m \u001b[0;34m/\u001b[0m \u001b[0morig_freq\u001b[0m\u001b[0;34m)\u001b[0m\u001b[0;34m)\u001b[0m\u001b[0;34m\u001b[0m\u001b[0;34m\u001b[0m\u001b[0m\n",
            "\u001b[0;31mRuntimeError\u001b[0m: expected scalar type Double but found Float"
          ]
        }
      ],
      "source": [
        "import numpy as np\n",
        "def record(seconds=1):\n",
        "\n",
        "    from google.colab import output as colab_output\n",
        "    from base64 import b64decode\n",
        "    from io import BytesIO\n",
        "    from pydub import AudioSegment\n",
        "\n",
        "    RECORD = (\n",
        "        b\"const sleep  = time => new Promise(resolve => setTimeout(resolve, time))\\n\"\n",
        "        b\"const b2text = blob => new Promise(resolve => {\\n\"\n",
        "        b\"  const reader = new FileReader()\\n\"\n",
        "        b\"  reader.onloadend = e => resolve(e.srcElement.result)\\n\"\n",
        "        b\"  reader.readAsDataURL(blob)\\n\"\n",
        "        b\"})\\n\"\n",
        "        b\"var record = time => new Promise(async resolve => {\\n\"\n",
        "        b\"  stream = await navigator.mediaDevices.getUserMedia({ audio: true })\\n\"\n",
        "        b\"  recorder = new MediaRecorder(stream)\\n\"\n",
        "        b\"  chunks = []\\n\"\n",
        "        b\"  recorder.ondataavailable = e => chunks.push(e.data)\\n\"\n",
        "        b\"  recorder.start()\\n\"\n",
        "        b\"  await sleep(time)\\n\"\n",
        "        b\"  recorder.onstop = async ()=>{\\n\"\n",
        "        b\"    blob = new Blob(chunks)\\n\"\n",
        "        b\"    text = await b2text(blob)\\n\"\n",
        "        b\"    resolve(text)\\n\"\n",
        "        b\"  }\\n\"\n",
        "        b\"  recorder.stop()\\n\"\n",
        "        b\"})\"\n",
        "    )\n",
        "    RECORD = RECORD.decode(\"ascii\")\n",
        "\n",
        "    print(f\"Recording started for {seconds} seconds.\")\n",
        "    display(ipd.Javascript(RECORD))\n",
        "    s = colab_output.eval_js(\"record(%d)\" % (seconds * 1000))\n",
        "    print(\"Recording ended.\")\n",
        "    b = b64decode(s.split(\",\")[1])\n",
        "\n",
        "    fileformat = \"wav\"\n",
        "    filename = f\"_audio.{fileformat}\"\n",
        "    AudioSegment.from_file(BytesIO(b)).export(filename, format=fileformat)\n",
        "    return torchaudio.load(filename)\n",
        "\n",
        "\n",
        "# Detect whether notebook runs in google colab\n",
        "# if \"google.colab\" in sys.modules:\n",
        "#     waveform, sample_rate = record()\n",
        "#     print(waveform.size())\n",
        "#     print(sample_rate)\n",
        "#     print(f\"Predicted: {predict(waveform)}.\")\n",
        "#     ipd.Audio(waveform.numpy(), rate=sample_rate)\n",
        "# print(waveform.numpy())\n",
        "if \"google.colab\" in sys.modules:\n",
        "    waveform, sample_rate = record()\n",
        "    print(waveform.size())\n",
        "    print(sample_rate)\n",
        "    a = np.array(waveform,dtype=float)  #此时a是二维的。[[ 0. 0.  0.  ... -0.32127649 -0.3088423 -0.30196005]]需要整成一维的\n",
        "    a1 = a.flatten()\n",
        "    # 遍历waveform 遇到index％6=0 便加入列表 最后列表搞成numpy格式 保存成waveform即可\n",
        "    print(len(a1))\n",
        "    print(a1)\n",
        "    wavs_list = []\n",
        "    for index,value in enumerate(a1):\n",
        "        if index %6 == 0:\n",
        "          wavs_list.append(value)\n",
        "    # print(wavs_list)\n",
        "    #将列表转换成numpy的格式\n",
        "    wave = np.array(wavs_list)\n",
        "    # print(wave)\n",
        "    #保存成waveform的格式\n",
        "    waveform01 = torch.from_numpy(wave)\n",
        "    b = np.array(waveform01,dtype=float)\n",
        "    print(len(b))\n",
        "    # print(type(waveform01))\n",
        "    # waveform01 = waveform01.view(1,7200)\n",
        "    print(waveform01.size())\n",
        "    # print(f\"Predicted: {predict(waveform01)}.\")\n",
        "    ipd.Audio(waveform01.numpy(), rate=new_sample_rate)\n",
        "# print(waveform01.numpy())\n",
        "# ipd.Audio(waveform01.numpy(), rate=new_sample_rate)\n",
        "ipd.Audio(waveform01.numpy(), rate=new_sample_rate)\n",
        "# print(f\"Predicted: {predict(waveform01)}.\")"
      ]
    },
    {
      "cell_type": "code",
      "source": [
        "!pip install torch"
      ],
      "metadata": {
        "colab": {
          "base_uri": "https://localhost:8080/"
        },
        "id": "HW5J-wIdEx6I",
        "outputId": "2780352c-4c84-412d-c287-3ed48c503797"
      },
      "execution_count": null,
      "outputs": [
        {
          "output_type": "stream",
          "name": "stdout",
          "text": [
            "Looking in indexes: https://pypi.org/simple, https://us-python.pkg.dev/colab-wheels/public/simple/\n",
            "Requirement already satisfied: torch in /usr/local/lib/python3.7/dist-packages (1.12.1+cu113)\n",
            "Requirement already satisfied: typing-extensions in /usr/local/lib/python3.7/dist-packages (from torch) (4.1.1)\n"
          ]
        }
      ]
    },
    {
      "cell_type": "code",
      "source": [
        "!ls\n",
        "data_waveform, rate_of_sample = torchaudio.load('/content/left2.wav')"
      ],
      "metadata": {
        "colab": {
          "base_uri": "https://localhost:8080/"
        },
        "id": "HPRVNiNUDxzx",
        "outputId": "4f2971aa-bd21-47f3-801c-32983f8100b8"
      },
      "execution_count": null,
      "outputs": [
        {
          "output_type": "stream",
          "name": "stdout",
          "text": [
            "_audio.wav  left.wav  sample_data     speech_commands_v0.02.tar.gz\n",
            "left2.wav   M5.pth    SpeechCommands\n"
          ]
        }
      ]
    },
    {
      "cell_type": "code",
      "source": [
        "from torch.utils import data\n",
        "data_waveform0 = data_waveform[0]\n",
        "print(data_waveform0)"
      ],
      "metadata": {
        "id": "0fgIxf9AhJ76",
        "outputId": "647cb781-b4b8-42ca-f548-1f944a5509b6",
        "colab": {
          "base_uri": "https://localhost:8080/"
        }
      },
      "execution_count": null,
      "outputs": [
        {
          "output_type": "stream",
          "name": "stdout",
          "text": [
            "tensor([-8.5449e-04, -9.1553e-04, -9.7656e-04,  ..., -2.1362e-04,\n",
            "        -3.0518e-05,  0.0000e+00])\n",
            "tensor([[-8.5449e-04, -9.1553e-04, -9.7656e-04,  ..., -2.1362e-04,\n",
            "         -3.0518e-05,  0.0000e+00]])\n"
          ]
        }
      ]
    },
    {
      "cell_type": "code",
      "source": [
        "data_waveform0_trans = data_waveform0.view(1,-1)\n",
        "print(data_waveform0_trans)"
      ],
      "metadata": {
        "id": "xism1RgOgoxQ",
        "outputId": "3fa36707-3039-4c99-a8b3-16348b338ec2",
        "colab": {
          "base_uri": "https://localhost:8080/"
        }
      },
      "execution_count": null,
      "outputs": [
        {
          "output_type": "stream",
          "name": "stdout",
          "text": [
            "tensor([[-8.5449e-04, -9.1553e-04, -9.7656e-04,  ..., -2.1362e-04,\n",
            "         -3.0518e-05,  0.0000e+00]])\n"
          ]
        }
      ]
    },
    {
      "cell_type": "code",
      "source": [
        "data_waveform0_trans.shape"
      ],
      "metadata": {
        "id": "r9wIrZsrg3RH",
        "outputId": "fea1e053-4ad2-4883-8f88-ffe9b090eaf2",
        "colab": {
          "base_uri": "https://localhost:8080/"
        }
      },
      "execution_count": null,
      "outputs": [
        {
          "output_type": "execute_result",
          "data": {
            "text/plain": [
              "torch.Size([1, 61376])"
            ]
          },
          "metadata": {},
          "execution_count": 109
        }
      ]
    },
    {
      "cell_type": "code",
      "source": [
        "len(data_waveform0)"
      ],
      "metadata": {
        "id": "uyWGNCUsg-Jc",
        "outputId": "26968d44-de3e-4609-e814-88c3c3650a9e",
        "colab": {
          "base_uri": "https://localhost:8080/"
        }
      },
      "execution_count": null,
      "outputs": [
        {
          "output_type": "execute_result",
          "data": {
            "text/plain": [
              "61376"
            ]
          },
          "metadata": {},
          "execution_count": 118
        }
      ]
    },
    {
      "cell_type": "code",
      "source": [
        "output = predict(data_waveform0_trans)"
      ],
      "metadata": {
        "id": "OQZ5K4pHhWYI"
      },
      "execution_count": null,
      "outputs": []
    },
    {
      "cell_type": "code",
      "source": [
        "print(output)"
      ],
      "metadata": {
        "id": "s_iQf8F7hb0U",
        "outputId": "9ffe7fa1-3a62-4053-e9ee-23b0ed4bdce1",
        "colab": {
          "base_uri": "https://localhost:8080/"
        }
      },
      "execution_count": null,
      "outputs": [
        {
          "output_type": "stream",
          "name": "stdout",
          "text": [
            "two\n"
          ]
        }
      ]
    },
    {
      "cell_type": "code",
      "source": [
        "ipd.Audio(data_waveform0_trans.numpy(), rate=sample_rate)"
      ],
      "metadata": {
        "id": "RqWZsHZV_pmj",
        "outputId": "ea87c858-a8db-4d65-eb94-64a8c40ab99d",
        "colab": {
          "base_uri": "https://localhost:8080/",
          "height": 75
        }
      },
      "execution_count": null,
      "outputs": [
        {
          "output_type": "execute_result",
          "data": {
            "text/plain": [
              "<IPython.lib.display.Audio object>"
            ],
            "text/html": [
              "\n",
              "                <audio  controls=\"controls\" >\n",
              "                    <source src=\"data:audio/wav;base64,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\" type=\"audio/wav\" />\n",
              "                    Your browser does not support the audio element.\n",
              "                </audio>\n",
              "              "
            ]
          },
          "metadata": {},
          "execution_count": 129
        }
      ]
    },
    {
      "cell_type": "code",
      "source": [
        "resampled_waveform = torchaudio.functional.resample(data_waveform, 44100, 16000, resampling_method=\"kaiser_window\")\n"
      ],
      "metadata": {
        "id": "kown_3C6nS-R"
      },
      "execution_count": null,
      "outputs": []
    },
    {
      "cell_type": "code",
      "source": [
        "output = predict(resampled_waveform)"
      ],
      "metadata": {
        "id": "MiUS3QbNnaHr"
      },
      "execution_count": null,
      "outputs": []
    },
    {
      "cell_type": "code",
      "source": [
        "print(output)"
      ],
      "metadata": {
        "id": "8dxBW6JdneDZ",
        "outputId": "102f1a14-2c97-494f-a18a-9518d305e67a",
        "colab": {
          "base_uri": "https://localhost:8080/"
        }
      },
      "execution_count": null,
      "outputs": [
        {
          "output_type": "stream",
          "name": "stdout",
          "text": [
            "right\n"
          ]
        }
      ]
    },
    {
      "cell_type": "code",
      "source": [
        "ipd.Audio(resampled_waveform.numpy(), rate=sample_rate)\n"
      ],
      "metadata": {
        "id": "NZIgRzxV-ywb",
        "outputId": "768bf59d-5548-4ac7-e957-dd374a0c563b",
        "colab": {
          "base_uri": "https://localhost:8080/",
          "height": 75
        }
      },
      "execution_count": null,
      "outputs": [
        {
          "output_type": "execute_result",
          "data": {
            "text/plain": [
              "<IPython.lib.display.Audio object>"
            ],
            "text/html": [
              "\n",
              "                <audio  controls=\"controls\" >\n",
              "                    <source src=\"data:audio/wav;base64,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\" type=\"audio/wav\" />\n",
              "                    Your browser does not support the audio element.\n",
              "                </audio>\n",
              "              "
            ]
          },
          "metadata": {},
          "execution_count": 117
        }
      ]
    },
    {
      "cell_type": "code",
      "source": [
        "import numpy as np\n",
        "print(waveform)\n",
        "a = np.array(waveform,dtype=float)\n",
        "# 遍历waveform 遇到index％6=0 便加入列表 最后列表搞成numpy格式 保存成waveform即可\n",
        "print(len(a[0]))\n",
        "wavs_list = []\n",
        "for index,value in enumerate(a):\n",
        "    if index %6 == 0:\n",
        "      wavs_list.append(value)\n",
        "print(wavs_list)\n",
        "#将列表转换成numpy的格式\n",
        "wave = np.array(wavs_list)\n",
        "print(wave)\n",
        "#保存成waveform的格式\n",
        "waveform01 = torch.tensor(wave)\n",
        "b = np.array(waveform01,dtype=float)\n",
        "print(len(b[0]))\n",
        "print(type(waveform01))\n",
        "print(waveform01)\n",
        "ipd.Audio(waveform01.numpy(), rate=new_sample_rate)\n",
        "# print(f\"Predicted: {predict(waveform01)}.\")"
      ],
      "metadata": {
        "id": "IIxRbryGDsyt"
      },
      "execution_count": null,
      "outputs": []
    },
    {
      "cell_type": "code",
      "source": [
        "import wave as we\n",
        "\n",
        "filename = '/content/_audio.wav'\n",
        "\n",
        "WAVE = we.open(filename)\n",
        "for item in enumerate(WAVE.getparams()):\n",
        "    print(item)  #输出信息（声道，采样宽度，帧速率，帧数，唯一标识，无损）"
      ],
      "metadata": {
        "id": "4Y3hFJKgeR1Y"
      },
      "execution_count": null,
      "outputs": []
    },
    {
      "cell_type": "markdown",
      "source": [
        "对waveform进行操作"
      ],
      "metadata": {
        "id": "1ARWN8QEtAt_"
      }
    },
    {
      "cell_type": "code",
      "source": [
        "!pip install AudioSegment"
      ],
      "metadata": {
        "id": "DF7FX6BG3bkt"
      },
      "execution_count": null,
      "outputs": []
    },
    {
      "cell_type": "code",
      "source": [
        "# from pydub import AudioSegment\n",
        "\n",
        "# # wav_data = AudioSegment.from_wav('/content/_audio.wav')  #可以获得音频的 pcm 数据，即一个数组\n",
        "# # wav_seg = wav_data[:] #来获取音频片段\n",
        "# # ipd.Audio(audio_concat.numpy(), rate=new_sample_rate)\n",
        "# #求出需要对 waveform 进行多少比值的降低\n",
        "# rate = sample_rate / new_sample_rate\n",
        "\n",
        "# wavs_list = []\n",
        "# if waveform % rate == 0:  #报错，具有多个值的张量的布尔值不明确\n",
        "#   wavs_list.append(waveform) #此时的waveform 是一个零散的值 需要进行拼接，\n",
        "# audio_concat = AudioSegment.empty()  #AudioSegment.empty()用于生成一个长度为0的AudioSegment对象，一般用于多个音频的合并。\n",
        "# for wav in wavs_list:\n",
        "#   audio_concat += wav\n",
        "# ipd.Audio(audio_concat.numpy(), rate=new_sample_rate)"
      ],
      "metadata": {
        "id": "shtn2D_DtNV3"
      },
      "execution_count": null,
      "outputs": []
    },
    {
      "cell_type": "code",
      "source": [
        "import wave\n",
        "import struct\n",
        "from pydub import AudioSegment\n",
        "\n",
        "wave_file=wave.open(\"/content/_audio.wav\", 'r')\n",
        "print(type(wave_file))\n",
        "channels=wave_file.getnchannels()#声道数\n",
        "samp_width=wave_file.getsampwidth()#采样大小\n",
        "sample_rate=wave_file.getframerate()#帧率\n",
        "numframes=wave_file.getnframes()#总帧数\n",
        "\n",
        "print(\"channel\",channels)#声道数\n",
        "print('samp_width',samp_width)#采样大小2B 16bit\n",
        "print('sample_rate',sample_rate)#8000 帧率8000fps\n",
        "print('numframes',numframes)#总帧数=帧率*时间=8000fps*10s=80000f\n"
      ],
      "metadata": {
        "id": "yrpATB_-paSN"
      },
      "execution_count": null,
      "outputs": []
    },
    {
      "cell_type": "code",
      "source": [
        "waveform_single = waveform[:, :waveform.shape[1]//2] #双通道转单通道 但是我这个是单声道"
      ],
      "metadata": {
        "id": "GlQ_B4pJB5ld"
      },
      "execution_count": null,
      "outputs": []
    },
    {
      "cell_type": "code",
      "source": [
        "import torch.onnx \n",
        "#Function to Convert to ONNX \n",
        "def Convert_ONNX(): \n",
        "    # set the model to inference mode \n",
        "    model.eval() \n",
        "    # Let's create a dummy input tensor  \n",
        "    dummy_input = torch.randn(1,1,8000)  \n",
        "    # Export the model   \n",
        "    torch.onnx.export(model,         # model being run \n",
        "         dummy_input,       # model input (or a tuple for multiple inputs) \n",
        "         \"M5.onnx\",       # where to save the model  \n",
        "         export_params=True,  # store the trained parameter weights inside the model file \n",
        "         opset_version=10,    # the ONNX version to export the model to \n",
        "         do_constant_folding=True,  # whether to execute constant folding for optimization \n",
        "         input_names = ['modelInput'],   # the model's input names \n",
        "         output_names = ['modelOutput'], # the model's output names \n",
        "         dynamic_axes={'modelInput' : {0 : 'batch_size'},    # variable length axes \n",
        "                                'modelOutput' : {0 : 'batch_size'}}) \n",
        "    print(\" \") \n",
        "    print('Model has been converted to ONNX')\n",
        "if __name__ == \"__main__\": \n",
        "    model = M5() \n",
        "    path = \"/content/M5.pth\" \n",
        "    torch.load(path)\n",
        "    Convert_ONNX()"
      ],
      "metadata": {
        "id": "y3VrZnHQXftk"
      },
      "execution_count": null,
      "outputs": []
    },
    {
      "cell_type": "markdown",
      "source": [
        "用onnx进行预测"
      ],
      "metadata": {
        "id": "JVpdWHDC3PfK"
      }
    },
    {
      "cell_type": "code",
      "source": [
        "!pip install onnx"
      ],
      "metadata": {
        "id": "OXMP_fgr3hDP"
      },
      "execution_count": null,
      "outputs": []
    },
    {
      "cell_type": "code",
      "source": [
        "import onnx\n",
        "\n",
        "onnx_model = onnx.load(\"/content/M5.onnx\")\n",
        "onnx.checker.check_model(onnx_model)\n",
        "\n"
      ],
      "metadata": {
        "id": "prh79loC3SPL"
      },
      "execution_count": null,
      "outputs": []
    },
    {
      "cell_type": "code",
      "source": [
        "!pip install onnxruntime"
      ],
      "metadata": {
        "id": "vobubFhJ3zHN"
      },
      "execution_count": null,
      "outputs": []
    },
    {
      "cell_type": "code",
      "source": [
        "import onnxruntime\n",
        "\n",
        "ort_session = onnxruntime.InferenceSession(\"/content/M5.onnx\")\n",
        "\n",
        "def to_numpy(tensor):\n",
        "    return tensor.detach().cpu().numpy() if tensor.requires_grad else tensor.cpu().numpy()\n",
        "\n",
        "# compute ONNX Runtime output prediction\n",
        "dummy_input = torch.randn(1,1,8000)  \n",
        "ort_inputs = {ort_session.get_inputs()[0].name: to_numpy(dummy_input)}\n",
        "ort_outs = ort_session.run(None, ort_inputs)\n",
        "\n"
      ],
      "metadata": {
        "id": "VN91JEEU3xPs"
      },
      "execution_count": null,
      "outputs": []
    },
    {
      "cell_type": "code",
      "source": [
        "!pip install numpy"
      ],
      "metadata": {
        "id": "_oAAIfNa6DsN"
      },
      "execution_count": null,
      "outputs": []
    },
    {
      "cell_type": "code",
      "source": [
        "# compare ONNX Runtime and PyTorch results\n",
        "import numpy as np\n",
        "torch_out = model(dummy_input)\n",
        "np.testing.assert_allclose(to_numpy(torch_out), ort_outs[0], rtol=1e-03, atol=1e-05)\n",
        "print(\"Exported model has been tested with ONNXRuntime, and the result looks good!\")\n",
        "\n"
      ],
      "metadata": {
        "id": "dKa15-fL4RhI"
      },
      "execution_count": null,
      "outputs": []
    },
    {
      "cell_type": "markdown",
      "metadata": {
        "id": "rKQRBUB3SPHu"
      },
      "source": [
        "## Conclusion\n",
        "\n",
        "In this tutorial, we used torchaudio to load a dataset and resample the\n",
        "signal. We have then defined a neural network that we trained to\n",
        "recognize a given command. There are also other data preprocessing\n",
        "methods, such as finding the mel frequency cepstral coefficients (MFCC),\n",
        "that can reduce the size of the dataset. This transform is also\n",
        "available in torchaudio as ``torchaudio.transforms.MFCC``.\n",
        "\n",
        "\n"
      ]
    }
  ],
  "metadata": {
    "kernelspec": {
      "display_name": "Python 3",
      "language": "python",
      "name": "python3"
    },
    "language_info": {
      "codemirror_mode": {
        "name": "ipython",
        "version": 3
      },
      "file_extension": ".py",
      "mimetype": "text/x-python",
      "name": "python",
      "nbconvert_exporter": "python",
      "pygments_lexer": "ipython3",
      "version": "3.10.4"
    },
    "colab": {
      "provenance": [],
      "include_colab_link": true
    },
    "accelerator": "GPU",
    "gpuClass": "standard"
  },
  "nbformat": 4,
  "nbformat_minor": 0
}